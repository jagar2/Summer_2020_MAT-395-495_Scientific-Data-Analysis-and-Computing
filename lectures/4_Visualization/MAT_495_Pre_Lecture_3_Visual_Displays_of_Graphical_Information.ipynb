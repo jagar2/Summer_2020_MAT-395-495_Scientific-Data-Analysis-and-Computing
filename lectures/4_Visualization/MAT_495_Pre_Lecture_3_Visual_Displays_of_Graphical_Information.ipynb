{
  "nbformat": 4,
  "nbformat_minor": 0,
  "metadata": {
    "colab": {
      "name": "PreLecture_MAT_495_Visual_Displays_of_Graphical_Information_2",
      "provenance": [],
      "collapsed_sections": [
        "C3AVXktropQT",
        "yfttWnj-TT0L"
      ]
    },
    "kernelspec": {
      "name": "python3",
      "display_name": "Python 3"
    }
  },
  "cells": [
    {
      "cell_type": "markdown",
      "metadata": {
        "colab_type": "text",
        "id": "j_qxlM46opQY"
      },
      "source": [
        "# Graphical Integrity"
      ]
    },
    {
      "cell_type": "markdown",
      "metadata": {
        "colab_type": "text",
        "id": "8ayJKno-opQc"
      },
      "source": [
        "# Color scales"
      ]
    },
    {
      "cell_type": "markdown",
      "metadata": {
        "id": "QC9fwFQZZy_0",
        "colab_type": "text"
      },
      "source": [
        "# More details about perceptually correct colormaps"
      ]
    },
    {
      "cell_type": "markdown",
      "metadata": {
        "colab_type": "text",
        "id": "cI28x-YeopQl"
      },
      "source": [
        "# Choosing Colors for your Figures"
      ]
    },
    {
      "cell_type": "markdown",
      "metadata": {
        "colab_type": "text",
        "id": "U5aFUWM5opQo"
      },
      "source": [
        "# Types of Graphs"
      ]
    },
    {
      "cell_type": "markdown",
      "metadata": {
        "id": "ufMImc2LZy_9",
        "colab_type": "text"
      },
      "source": [
        "# Violin Plots\n",
        "* Like a box plot but provides a deeper understanding of data density\n",
        "* Good when you have large datasets"
      ]
    },
    {
      "cell_type": "markdown",
      "metadata": {
        "id": "x9eab9CXZzAA",
        "colab_type": "text"
      },
      "source": [
        "# 2D Density Plot\n",
        "* Used to compare 2D quantitative information\n",
        "* Good for small data sets\n",
        "* When the density of data is high (shouldn't use a scatter plot)"
      ]
    },
    {
      "cell_type": "markdown",
      "metadata": {
        "id": "s9A5MJ3eZzAC",
        "colab_type": "text"
      },
      "source": [
        "# Correlogram\n",
        "A correlogram or correlation matrix allows to analyse the relationship between each pair of numerical variables of a matrix."
      ]
    },
    {
      "cell_type": "markdown",
      "metadata": {
        "id": "6p7tgK9nZzAF",
        "colab_type": "text"
      },
      "source": [
        "# Dendrogram\n",
        "* A dendrogram or tree diagram allows to illustrate the hierarchical organisation of several entities."
      ]
    },
    {
      "cell_type": "markdown",
      "metadata": {
        "id": "LEWvfPzBZzAH",
        "colab_type": "text"
      },
      "source": [
        "# Graph Structures\n",
        "* Show interconnections between a set of entities. \n",
        "* Each entity is represented by a Node (or vertices). \n",
        "* Connection between nodes are represented through links (or edges).\n",
        "* Directed or undirected, weighted or unweighted."
      ]
    },
    {
      "cell_type": "markdown",
      "metadata": {
        "colab_type": "text",
        "id": "Y9CDzbKIopQ6"
      },
      "source": [
        "# Guiding Principles"
      ]
    },
    {
      "cell_type": "markdown",
      "metadata": {
        "colab_type": "text",
        "id": "bTdkDQmyopRN"
      },
      "source": [
        "# WTF Graphs"
      ]
    },
    {
      "cell_type": "markdown",
      "metadata": {
        "id": "fHJ7OuYfkDPK",
        "colab_type": "text"
      },
      "source": [
        "# Interactive Visualization Platforms\n",
        "\n",
        "[Matplotlib](https://matplotlib.org/3.1.1/users/interactive.html) - There are options in matplotlib but they are not well developed\n",
        "\n",
        "[Bokeh](https://docs.bokeh.org/en/latest/index.html) - Interactive visualization on the web\n",
        "\n",
        "[Plotly](https://plotly.com/python/) - Rich high-level interactive visualization platform\n",
        "\n",
        "[mpld3](http://mpld3.github.io/) - Javascript converted for matplotlib graphs"
      ]
    },
    {
      "cell_type": "markdown",
      "metadata": {
        "id": "-wrmcCPitLu5",
        "colab_type": "text"
      },
      "source": [
        "## What is Bokeh\n",
        "\n"
      ]
    },
    {
      "cell_type": "markdown",
      "metadata": {
        "id": "MPj7BTTrthYz",
        "colab_type": "text"
      },
      "source": [
        "# Imports and Setup\n"
      ]
    },
    {
      "cell_type": "markdown",
      "metadata": {
        "id": "gWaZflx0uHqk",
        "colab_type": "text"
      },
      "source": [
        "\n",
        "# Scatter Plots\n",
        "\n"
      ]
    },
    {
      "cell_type": "markdown",
      "metadata": {
        "id": "VUA7HRBzv9ZA",
        "colab_type": "text"
      },
      "source": [
        "# Linked Interactions\n"
      ]
    },
    {
      "cell_type": "markdown",
      "metadata": {
        "id": "mh5o3aEDv9ZR",
        "colab_type": "text"
      },
      "source": [
        "# Widgets"
      ]
    },
    {
      "cell_type": "markdown",
      "metadata": {
        "id": "R7hf_bR9v9ZX",
        "colab_type": "text"
      },
      "source": [
        "# CustomJS Callbacks\n"
      ]
    },
    {
      "cell_type": "markdown",
      "metadata": {
        "id": "ka2HHij3v9Zt",
        "colab_type": "text"
      },
      "source": [
        "## Additional Information\n",
        "\n",
        "There are many kinds of interactions and events that can be connected to `CustomJS` callbacks. \n",
        "\n",
        "\n",
        "* Widgets - Button, Toggle, Dropdown, TextInput, AutocompleteInput, Select, Multiselect, Slider, (DateRangeSlider), DatePicker,\n",
        "* Tools - TapTool, BoxSelectTool, HoverTool,\n",
        "* Selection - ColumnDataSource, AjaxDataSource, BlazeDataSource, ServerDataSource\n",
        "* Ranges - Range1d, DataRange1d, FactorRange\n",
        "\n",
        "\n",
        "For more complete examples the User Guide section on [JavaScript Interactions](https://bokeh.pydata.org/en/latest/docs/user_guide/interaction.html)"
      ]
    },
    {
      "cell_type": "markdown",
      "metadata": {
        "id": "nEyGsWqCzsEY",
        "colab_type": "text"
      },
      "source": [
        "# Fully Customizable Graphical User Interfaces\n",
        "\n",
        "* This cannot be done inside of google collab "
      ]
    },
    {
      "cell_type": "markdown",
      "metadata": {
        "id": "sMY03y6r-pFS",
        "colab_type": "text"
      },
      "source": [
        "[Tkinter](https://docs.python.org/3/library/tkinter.html) - Python interface for TK a base graphical user interface program\n",
        "\n",
        "[PyQT](https://build-system.fman.io/pyqt5-tutorial) - A GUI front-end developed in Python for QT a GUI software written in C++\n",
        "\n",
        "[PyQTGraph](http://www.pyqtgraph.org/) - A wrapper around PyQT with easy graph intergration\n",
        "\n",
        "[Kivy](https://kivy.org/#home) - Cross platform GUI development with multitouch capabilities\n"
      ]
    },
    {
      "cell_type": "markdown",
      "metadata": {
        "id": "yfttWnj-TT0L",
        "colab_type": "text"
      },
      "source": [
        "# Assignment 6: \n",
        "\n",
        "Take the figure you made for Assigment 5 and make it interactive using one of the packages discussed in class. Make sure to add one interactive and responsive element. This could be as simple as changing the marker shape or color, or changing the scale of the axis. "
      ]
    }
  ]
}