{
  "nbformat": 4,
  "nbformat_minor": 0,
  "metadata": {
    "colab": {
      "name": "PreLecture_MAT_495_Visual_Displays_of_Graphical_Information_2",
      "provenance": [],
      "collapsed_sections": [
        "C3AVXktropQT",
        "yfttWnj-TT0L"
      ]
    },
    "kernelspec": {
      "name": "python3",
      "display_name": "Python 3"
    }
  },
  "cells": [
    {
      "cell_type": "markdown",
      "metadata": {
        "id": "pgJJLX1SG2qx",
        "colab_type": "text"
      },
      "source": [
        "# Matplotlib"
      ]
    },
    {
      "cell_type": "markdown",
      "metadata": {
        "id": "XXwIlyCUMknl",
        "colab_type": "text"
      },
      "source": [
        "## Working with Multiple Figures"
      ]
    },
    {
      "cell_type": "code",
      "metadata": {
        "id": "LP81RpO4VNyX",
        "colab_type": "code",
        "colab": {
          "base_uri": "https://localhost:8080/",
          "height": 1000
        },
        "outputId": "4615060e-e185-4d26-f957-778b09eba302"
      },
      "source": [
        "# installs wget for downloading files\n",
        "!pip install wget\n",
        "\n",
        "# install pycroscopy for loading ibw files\n",
        "!pip install pycroscopy\n",
        "\n",
        "# installs ncempy for loading dm3 files\n",
        "!pip install ncempy"
      ],
      "execution_count": 1,
      "outputs": [
        {
          "output_type": "stream",
          "text": [
            "Collecting wget\n",
            "  Downloading https://files.pythonhosted.org/packages/47/6a/62e288da7bcda82b935ff0c6cfe542970f04e29c756b0e147251b2fb251f/wget-3.2.zip\n",
            "Building wheels for collected packages: wget\n",
            "  Building wheel for wget (setup.py) ... \u001b[?25l\u001b[?25hdone\n",
            "  Created wheel for wget: filename=wget-3.2-cp36-none-any.whl size=9682 sha256=fc88c36e37b6538ba837a8e338ad96dd1c937b8eef0d29d22e455ab918eba4ad\n",
            "  Stored in directory: /root/.cache/pip/wheels/40/15/30/7d8f7cea2902b4db79e3fea550d7d7b85ecb27ef992b618f3f\n",
            "Successfully built wget\n",
            "Installing collected packages: wget\n",
            "Successfully installed wget-3.2\n",
            "Collecting pycroscopy\n",
            "\u001b[?25l  Downloading https://files.pythonhosted.org/packages/12/4a/2e7b8fbb1fad6b3be1fcbcd9127d773da89c2250a67162098c3a978b19c8/pycroscopy-0.60.6-py2.py3-none-any.whl (345kB)\n",
            "\u001b[K     |████████████████████████████████| 348kB 2.8MB/s \n",
            "\u001b[?25hRequirement already satisfied: psutil in /usr/local/lib/python3.6/dist-packages (from pycroscopy) (5.4.8)\n",
            "Collecting ipython>=6.0; python_version >= \"3.3\"\n",
            "\u001b[?25l  Downloading https://files.pythonhosted.org/packages/23/6a/210816c943c9aeeb29e4e18a298f14bf0e118fe222a23e13bfcc2d41b0a4/ipython-7.16.1-py3-none-any.whl (785kB)\n",
            "\u001b[K     |████████████████████████████████| 788kB 12.2MB/s \n",
            "\u001b[?25hCollecting gwyfile\n",
            "  Downloading https://files.pythonhosted.org/packages/28/a8/7e1f5105cbf8200705f130545c9ad54592c52c34717609f87570e5a5e2af/gwyfile-0.2.0-py2.py3-none-any.whl\n",
            "Requirement already satisfied: numpy>=1.13.0 in /usr/local/lib/python3.6/dist-packages (from pycroscopy) (1.18.5)\n",
            "Requirement already satisfied: ipywidgets>=5.2.2 in /usr/local/lib/python3.6/dist-packages (from pycroscopy) (7.5.1)\n",
            "Collecting numpy-groupies==0.9.7\n",
            "  Downloading https://files.pythonhosted.org/packages/4c/18/e5c4c6d12ef8740106d29ea78bad2c1d218e61caa735513d3491a3a1d837/numpy_groupies-0.9.7.tar.gz\n",
            "Requirement already satisfied: scikit-learn>=0.17.1 in /usr/local/lib/python3.6/dist-packages (from pycroscopy) (0.22.2.post1)\n",
            "Requirement already satisfied: matplotlib>=2.0.0 in /usr/local/lib/python3.6/dist-packages (from pycroscopy) (3.2.2)\n",
            "Requirement already satisfied: xlrd>=1.0.0 in /usr/local/lib/python3.6/dist-packages (from pycroscopy) (1.1.0)\n",
            "Collecting igor\n",
            "\u001b[?25l  Downloading https://files.pythonhosted.org/packages/be/f2/ad4b0027e58c78958b40d9da54e5674a9e851207a9b61e5edd4112f154ec/igor-0.3.tar.gz (51kB)\n",
            "\u001b[K     |████████████████████████████████| 61kB 7.7MB/s \n",
            "\u001b[?25hRequirement already satisfied: scipy>=0.17.1 in /usr/local/lib/python3.6/dist-packages (from pycroscopy) (1.4.1)\n",
            "Requirement already satisfied: h5py>=2.6.0 in /usr/local/lib/python3.6/dist-packages (from pycroscopy) (2.10.0)\n",
            "Requirement already satisfied: joblib>=0.11.0 in /usr/local/lib/python3.6/dist-packages (from pycroscopy) (0.16.0)\n",
            "Requirement already satisfied: scikit-image>=0.12.3 in /usr/local/lib/python3.6/dist-packages (from pycroscopy) (0.16.2)\n",
            "Collecting pyUSID>=0.0.8\n",
            "\u001b[?25l  Downloading https://files.pythonhosted.org/packages/9d/5e/24176ac8b29b0d840d78b8e3fe864d3a1a61fa4f069f381fc9744905ee64/pyUSID-0.0.8.1.tar.gz (148kB)\n",
            "\u001b[K     |████████████████████████████████| 153kB 13.8MB/s \n",
            "\u001b[?25hRequirement already satisfied: six in /usr/local/lib/python3.6/dist-packages (from pycroscopy) (1.12.0)\n",
            "Requirement already satisfied: pillow in /usr/local/lib/python3.6/dist-packages (from pycroscopy) (7.0.0)\n",
            "Requirement already satisfied: traitlets>=4.2 in /usr/local/lib/python3.6/dist-packages (from ipython>=6.0; python_version >= \"3.3\"->pycroscopy) (4.3.3)\n",
            "Requirement already satisfied: pexpect; sys_platform != \"win32\" in /usr/local/lib/python3.6/dist-packages (from ipython>=6.0; python_version >= \"3.3\"->pycroscopy) (4.8.0)\n",
            "Requirement already satisfied: decorator in /usr/local/lib/python3.6/dist-packages (from ipython>=6.0; python_version >= \"3.3\"->pycroscopy) (4.4.2)\n",
            "Requirement already satisfied: jedi>=0.10 in /usr/local/lib/python3.6/dist-packages (from ipython>=6.0; python_version >= \"3.3\"->pycroscopy) (0.17.1)\n",
            "Requirement already satisfied: backcall in /usr/local/lib/python3.6/dist-packages (from ipython>=6.0; python_version >= \"3.3\"->pycroscopy) (0.2.0)\n",
            "Requirement already satisfied: setuptools>=18.5 in /usr/local/lib/python3.6/dist-packages (from ipython>=6.0; python_version >= \"3.3\"->pycroscopy) (49.1.0)\n",
            "Requirement already satisfied: pygments in /usr/local/lib/python3.6/dist-packages (from ipython>=6.0; python_version >= \"3.3\"->pycroscopy) (2.1.3)\n",
            "Collecting prompt-toolkit!=3.0.0,!=3.0.1,<3.1.0,>=2.0.0\n",
            "\u001b[?25l  Downloading https://files.pythonhosted.org/packages/e4/a7/81b39aa50e9284fe2cb21cc7fb7de7817b224172d42793fd57451d38842b/prompt_toolkit-3.0.5-py3-none-any.whl (351kB)\n",
            "\u001b[K     |████████████████████████████████| 358kB 13.7MB/s \n",
            "\u001b[?25hRequirement already satisfied: pickleshare in /usr/local/lib/python3.6/dist-packages (from ipython>=6.0; python_version >= \"3.3\"->pycroscopy) (0.7.5)\n",
            "Requirement already satisfied: ipykernel>=4.5.1 in /usr/local/lib/python3.6/dist-packages (from ipywidgets>=5.2.2->pycroscopy) (4.10.1)\n",
            "Requirement already satisfied: nbformat>=4.2.0 in /usr/local/lib/python3.6/dist-packages (from ipywidgets>=5.2.2->pycroscopy) (5.0.7)\n",
            "Requirement already satisfied: widgetsnbextension~=3.5.0 in /usr/local/lib/python3.6/dist-packages (from ipywidgets>=5.2.2->pycroscopy) (3.5.1)\n",
            "Requirement already satisfied: kiwisolver>=1.0.1 in /usr/local/lib/python3.6/dist-packages (from matplotlib>=2.0.0->pycroscopy) (1.2.0)\n",
            "Requirement already satisfied: cycler>=0.10 in /usr/local/lib/python3.6/dist-packages (from matplotlib>=2.0.0->pycroscopy) (0.10.0)\n",
            "Requirement already satisfied: python-dateutil>=2.1 in /usr/local/lib/python3.6/dist-packages (from matplotlib>=2.0.0->pycroscopy) (2.8.1)\n",
            "Requirement already satisfied: pyparsing!=2.0.4,!=2.1.2,!=2.1.6,>=2.0.1 in /usr/local/lib/python3.6/dist-packages (from matplotlib>=2.0.0->pycroscopy) (2.4.7)\n",
            "Requirement already satisfied: networkx>=2.0 in /usr/local/lib/python3.6/dist-packages (from scikit-image>=0.12.3->pycroscopy) (2.4)\n",
            "Requirement already satisfied: imageio>=2.3.0 in /usr/local/lib/python3.6/dist-packages (from scikit-image>=0.12.3->pycroscopy) (2.4.1)\n",
            "Requirement already satisfied: PyWavelets>=0.4.0 in /usr/local/lib/python3.6/dist-packages (from scikit-image>=0.12.3->pycroscopy) (1.1.1)\n",
            "Requirement already satisfied: toolz in /usr/local/lib/python3.6/dist-packages (from pyUSID>=0.0.8->pycroscopy) (0.10.0)\n",
            "Collecting cytoolz\n",
            "\u001b[?25l  Downloading https://files.pythonhosted.org/packages/62/b1/7f16703fe4a497879b1b457adf1e472fad2d4f030477698b16d2febf38bb/cytoolz-0.10.1.tar.gz (475kB)\n",
            "\u001b[K     |████████████████████████████████| 481kB 16.4MB/s \n",
            "\u001b[?25hRequirement already satisfied: dask>=0.10 in /usr/local/lib/python3.6/dist-packages (from pyUSID>=0.0.8->pycroscopy) (2.12.0)\n",
            "Requirement already satisfied: ipython-genutils in /usr/local/lib/python3.6/dist-packages (from traitlets>=4.2->ipython>=6.0; python_version >= \"3.3\"->pycroscopy) (0.2.0)\n",
            "Requirement already satisfied: ptyprocess>=0.5 in /usr/local/lib/python3.6/dist-packages (from pexpect; sys_platform != \"win32\"->ipython>=6.0; python_version >= \"3.3\"->pycroscopy) (0.6.0)\n",
            "Requirement already satisfied: parso<0.8.0,>=0.7.0 in /usr/local/lib/python3.6/dist-packages (from jedi>=0.10->ipython>=6.0; python_version >= \"3.3\"->pycroscopy) (0.7.0)\n",
            "Requirement already satisfied: wcwidth in /usr/local/lib/python3.6/dist-packages (from prompt-toolkit!=3.0.0,!=3.0.1,<3.1.0,>=2.0.0->ipython>=6.0; python_version >= \"3.3\"->pycroscopy) (0.2.5)\n",
            "Requirement already satisfied: jupyter-client in /usr/local/lib/python3.6/dist-packages (from ipykernel>=4.5.1->ipywidgets>=5.2.2->pycroscopy) (5.3.5)\n",
            "Requirement already satisfied: tornado>=4.0 in /usr/local/lib/python3.6/dist-packages (from ipykernel>=4.5.1->ipywidgets>=5.2.2->pycroscopy) (4.5.3)\n",
            "Requirement already satisfied: jupyter-core in /usr/local/lib/python3.6/dist-packages (from nbformat>=4.2.0->ipywidgets>=5.2.2->pycroscopy) (4.6.3)\n",
            "Requirement already satisfied: jsonschema!=2.5.0,>=2.4 in /usr/local/lib/python3.6/dist-packages (from nbformat>=4.2.0->ipywidgets>=5.2.2->pycroscopy) (2.6.0)\n",
            "Requirement already satisfied: notebook>=4.4.1 in /usr/local/lib/python3.6/dist-packages (from widgetsnbextension~=3.5.0->ipywidgets>=5.2.2->pycroscopy) (5.2.2)\n",
            "Requirement already satisfied: pyzmq>=13 in /usr/local/lib/python3.6/dist-packages (from jupyter-client->ipykernel>=4.5.1->ipywidgets>=5.2.2->pycroscopy) (19.0.1)\n",
            "Requirement already satisfied: jinja2 in /usr/local/lib/python3.6/dist-packages (from notebook>=4.4.1->widgetsnbextension~=3.5.0->ipywidgets>=5.2.2->pycroscopy) (2.11.2)\n",
            "Requirement already satisfied: terminado>=0.3.3; sys_platform != \"win32\" in /usr/local/lib/python3.6/dist-packages (from notebook>=4.4.1->widgetsnbextension~=3.5.0->ipywidgets>=5.2.2->pycroscopy) (0.8.3)\n",
            "Requirement already satisfied: nbconvert in /usr/local/lib/python3.6/dist-packages (from notebook>=4.4.1->widgetsnbextension~=3.5.0->ipywidgets>=5.2.2->pycroscopy) (5.6.1)\n",
            "Requirement already satisfied: MarkupSafe>=0.23 in /usr/local/lib/python3.6/dist-packages (from jinja2->notebook>=4.4.1->widgetsnbextension~=3.5.0->ipywidgets>=5.2.2->pycroscopy) (1.1.1)\n",
            "Requirement already satisfied: entrypoints>=0.2.2 in /usr/local/lib/python3.6/dist-packages (from nbconvert->notebook>=4.4.1->widgetsnbextension~=3.5.0->ipywidgets>=5.2.2->pycroscopy) (0.3)\n",
            "Requirement already satisfied: mistune<2,>=0.8.1 in /usr/local/lib/python3.6/dist-packages (from nbconvert->notebook>=4.4.1->widgetsnbextension~=3.5.0->ipywidgets>=5.2.2->pycroscopy) (0.8.4)\n",
            "Requirement already satisfied: bleach in /usr/local/lib/python3.6/dist-packages (from nbconvert->notebook>=4.4.1->widgetsnbextension~=3.5.0->ipywidgets>=5.2.2->pycroscopy) (3.1.5)\n",
            "Requirement already satisfied: defusedxml in /usr/local/lib/python3.6/dist-packages (from nbconvert->notebook>=4.4.1->widgetsnbextension~=3.5.0->ipywidgets>=5.2.2->pycroscopy) (0.6.0)\n",
            "Requirement already satisfied: pandocfilters>=1.4.1 in /usr/local/lib/python3.6/dist-packages (from nbconvert->notebook>=4.4.1->widgetsnbextension~=3.5.0->ipywidgets>=5.2.2->pycroscopy) (1.4.2)\n",
            "Requirement already satisfied: testpath in /usr/local/lib/python3.6/dist-packages (from nbconvert->notebook>=4.4.1->widgetsnbextension~=3.5.0->ipywidgets>=5.2.2->pycroscopy) (0.4.4)\n",
            "Requirement already satisfied: packaging in /usr/local/lib/python3.6/dist-packages (from bleach->nbconvert->notebook>=4.4.1->widgetsnbextension~=3.5.0->ipywidgets>=5.2.2->pycroscopy) (20.4)\n",
            "Requirement already satisfied: webencodings in /usr/local/lib/python3.6/dist-packages (from bleach->nbconvert->notebook>=4.4.1->widgetsnbextension~=3.5.0->ipywidgets>=5.2.2->pycroscopy) (0.5.1)\n",
            "Building wheels for collected packages: numpy-groupies, igor, pyUSID, cytoolz\n",
            "  Building wheel for numpy-groupies (setup.py) ... \u001b[?25l\u001b[?25hdone\n",
            "  Created wheel for numpy-groupies: filename=numpy_groupies-0.9.7-cp36-none-any.whl size=21326 sha256=5b015dcf72fa2ad14ea9e7cc4aa20f631a4c9a400dd8c8f576e5cf86e242bea3\n",
            "  Stored in directory: /root/.cache/pip/wheels/9e/19/02/30e0a1918ddc498ccdd5dab91b3bfce6100bfd0d416db622c9\n",
            "  Building wheel for igor (setup.py) ... \u001b[?25l\u001b[?25hdone\n",
            "  Created wheel for igor: filename=igor-0.3-cp36-none-any.whl size=52097 sha256=e67cef1209d242f6c114be43c29e933a0a45e22e1e71cea54d7d411bc74c15ef\n",
            "  Stored in directory: /root/.cache/pip/wheels/ff/a8/3f/95f6abe6d9e85627b7504d0fde2f9270a33d82b19885493e51\n",
            "  Building wheel for pyUSID (setup.py) ... \u001b[?25l\u001b[?25hdone\n",
            "  Created wheel for pyUSID: filename=pyUSID-0.0.8.1-py2.py3-none-any.whl size=170575 sha256=6c67a832172d2784babfdaf8123e0db88aeff65623aac0f7dbecc77eb716ec77\n",
            "  Stored in directory: /root/.cache/pip/wheels/f7/51/7c/3e99c3a4e8d73ad9015c1aa0238c9c715d6bdfa5e5e0252413\n",
            "  Building wheel for cytoolz (setup.py) ... \u001b[?25l\u001b[?25hdone\n",
            "  Created wheel for cytoolz: filename=cytoolz-0.10.1-cp36-cp36m-linux_x86_64.whl size=1233772 sha256=4f253773a2740f44c8cf8a7e63b17045ba9a72b757e967ef041345f7aaf83248\n",
            "  Stored in directory: /root/.cache/pip/wheels/64/2a/18/d962b614e055577e7d9a3e4813e0742f822ca9c8800cc3783a\n",
            "Successfully built numpy-groupies igor pyUSID cytoolz\n",
            "\u001b[31mERROR: jupyter-console 5.2.0 has requirement prompt-toolkit<2.0.0,>=1.0.0, but you'll have prompt-toolkit 3.0.5 which is incompatible.\u001b[0m\n",
            "\u001b[31mERROR: google-colab 1.0.0 has requirement ipython~=5.5.0, but you'll have ipython 7.16.1 which is incompatible.\u001b[0m\n",
            "Installing collected packages: prompt-toolkit, ipython, gwyfile, numpy-groupies, igor, cytoolz, pyUSID, pycroscopy\n",
            "  Found existing installation: prompt-toolkit 1.0.18\n",
            "    Uninstalling prompt-toolkit-1.0.18:\n",
            "      Successfully uninstalled prompt-toolkit-1.0.18\n",
            "  Found existing installation: ipython 5.5.0\n",
            "    Uninstalling ipython-5.5.0:\n",
            "      Successfully uninstalled ipython-5.5.0\n",
            "Successfully installed cytoolz-0.10.1 gwyfile-0.2.0 igor-0.3 ipython-7.16.1 numpy-groupies-0.9.7 prompt-toolkit-3.0.5 pyUSID-0.0.8.1 pycroscopy-0.60.6\n"
          ],
          "name": "stdout"
        },
        {
          "output_type": "display_data",
          "data": {
            "application/vnd.colab-display-data+json": {
              "pip_warning": {
                "packages": [
                  "IPython",
                  "prompt_toolkit"
                ]
              }
            }
          },
          "metadata": {
            "tags": []
          }
        },
        {
          "output_type": "stream",
          "text": [
            "Collecting ncempy\n",
            "\u001b[?25l  Downloading https://files.pythonhosted.org/packages/7c/3f/be20b406633ab2f6179b6b8f8f4ab6a53a59076aa610c5dcc620e4b3eb04/ncempy-1.6.0-py3-none-any.whl (269kB)\n",
            "\r\u001b[K     |█▏                              | 10kB 17.3MB/s eta 0:00:01\r\u001b[K     |██▍                             | 20kB 1.7MB/s eta 0:00:01\r\u001b[K     |███▋                            | 30kB 2.2MB/s eta 0:00:01\r\u001b[K     |████▉                           | 40kB 2.5MB/s eta 0:00:01\r\u001b[K     |██████                          | 51kB 2.0MB/s eta 0:00:01\r\u001b[K     |███████▎                        | 61kB 2.3MB/s eta 0:00:01\r\u001b[K     |████████▌                       | 71kB 2.4MB/s eta 0:00:01\r\u001b[K     |█████████▊                      | 81kB 2.7MB/s eta 0:00:01\r\u001b[K     |███████████                     | 92kB 2.9MB/s eta 0:00:01\r\u001b[K     |████████████▏                   | 102kB 2.8MB/s eta 0:00:01\r\u001b[K     |█████████████▍                  | 112kB 2.8MB/s eta 0:00:01\r\u001b[K     |██████████████▋                 | 122kB 2.8MB/s eta 0:00:01\r\u001b[K     |███████████████▉                | 133kB 2.8MB/s eta 0:00:01\r\u001b[K     |█████████████████               | 143kB 2.8MB/s eta 0:00:01\r\u001b[K     |██████████████████▏             | 153kB 2.8MB/s eta 0:00:01\r\u001b[K     |███████████████████▍            | 163kB 2.8MB/s eta 0:00:01\r\u001b[K     |████████████████████▋           | 174kB 2.8MB/s eta 0:00:01\r\u001b[K     |█████████████████████▉          | 184kB 2.8MB/s eta 0:00:01\r\u001b[K     |███████████████████████         | 194kB 2.8MB/s eta 0:00:01\r\u001b[K     |████████████████████████▎       | 204kB 2.8MB/s eta 0:00:01\r\u001b[K     |█████████████████████████▌      | 215kB 2.8MB/s eta 0:00:01\r\u001b[K     |██████████████████████████▊     | 225kB 2.8MB/s eta 0:00:01\r\u001b[K     |████████████████████████████    | 235kB 2.8MB/s eta 0:00:01\r\u001b[K     |█████████████████████████████▏  | 245kB 2.8MB/s eta 0:00:01\r\u001b[K     |██████████████████████████████▍ | 256kB 2.8MB/s eta 0:00:01\r\u001b[K     |███████████████████████████████▋| 266kB 2.8MB/s eta 0:00:01\r\u001b[K     |████████████████████████████████| 276kB 2.8MB/s \n",
            "\u001b[?25hRequirement already satisfied: numpy in /usr/local/lib/python3.6/dist-packages (from ncempy) (1.18.5)\n",
            "Requirement already satisfied: h5py>=2.9.0 in /usr/local/lib/python3.6/dist-packages (from ncempy) (2.10.0)\n",
            "Requirement already satisfied: matplotlib in /usr/local/lib/python3.6/dist-packages (from ncempy) (3.2.2)\n",
            "Requirement already satisfied: scipy in /usr/local/lib/python3.6/dist-packages (from ncempy) (1.4.1)\n",
            "Requirement already satisfied: six in /usr/local/lib/python3.6/dist-packages (from h5py>=2.9.0->ncempy) (1.12.0)\n",
            "Requirement already satisfied: pyparsing!=2.0.4,!=2.1.2,!=2.1.6,>=2.0.1 in /usr/local/lib/python3.6/dist-packages (from matplotlib->ncempy) (2.4.7)\n",
            "Requirement already satisfied: cycler>=0.10 in /usr/local/lib/python3.6/dist-packages (from matplotlib->ncempy) (0.10.0)\n",
            "Requirement already satisfied: python-dateutil>=2.1 in /usr/local/lib/python3.6/dist-packages (from matplotlib->ncempy) (2.8.1)\n",
            "Requirement already satisfied: kiwisolver>=1.0.1 in /usr/local/lib/python3.6/dist-packages (from matplotlib->ncempy) (1.2.0)\n",
            "Installing collected packages: ncempy\n",
            "Successfully installed ncempy-1.6.0\n"
          ],
          "name": "stdout"
        }
      ]
    },
    {
      "cell_type": "code",
      "metadata": {
        "id": "GbMplRWUnguW",
        "colab_type": "code",
        "colab": {}
      },
      "source": [
        "import wget\n",
        "import pycroscopy as px\n",
        "import h5py\n",
        "import pyUSID as usid\n",
        "import matplotlib.pyplot as plt\n",
        "from ncempy.io import dm\n",
        "from numpy import genfromtxt\n",
        "import pandas as pd\n",
        "import numpy as np\n",
        "from matplotlib import image"
      ],
      "execution_count": 9,
      "outputs": []
    },
    {
      "cell_type": "code",
      "metadata": {
        "id": "c4mRM9TgduQJ",
        "colab_type": "code",
        "colab": {
          "base_uri": "https://localhost:8080/",
          "height": 107
        },
        "outputId": "3e6f1a42-8b80-4f59-8686-8f5c3ef41672"
      },
      "source": [
        "urls = ['https://github.com/jagar2/Summer_2020_MAT-395-495_Scientific-Data-Analysis-and-Computing/blob/master/lectures/4_Visualization/Data/gb_5_HAADF.dm3?raw=true',\n",
        "        'https://github.com/jagar2/Summer_2020_MAT-395-495_Scientific-Data-Analysis-and-Computing/blob/master/lectures/4_Visualization/Data/SP128_NSO_VPFM0001.ibw?raw=true',\n",
        "        'https://github.com/jagar2/Summer_2020_MAT-395-495_Scientific-Data-Analysis-and-Computing/blob/master/lectures/4_Visualization/Data/Data.xlsx?raw=true',\n",
        "        'https://github.com/jagar2/Summer_2020_MAT-395-495_Scientific-Data-Analysis-and-Computing/blob/master/lectures/4_Visualization/Data/Data.csv?raw=true']\n",
        "\n",
        "# loops around the list of URLs\n",
        "for url in urls:\n",
        "  \n",
        "  print(url.split('/')[-1].split('?')[0]) # prints the string to save the file\n",
        "\n",
        "  wget.download(url, url.split('/')[-1].split('?')[0]) # downloads and saves the file\n",
        "\n",
        "wget.download('https://www2.lehigh.edu/sites/www2/files/2020-02/Hulvat-4710.jpg','lehigh.jpg')"
      ],
      "execution_count": 3,
      "outputs": [
        {
          "output_type": "stream",
          "text": [
            "gb_5_HAADF.dm3\n",
            "SP128_NSO_VPFM0001.ibw\n",
            "Data.xlsx\n",
            "Data.csv\n"
          ],
          "name": "stdout"
        },
        {
          "output_type": "execute_result",
          "data": {
            "application/vnd.google.colaboratory.intrinsic": {
              "type": "string"
            },
            "text/plain": [
              "'lehigh.jpg'"
            ]
          },
          "metadata": {
            "tags": []
          },
          "execution_count": 3
        }
      ]
    },
    {
      "cell_type": "code",
      "metadata": {
        "id": "rUiPnQONYGWG",
        "colab_type": "code",
        "colab": {
          "base_uri": "https://localhost:8080/",
          "height": 541
        },
        "outputId": "0772fa3f-7a9a-4784-aaf5-b7b4e5b1517f"
      },
      "source": [
        "# file path for ibw file\n",
        "file_path = '/content/SP128_NSO_VPFM0001.ibw'\n",
        "\n",
        "# instanciates the translator\n",
        "translator = px.io.translators.IgorIBWTranslator()\n",
        "\n",
        "# translates the file to h5\n",
        "h5_path = translator.translate(file_path)"
      ],
      "execution_count": 4,
      "outputs": [
        {
          "output_type": "stream",
          "text": [
            "/usr/local/lib/python3.6/dist-packages/pyUSID/io/hdf_utils/simple.py:1081: UserWarning: In the future write_ind_val_dsets will default to requiring dimensions to be arranged from slowest to fastest varying\n",
            "  warn('In the future write_ind_val_dsets will default to requiring dimensions to be arranged from slowest to fastest varying')\n"
          ],
          "name": "stderr"
        },
        {
          "output_type": "stream",
          "text": [
            "(1048576, 1)\n",
            "(1048576, 1)\n",
            "(1048576, 1)\n",
            "(1048576, 1)\n"
          ],
          "name": "stdout"
        },
        {
          "output_type": "stream",
          "text": [
            "/usr/local/lib/python3.6/dist-packages/pyUSID/io/usi_data.py:151: UserWarning: This dataset does not have an N-dimensional form\n",
            "  warn('This dataset does not have an N-dimensional form')\n"
          ],
          "name": "stderr"
        },
        {
          "output_type": "stream",
          "text": [
            "(1048576, 1)\n",
            "(1048576, 1)\n",
            "(1048576, 1)\n",
            "(1048576, 1)\n",
            "(1048576, 1)\n",
            "(1048576, 1)\n",
            "(1048576, 1)\n",
            "(1048576, 1)\n",
            "(1048576, 1)\n",
            "(1048576, 1)\n",
            "(1048576, 1)\n",
            "(1048576, 1)\n",
            "(1048576, 1)\n",
            "(1048576, 1)\n",
            "(1048576, 1)\n",
            "(1048576, 1)\n",
            "(1048576, 1)\n",
            "(1048576, 1)\n",
            "(1048576, 1)\n",
            "(1048576, 1)\n"
          ],
          "name": "stdout"
        }
      ]
    },
    {
      "cell_type": "code",
      "metadata": {
        "id": "e8bJEryPtAXX",
        "colab_type": "code",
        "colab": {
          "base_uri": "https://localhost:8080/",
          "height": 1000
        },
        "outputId": "02d2c954-d239-40d4-82ad-03e059793a2f"
      },
      "source": [
        "# loads the dm3 file\n",
        "im0 = dm.dmReader('gb_5_HAADF.dm3')\n",
        "\n",
        "# views the content of the dm3 file\n",
        "print(im0)"
      ],
      "execution_count": 17,
      "outputs": [
        {
          "output_type": "stream",
          "text": [
            "{'filename': 'gb_5_HAADF.dm3', 'data': array([[123776, 119999, 145032, ..., 108778, 133652, 143406],\n",
            "       [135786, 114320, 128988, ..., 128832, 116860, 122100],\n",
            "       [125750, 109618,  96203, ..., 143855, 133351, 130286],\n",
            "       ...,\n",
            "       [144297, 152625, 160137, ..., 138531, 141589, 151387],\n",
            "       [129856, 102117, 124561, ..., 150067, 146443, 145031],\n",
            "       [129460, 105144, 114505, ..., 111008, 132587, 146922]],\n",
            "      dtype=uint32), 'pixelUnit': ['nm', 'nm'], 'pixelSize': [0.077714294, 0.077714294], 'pixelOrigin': [0.0, 0.0], 'coords': [array([ 0.        ,  0.07771429,  0.15542859,  0.23314288,  0.31085718,\n",
            "        0.38857147,  0.46628577,  0.54400006,  0.62171435,  0.69942865,\n",
            "        0.77714294,  0.85485724,  0.93257153,  1.01028582,  1.08800012,\n",
            "        1.16571441,  1.24342871,  1.321143  ,  1.3988573 ,  1.47657159,\n",
            "        1.55428588,  1.63200018,  1.70971447,  1.78742877,  1.86514306,\n",
            "        1.94285735,  2.02057165,  2.09828594,  2.17600024,  2.25371453,\n",
            "        2.33142883,  2.40914312,  2.48685741,  2.56457171,  2.642286  ,\n",
            "        2.7200003 ,  2.79771459,  2.87542889,  2.95314318,  3.03085747,\n",
            "        3.10857177,  3.18628606,  3.26400036,  3.34171465,  3.41942894,\n",
            "        3.49714324,  3.57485753,  3.65257183,  3.73028612,  3.80800042,\n",
            "        3.88571471,  3.963429  ,  4.0411433 ,  4.11885759,  4.19657189,\n",
            "        4.27428618,  4.35200047,  4.42971477,  4.50742906,  4.58514336,\n",
            "        4.66285765,  4.74057195,  4.81828624,  4.89600053,  4.97371483,\n",
            "        5.05142912,  5.12914342,  5.20685771,  5.28457201,  5.3622863 ,\n",
            "        5.44000059,  5.51771489,  5.59542918,  5.67314348,  5.75085777,\n",
            "        5.82857206,  5.90628636,  5.98400065,  6.06171495,  6.13942924,\n",
            "        6.21714354,  6.29485783,  6.37257212,  6.45028642,  6.52800071,\n",
            "        6.60571501,  6.6834293 ,  6.76114359,  6.83885789,  6.91657218,\n",
            "        6.99428648,  7.07200077,  7.14971507,  7.22742936,  7.30514365,\n",
            "        7.38285795,  7.46057224,  7.53828654,  7.61600083,  7.69371513,\n",
            "        7.77142942,  7.84914371,  7.92685801,  8.0045723 ,  8.0822866 ,\n",
            "        8.16000089,  8.23771518,  8.31542948,  8.39314377,  8.47085807,\n",
            "        8.54857236,  8.62628666,  8.70400095,  8.78171524,  8.85942954,\n",
            "        8.93714383,  9.01485813,  9.09257242,  9.17028672,  9.24800101,\n",
            "        9.3257153 ,  9.4034296 ,  9.48114389,  9.55885819,  9.63657248,\n",
            "        9.71428677,  9.79200107,  9.86971536,  9.94742966, 10.02514395,\n",
            "       10.10285825, 10.18057254, 10.25828683, 10.33600113, 10.41371542,\n",
            "       10.49142972, 10.56914401, 10.6468583 , 10.7245726 , 10.80228689,\n",
            "       10.88000119, 10.95771548, 11.03542978, 11.11314407, 11.19085836,\n",
            "       11.26857266, 11.34628695, 11.42400125, 11.50171554, 11.57942984,\n",
            "       11.65714413, 11.73485842, 11.81257272, 11.89028701, 11.96800131,\n",
            "       12.0457156 , 12.12342989, 12.20114419, 12.27885848, 12.35657278,\n",
            "       12.43428707, 12.51200137, 12.58971566, 12.66742995, 12.74514425,\n",
            "       12.82285854, 12.90057284, 12.97828713, 13.05600142, 13.13371572,\n",
            "       13.21143001, 13.28914431, 13.3668586 , 13.4445729 , 13.52228719,\n",
            "       13.60000148, 13.67771578, 13.75543007, 13.83314437, 13.91085866,\n",
            "       13.98857296, 14.06628725, 14.14400154, 14.22171584, 14.29943013,\n",
            "       14.37714443, 14.45485872, 14.53257301, 14.61028731, 14.6880016 ,\n",
            "       14.7657159 , 14.84343019, 14.92114449, 14.99885878, 15.07657307,\n",
            "       15.15428737, 15.23200166, 15.30971596, 15.38743025, 15.46514454,\n",
            "       15.54285884, 15.62057313, 15.69828743, 15.77600172, 15.85371602,\n",
            "       15.93143031, 16.0091446 , 16.0868589 , 16.16457319, 16.24228749,\n",
            "       16.32000178, 16.39771608, 16.47543037, 16.55314466, 16.63085896,\n",
            "       16.70857325, 16.78628755, 16.86400184, 16.94171613, 17.01943043,\n",
            "       17.09714472, 17.17485902, 17.25257331, 17.33028761, 17.4080019 ,\n",
            "       17.48571619, 17.56343049, 17.64114478, 17.71885908, 17.79657337,\n",
            "       17.87428766, 17.95200196, 18.02971625, 18.10743055, 18.18514484,\n",
            "       18.26285914, 18.34057343, 18.41828772, 18.49600202, 18.57371631,\n",
            "       18.65143061, 18.7291449 , 18.8068592 , 18.88457349, 18.96228778,\n",
            "       19.04000208, 19.11771637, 19.19543067, 19.27314496, 19.35085925,\n",
            "       19.42857355, 19.50628784, 19.58400214, 19.66171643, 19.73943073,\n",
            "       19.81714502, 19.89485931, 19.97257361, 20.0502879 , 20.1280022 ,\n",
            "       20.20571649, 20.28343078, 20.36114508, 20.43885937, 20.51657367,\n",
            "       20.59428796, 20.67200226, 20.74971655, 20.82743084, 20.90514514,\n",
            "       20.98285943, 21.06057373, 21.13828802, 21.21600232, 21.29371661,\n",
            "       21.3714309 , 21.4491452 , 21.52685949, 21.60457379, 21.68228808,\n",
            "       21.76000237, 21.83771667, 21.91543096, 21.99314526, 22.07085955,\n",
            "       22.14857385, 22.22628814, 22.30400243, 22.38171673, 22.45943102,\n",
            "       22.53714532, 22.61485961, 22.6925739 , 22.7702882 , 22.84800249,\n",
            "       22.92571679, 23.00343108, 23.08114538, 23.15885967, 23.23657396,\n",
            "       23.31428826, 23.39200255, 23.46971685, 23.54743114, 23.62514544,\n",
            "       23.70285973, 23.78057402, 23.85828832, 23.93600261, 24.01371691,\n",
            "       24.0914312 , 24.16914549, 24.24685979, 24.32457408, 24.40228838,\n",
            "       24.48000267, 24.55771697, 24.63543126, 24.71314555, 24.79085985,\n",
            "       24.86857414, 24.94628844, 25.02400273, 25.10171703, 25.17943132,\n",
            "       25.25714561, 25.33485991, 25.4125742 , 25.4902885 , 25.56800279,\n",
            "       25.64571708, 25.72343138, 25.80114567, 25.87885997, 25.95657426,\n",
            "       26.03428856, 26.11200285, 26.18971714, 26.26743144, 26.34514573,\n",
            "       26.42286003, 26.50057432, 26.57828861, 26.65600291, 26.7337172 ,\n",
            "       26.8114315 , 26.88914579, 26.96686009, 27.04457438, 27.12228867,\n",
            "       27.20000297, 27.27771726, 27.35543156, 27.43314585, 27.51086015,\n",
            "       27.58857444, 27.66628873, 27.74400303, 27.82171732, 27.89943162,\n",
            "       27.97714591, 28.0548602 , 28.1325745 , 28.21028879, 28.28800309,\n",
            "       28.36571738, 28.44343168, 28.52114597, 28.59886026, 28.67657456,\n",
            "       28.75428885, 28.83200315, 28.90971744, 28.98743173, 29.06514603,\n",
            "       29.14286032, 29.22057462, 29.29828891, 29.37600321, 29.4537175 ,\n",
            "       29.53143179, 29.60914609, 29.68686038, 29.76457468, 29.84228897,\n",
            "       29.92000327, 29.99771756, 30.07543185, 30.15314615, 30.23086044,\n",
            "       30.30857474, 30.38628903, 30.46400332, 30.54171762, 30.61943191,\n",
            "       30.69714621, 30.7748605 , 30.8525748 , 30.93028909, 31.00800338,\n",
            "       31.08571768, 31.16343197, 31.24114627, 31.31886056, 31.39657485,\n",
            "       31.47428915, 31.55200344, 31.62971774, 31.70743203, 31.78514633,\n",
            "       31.86286062, 31.94057491, 32.01828921, 32.0960035 , 32.1737178 ,\n",
            "       32.25143209, 32.32914639, 32.40686068, 32.48457497, 32.56228927,\n",
            "       32.64000356, 32.71771786, 32.79543215, 32.87314644, 32.95086074,\n",
            "       33.02857503, 33.10628933, 33.18400362, 33.26171792, 33.33943221,\n",
            "       33.4171465 , 33.4948608 , 33.57257509, 33.65028939, 33.72800368,\n",
            "       33.80571797, 33.88343227, 33.96114656, 34.03886086, 34.11657515,\n",
            "       34.19428945, 34.27200374, 34.34971803, 34.42743233, 34.50514662,\n",
            "       34.58286092, 34.66057521, 34.73828951, 34.8160038 , 34.89371809,\n",
            "       34.97143239, 35.04914668, 35.12686098, 35.20457527, 35.28228956,\n",
            "       35.36000386, 35.43771815, 35.51543245, 35.59314674, 35.67086104,\n",
            "       35.74857533, 35.82628962, 35.90400392, 35.98171821, 36.05943251,\n",
            "       36.1371468 , 36.21486109, 36.29257539, 36.37028968, 36.44800398,\n",
            "       36.52571827, 36.60343257, 36.68114686, 36.75886115, 36.83657545,\n",
            "       36.91428974, 36.99200404, 37.06971833, 37.14743263, 37.22514692,\n",
            "       37.30286121, 37.38057551, 37.4582898 , 37.5360041 , 37.61371839,\n",
            "       37.69143268, 37.76914698, 37.84686127, 37.92457557, 38.00228986,\n",
            "       38.08000416, 38.15771845, 38.23543274, 38.31314704, 38.39086133,\n",
            "       38.46857563, 38.54628992, 38.62400422, 38.70171851, 38.7794328 ,\n",
            "       38.8571471 , 38.93486139, 39.01257569, 39.09028998, 39.16800427,\n",
            "       39.24571857, 39.32343286, 39.40114716, 39.47886145, 39.55657575,\n",
            "       39.63429004, 39.71200433]), array([0.        , 0.07771429, 0.15542859, 0.23314288, 0.31085718,\n",
            "       0.38857147, 0.46628577, 0.54400006, 0.62171435, 0.69942865,\n",
            "       0.77714294, 0.85485724, 0.93257153, 1.01028582, 1.08800012,\n",
            "       1.16571441, 1.24342871, 1.321143  , 1.3988573 , 1.47657159,\n",
            "       1.55428588, 1.63200018, 1.70971447, 1.78742877, 1.86514306,\n",
            "       1.94285735, 2.02057165, 2.09828594, 2.17600024, 2.25371453,\n",
            "       2.33142883, 2.40914312, 2.48685741, 2.56457171, 2.642286  ,\n",
            "       2.7200003 , 2.79771459, 2.87542889, 2.95314318, 3.03085747,\n",
            "       3.10857177, 3.18628606, 3.26400036, 3.34171465, 3.41942894,\n",
            "       3.49714324, 3.57485753, 3.65257183, 3.73028612, 3.80800042,\n",
            "       3.88571471, 3.963429  , 4.0411433 , 4.11885759, 4.19657189,\n",
            "       4.27428618, 4.35200047, 4.42971477, 4.50742906, 4.58514336,\n",
            "       4.66285765, 4.74057195, 4.81828624, 4.89600053])]}\n"
          ],
          "name": "stdout"
        }
      ]
    },
    {
      "cell_type": "code",
      "metadata": {
        "id": "8DvQuJarYxRW",
        "colab_type": "code",
        "colab": {}
      },
      "source": [
        "# reads the H5 file\n",
        "h5_f = h5py.File(h5_path, 'r+')"
      ],
      "execution_count": 5,
      "outputs": []
    },
    {
      "cell_type": "code",
      "metadata": {
        "id": "nR8N5L4GZTij",
        "colab_type": "code",
        "colab": {
          "base_uri": "https://localhost:8080/",
          "height": 467
        },
        "outputId": "ef9c8d5c-3fb1-4b05-95a6-d7626d73f3ab"
      },
      "source": [
        "# prints the tree where the data is stored\n",
        "usid.hdf_utils.print_tree(h5_f)"
      ],
      "execution_count": 6,
      "outputs": [
        {
          "output_type": "stream",
          "text": [
            "/\n",
            "├ Measurement_000\n",
            "  ---------------\n",
            "  ├ Channel_000\n",
            "    -----------\n",
            "    ├ Raw_Data\n",
            "  ├ Channel_001\n",
            "    -----------\n",
            "    ├ Raw_Data\n",
            "  ├ Channel_002\n",
            "    -----------\n",
            "    ├ Raw_Data\n",
            "  ├ Channel_003\n",
            "    -----------\n",
            "    ├ Raw_Data\n",
            "  ├ Channel_004\n",
            "    -----------\n",
            "    ├ Raw_Data\n",
            "  ├ Channel_005\n",
            "    -----------\n",
            "    ├ Raw_Data\n",
            "  ├ Position_Indices\n",
            "  ├ Position_Values\n",
            "  ├ Spectroscopic_Indices\n",
            "  ├ Spectroscopic_Values\n"
          ],
          "name": "stdout"
        }
      ]
    },
    {
      "cell_type": "code",
      "metadata": {
        "id": "ltqedLPXZomE",
        "colab_type": "code",
        "colab": {
          "base_uri": "https://localhost:8080/",
          "height": 1000
        },
        "outputId": "f36a3e89-0b17-4255-ef85-0da85da9565f"
      },
      "source": [
        "# gets the main datasets\n",
        "main_dset = usid.hdf_utils.get_all_main(h5_f)\n",
        "\n",
        "# prints the information about the main datasets\n",
        "print(main_dset)"
      ],
      "execution_count": 7,
      "outputs": [
        {
          "output_type": "stream",
          "text": [
            "/usr/local/lib/python3.6/dist-packages/pyUSID/io/usi_data.py:151: UserWarning: This dataset does not have an N-dimensional form\n",
            "  warn('This dataset does not have an N-dimensional form')\n"
          ],
          "name": "stderr"
        },
        {
          "output_type": "stream",
          "text": [
            "[<HDF5 dataset \"Raw_Data\": shape (1048576, 1), type \"<f4\">\n",
            "located at: \n",
            "\t/Measurement_000/Channel_000/Raw_Data \n",
            "Data contains: \n",
            "\tHeightRetrace (m) \n",
            "Data dimensions and original shape: \n",
            "Position Dimensions: \n",
            "\tY - size: 1024 \n",
            "\tX - size: 1024 \n",
            "Spectroscopic Dimensions: \n",
            "\tarb - size: 1\n",
            "Data Type:\n",
            "\tfloat32, <HDF5 dataset \"Raw_Data\": shape (1048576, 1), type \"<f4\">\n",
            "located at: \n",
            "\t/Measurement_000/Channel_001/Raw_Data \n",
            "Data contains: \n",
            "\tAmplitude1Retrace (m) \n",
            "Data dimensions and original shape: \n",
            "Position Dimensions: \n",
            "\tY - size: 1024 \n",
            "\tX - size: 1024 \n",
            "Spectroscopic Dimensions: \n",
            "\tarb - size: 1\n",
            "Data Type:\n",
            "\tfloat32, <HDF5 dataset \"Raw_Data\": shape (1048576, 1), type \"<f4\">\n",
            "located at: \n",
            "\t/Measurement_000/Channel_002/Raw_Data \n",
            "Data contains: \n",
            "\tAmplitude2Retrace (m) \n",
            "Data dimensions and original shape: \n",
            "Position Dimensions: \n",
            "\tY - size: 1024 \n",
            "\tX - size: 1024 \n",
            "Spectroscopic Dimensions: \n",
            "\tarb - size: 1\n",
            "Data Type:\n",
            "\tfloat32, <HDF5 dataset \"Raw_Data\": shape (1048576, 1), type \"<f4\">\n",
            "located at: \n",
            "\t/Measurement_000/Channel_003/Raw_Data \n",
            "Data contains: \n",
            "\tPhase1Retrace (m) \n",
            "Data dimensions and original shape: \n",
            "Position Dimensions: \n",
            "\tY - size: 1024 \n",
            "\tX - size: 1024 \n",
            "Spectroscopic Dimensions: \n",
            "\tarb - size: 1\n",
            "Data Type:\n",
            "\tfloat32, <HDF5 dataset \"Raw_Data\": shape (1048576, 1), type \"<f4\">\n",
            "located at: \n",
            "\t/Measurement_000/Channel_004/Raw_Data \n",
            "Data contains: \n",
            "\tPhase2Retraceetrace (deg) \n",
            "Data dimensions and original shape: \n",
            "Position Dimensions: \n",
            "\tY - size: 1024 \n",
            "\tX - size: 1024 \n",
            "Spectroscopic Dimensions: \n",
            "\tarb - size: 1\n",
            "Data Type:\n",
            "\tfloat32, <HDF5 dataset \"Raw_Data\": shape (1048576, 1), type \"<f4\">\n",
            "located at: \n",
            "\t/Measurement_000/Channel_005/Raw_Data \n",
            "Data contains: \n",
            "\tFrequencyRetrace (deg) \n",
            "Data dimensions and original shape: \n",
            "Position Dimensions: \n",
            "\tY - size: 1024 \n",
            "\tX - size: 1024 \n",
            "Spectroscopic Dimensions: \n",
            "\tarb - size: 1\n",
            "Data Type:\n",
            "\tfloat32]\n"
          ],
          "name": "stdout"
        }
      ]
    },
    {
      "cell_type": "code",
      "metadata": {
        "id": "rnC-1Euyap3H",
        "colab_type": "code",
        "colab": {
          "base_uri": "https://localhost:8080/",
          "height": 35
        },
        "outputId": "e188de83-87a3-48a8-c8d1-b5579f3d27e8"
      },
      "source": [
        "# looks at the shape of the h5 file\n",
        "np.array(h5_f['/Measurement_000/Channel_000/Raw_Data']).shape"
      ],
      "execution_count": 10,
      "outputs": [
        {
          "output_type": "execute_result",
          "data": {
            "text/plain": [
              "(1048576, 1)"
            ]
          },
          "metadata": {
            "tags": []
          },
          "execution_count": 10
        }
      ]
    },
    {
      "cell_type": "code",
      "metadata": {
        "id": "dPuCSnkjg9gf",
        "colab_type": "code",
        "colab": {
          "base_uri": "https://localhost:8080/",
          "height": 143
        },
        "outputId": "af9fc5b9-0d4c-44ee-f360-b269114c04fb"
      },
      "source": [
        "my_data = genfromtxt('Data.csv', delimiter=',',skip_header=1) # loads the csv file\n",
        "\n",
        "# prints the csv file data\n",
        "print(my_data)"
      ],
      "execution_count": 11,
      "outputs": [
        {
          "output_type": "stream",
          "text": [
            "[[ 0.          0.          1.        ]\n",
            " [ 0.01        0.00999983  0.99995   ]\n",
            " [ 0.02        0.01999867  0.99980003]\n",
            " ...\n",
            " [ 9.97       -0.51860795  0.86851002]\n",
            " [ 9.98       -0.527132    0.86425339]\n",
            " [ 9.99       -0.53560334  0.85996087]]\n"
          ],
          "name": "stdout"
        }
      ]
    },
    {
      "cell_type": "code",
      "metadata": {
        "id": "eVhgJWf_hq_3",
        "colab_type": "code",
        "colab": {}
      },
      "source": [
        "# loads the xlsx file into a pandas dataframe\n",
        "data_xlsx = pd.read_excel('Data.xlsx')"
      ],
      "execution_count": 12,
      "outputs": []
    },
    {
      "cell_type": "code",
      "metadata": {
        "id": "YGpdgnnhhuff",
        "colab_type": "code",
        "colab": {
          "base_uri": "https://localhost:8080/",
          "height": 204
        },
        "outputId": "75de786a-eef9-4dec-ae7b-f4c63ef771b9"
      },
      "source": [
        "# prints the header of the dataframe\n",
        "data_xlsx.head()"
      ],
      "execution_count": 13,
      "outputs": [
        {
          "output_type": "execute_result",
          "data": {
            "text/html": [
              "<div>\n",
              "<style scoped>\n",
              "    .dataframe tbody tr th:only-of-type {\n",
              "        vertical-align: middle;\n",
              "    }\n",
              "\n",
              "    .dataframe tbody tr th {\n",
              "        vertical-align: top;\n",
              "    }\n",
              "\n",
              "    .dataframe thead th {\n",
              "        text-align: right;\n",
              "    }\n",
              "</style>\n",
              "<table border=\"1\" class=\"dataframe\">\n",
              "  <thead>\n",
              "    <tr style=\"text-align: right;\">\n",
              "      <th></th>\n",
              "      <th>X</th>\n",
              "      <th>sin(x)</th>\n",
              "      <th>cos(x)</th>\n",
              "    </tr>\n",
              "  </thead>\n",
              "  <tbody>\n",
              "    <tr>\n",
              "      <th>0</th>\n",
              "      <td>0.00</td>\n",
              "      <td>0.000000</td>\n",
              "      <td>1.000000</td>\n",
              "    </tr>\n",
              "    <tr>\n",
              "      <th>1</th>\n",
              "      <td>0.01</td>\n",
              "      <td>0.010000</td>\n",
              "      <td>0.999950</td>\n",
              "    </tr>\n",
              "    <tr>\n",
              "      <th>2</th>\n",
              "      <td>0.02</td>\n",
              "      <td>0.019999</td>\n",
              "      <td>0.999800</td>\n",
              "    </tr>\n",
              "    <tr>\n",
              "      <th>3</th>\n",
              "      <td>0.03</td>\n",
              "      <td>0.029996</td>\n",
              "      <td>0.999550</td>\n",
              "    </tr>\n",
              "    <tr>\n",
              "      <th>4</th>\n",
              "      <td>0.04</td>\n",
              "      <td>0.039989</td>\n",
              "      <td>0.999201</td>\n",
              "    </tr>\n",
              "  </tbody>\n",
              "</table>\n",
              "</div>"
            ],
            "text/plain": [
              "      X    sin(x)    cos(x)\n",
              "0  0.00  0.000000  1.000000\n",
              "1  0.01  0.010000  0.999950\n",
              "2  0.02  0.019999  0.999800\n",
              "3  0.03  0.029996  0.999550\n",
              "4  0.04  0.039989  0.999201"
            ]
          },
          "metadata": {
            "tags": []
          },
          "execution_count": 13
        }
      ]
    },
    {
      "cell_type": "code",
      "metadata": {
        "id": "MlSlaYugjEwD",
        "colab_type": "code",
        "colab": {}
      },
      "source": [
        "# loads the image file using matplotlib\n",
        "image_file = image.imread('lehigh.jpg')"
      ],
      "execution_count": 14,
      "outputs": []
    },
    {
      "cell_type": "code",
      "metadata": {
        "id": "slhMsKyFjN9o",
        "colab_type": "code",
        "colab": {
          "base_uri": "https://localhost:8080/",
          "height": 35
        },
        "outputId": "765ca8da-7fd3-4845-cf0a-3f1ef4c5d20e"
      },
      "source": [
        "# looks at the shape of the image file\n",
        "image_file.shape"
      ],
      "execution_count": 15,
      "outputs": [
        {
          "output_type": "execute_result",
          "data": {
            "text/plain": [
              "(638, 1080, 3)"
            ]
          },
          "metadata": {
            "tags": []
          },
          "execution_count": 15
        }
      ]
    },
    {
      "cell_type": "code",
      "metadata": {
        "id": "atzfqGMK1iZl",
        "colab_type": "code",
        "colab": {
          "base_uri": "https://localhost:8080/",
          "height": 313
        },
        "outputId": "8b629a3e-aebc-49f0-ff58-4cf33a26b336"
      },
      "source": [
        "import matplotlib.pyplot as plt\n",
        "from matplotlib.gridspec import GridSpec\n",
        "import numpy as np\n",
        "\n",
        "# builds the figure\n",
        "fig = plt.figure(constrained_layout=True)\n",
        "\n",
        "# uses gridspec to define the position of the axis\n",
        "gs = GridSpec(3, 3, figure=fig)\n",
        "\n",
        "# adds all the axis\n",
        "ax1 = fig.add_subplot(gs[0, 0])\n",
        "ax11 = fig.add_subplot(gs[0,1])\n",
        "ax12 = fig.add_subplot(gs[0,2])\n",
        "ax2 = fig.add_subplot(gs[1, :-1])\n",
        "ax3 = fig.add_subplot(gs[1:, -1])\n",
        "ax4 = fig.add_subplot(gs[-1, 0])\n",
        "ax5 = fig.add_subplot(gs[-1, -2])\n",
        "\n",
        "# creates a list for the 3 AFM images\n",
        "ax_list = [ax1, ax11, ax12]\n",
        "\n",
        "# iterates around each graph in a list plotting the i*2 channel\n",
        "for i, ax in enumerate(ax_list): \n",
        "  # prints the name of the channel plotting\n",
        "  #print(f'/Measurement_000/Channel_00{i*2}/Raw_Data')\n",
        "  \n",
        "  # plots the graph, fstring used for indexing. Reshape used to make 2d image\n",
        "  ax.imshow(np.array(h5_f[f'/Measurement_000/Channel_00{i*2}/Raw_Data']).reshape(1024,1024))\n",
        "\n",
        "# plots the dm3 file\n",
        "ax3.imshow(im0['data'])\n",
        "\n",
        "# plots the data from the csv file\n",
        "ax2.plot(my_data[:,0],my_data[:,1])\n",
        "\n",
        "# plots the data from the xlsx file\n",
        "ax2.plot(data_xlsx['X'],data_xlsx['cos(x)'])\n",
        "\n",
        "# plots the image of Lehigh\n",
        "ax4.imshow(image_file)\n",
        "\n",
        "# plots the R color channel from the Lehigh image.\n",
        "ax5.imshow(image_file[:,:,0])\n",
        "\n",
        "# saves the figure at an image.\n",
        "plt.savefig('fig.png', dpi = 300)\n",
        "\n",
        "# saves the figure as a scaled vector graphic \n",
        "plt.savefig('fig.svg', dpi = 300)"
      ],
      "execution_count": 18,
      "outputs": [
        {
          "output_type": "display_data",
          "data": {
            "image/png": "[encoded data removed]",
            "text/plain": [
              "<Figure size 432x288 with 7 Axes>"
            ]
          },
          "metadata": {
            "tags": [],
            "needs_background": "light"
          }
        }
      ]
    },
    {
      "cell_type": "markdown",
      "metadata": {
        "id": "E7d5KUN4wOUI",
        "colab_type": "text"
      },
      "source": [
        "### Loading Data from a variety of sources"
      ]
    },
    {
      "cell_type": "markdown",
      "metadata": {
        "colab_type": "text",
        "id": "C3AVXktropQT"
      },
      "source": [
        "## Parts of a Figure\n",
        "![](https://matplotlib.org/_images/anatomy.png)"
      ]
    },
    {
      "cell_type": "markdown",
      "metadata": {
        "colab_type": "text",
        "id": "j_qxlM46opQY"
      },
      "source": [
        "# Graphical Integrity"
      ]
    },
    {
      "cell_type": "markdown",
      "metadata": {
        "colab_type": "text",
        "id": "8ayJKno-opQc"
      },
      "source": [
        "# Color scales"
      ]
    },
    {
      "cell_type": "markdown",
      "metadata": {
        "id": "QC9fwFQZZy_0",
        "colab_type": "text"
      },
      "source": [
        "# More details about perceptually correct colormaps"
      ]
    },
    {
      "cell_type": "markdown",
      "metadata": {
        "colab_type": "text",
        "id": "cI28x-YeopQl"
      },
      "source": [
        "# Choosing Colors for your Figures"
      ]
    },
    {
      "cell_type": "markdown",
      "metadata": {
        "colab_type": "text",
        "id": "U5aFUWM5opQo"
      },
      "source": [
        "# Types of Graphs"
      ]
    },
    {
      "cell_type": "markdown",
      "metadata": {
        "id": "ufMImc2LZy_9",
        "colab_type": "text"
      },
      "source": [
        "# Violin Plots\n",
        "* Like a box plot but provides a deeper understanding of data density\n",
        "* Good when you have large datasets"
      ]
    },
    {
      "cell_type": "markdown",
      "metadata": {
        "id": "x9eab9CXZzAA",
        "colab_type": "text"
      },
      "source": [
        "# 2D Density Plot\n",
        "* Used to compare 2D quantitative information\n",
        "* Good for small data sets\n",
        "* When the density of data is high (shouldn't use a scatter plot)"
      ]
    },
    {
      "cell_type": "markdown",
      "metadata": {
        "id": "s9A5MJ3eZzAC",
        "colab_type": "text"
      },
      "source": [
        "# Correlogram\n",
        "A correlogram or correlation matrix allows to analyse the relationship between each pair of numerical variables of a matrix."
      ]
    },
    {
      "cell_type": "markdown",
      "metadata": {
        "id": "6p7tgK9nZzAF",
        "colab_type": "text"
      },
      "source": [
        "# Dendrogram\n",
        "* A dendrogram or tree diagram allows to illustrate the hierarchical organisation of several entities."
      ]
    },
    {
      "cell_type": "markdown",
      "metadata": {
        "id": "LEWvfPzBZzAH",
        "colab_type": "text"
      },
      "source": [
        "# Graph Structures\n",
        "* Show interconnections between a set of entities. \n",
        "* Each entity is represented by a Node (or vertices). \n",
        "* Connection between nodes are represented through links (or edges).\n",
        "* Directed or undirected, weighted or unweighted."
      ]
    },
    {
      "cell_type": "markdown",
      "metadata": {
        "colab_type": "text",
        "id": "Y9CDzbKIopQ6"
      },
      "source": [
        "# Guiding Principles"
      ]
    },
    {
      "cell_type": "markdown",
      "metadata": {
        "colab_type": "text",
        "id": "bTdkDQmyopRN"
      },
      "source": [
        "# WTF Graphs"
      ]
    },
    {
      "cell_type": "markdown",
      "metadata": {
        "id": "yfttWnj-TT0L",
        "colab_type": "text"
      },
      "source": [
        "# Assignment: \n",
        "\n",
        "Take a graph that you have previously used for a publication or assignment and recreate it based on concepts discussed in class. Please provide the original image and the updated image exported from python."
      ]
    }
  ]
}