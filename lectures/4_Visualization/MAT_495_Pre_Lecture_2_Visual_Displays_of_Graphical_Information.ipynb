{
  "nbformat": 4,
  "nbformat_minor": 0,
  "metadata": {
    "colab": {
      "name": "PreLecture_MAT_495_Visual_Displays_of_Graphical_Information_2",
      "provenance": [],
      "collapsed_sections": [
        "C3AVXktropQT",
        "yfttWnj-TT0L"
      ]
    },
    "kernelspec": {
      "name": "python3",
      "display_name": "Python 3"
    }
  },
  "cells": [
    {
      "cell_type": "markdown",
      "metadata": {
        "id": "pgJJLX1SG2qx",
        "colab_type": "text"
      },
      "source": [
        "# Matplotlib"
      ]
    },
    {
      "cell_type": "markdown",
      "metadata": {
        "id": "XXwIlyCUMknl",
        "colab_type": "text"
      },
      "source": [
        "## Working with Multiple Figures"
      ]
    },
    {
      "cell_type": "code",
      "metadata": {
        "id": "LP81RpO4VNyX",
        "colab_type": "code",
        "colab": {
          "base_uri": "https://localhost:8080/",
          "height": 195
        },
        "outputId": "1bc79352-26ee-4e8a-db66-641218311127"
      },
      "source": [
        "!pip install wget"
      ],
      "execution_count": 5,
      "outputs": [
        {
          "output_type": "stream",
          "text": [
            "Collecting wget\n",
            "  Downloading https://files.pythonhosted.org/packages/47/6a/62e288da7bcda82b935ff0c6cfe542970f04e29c756b0e147251b2fb251f/wget-3.2.zip\n",
            "Building wheels for collected packages: wget\n",
            "  Building wheel for wget (setup.py) ... \u001b[?25l\u001b[?25hdone\n",
            "  Created wheel for wget: filename=wget-3.2-cp36-none-any.whl size=9682 sha256=34e3216021f8bc85b986f946083810dc23f8fa0fae9f2ff4dff3d07ab8386f1e\n",
            "  Stored in directory: /root/.cache/pip/wheels/40/15/30/7d8f7cea2902b4db79e3fea550d7d7b85ecb27ef992b618f3f\n",
            "Successfully built wget\n",
            "Installing collected packages: wget\n",
            "Successfully installed wget-3.2\n"
          ],
          "name": "stdout"
        }
      ]
    },
    {
      "cell_type": "code",
      "metadata": {
        "id": "7mg6rAFdUwbu",
        "colab_type": "code",
        "colab": {}
      },
      "source": [
        "url = 'https://github.com/jagar2/Summer_2020_MAT-395-495_Scientific-Data-Analysis-and-Computing/blob/master/lectures/4_Visualization/Data/SP128_NSO_VPFM0001.ibw?raw=true' "
      ],
      "execution_count": 4,
      "outputs": []
    },
    {
      "cell_type": "code",
      "metadata": {
        "id": "c4mRM9TgduQJ",
        "colab_type": "code",
        "colab": {
          "base_uri": "https://localhost:8080/",
          "height": 87
        },
        "outputId": "9870c988-75a1-42e4-b152-71a7efca5ccd"
      },
      "source": [
        "urls = ['https://github.com/jagar2/Summer_2020_MAT-395-495_Scientific-Data-Analysis-and-Computing/blob/master/lectures/4_Visualization/Data/gb_5_HAADF.dm3?raw=true',\n",
        "        'https://github.com/jagar2/Summer_2020_MAT-395-495_Scientific-Data-Analysis-and-Computing/blob/master/lectures/4_Visualization/Data/SP128_NSO_VPFM0001.ibw?raw=true',\n",
        "        'https://github.com/jagar2/Summer_2020_MAT-395-495_Scientific-Data-Analysis-and-Computing/blob/master/lectures/4_Visualization/Data/Data.xlsx?raw=true',\n",
        "        'https://github.com/jagar2/Summer_2020_MAT-395-495_Scientific-Data-Analysis-and-Computing/blob/master/lectures/4_Visualization/Data/Data.csv?raw=true']\n",
        "\n",
        "for url in urls:\n",
        "  print(url.split('/')[-1].split('?')[0])"
      ],
      "execution_count": 29,
      "outputs": [
        {
          "output_type": "stream",
          "text": [
            "gb_5_HAADF.dm3\n",
            "SP128_NSO_VPFM0001.ibw\n",
            "Data.xlsx\n",
            "Data.csv\n"
          ],
          "name": "stdout"
        }
      ]
    },
    {
      "cell_type": "code",
      "metadata": {
        "id": "gt6ksksmVWkc",
        "colab_type": "code",
        "colab": {}
      },
      "source": [
        "import wget"
      ],
      "execution_count": 6,
      "outputs": []
    },
    {
      "cell_type": "code",
      "metadata": {
        "id": "EIBwh9XbU-SH",
        "colab_type": "code",
        "colab": {}
      },
      "source": [
        "for url in urls: \n",
        "  wget.download(url, url.split('/')[-1].split('?')[0])"
      ],
      "execution_count": 30,
      "outputs": []
    },
    {
      "cell_type": "code",
      "metadata": {
        "id": "p9RZUak6WKbo",
        "colab_type": "code",
        "colab": {
          "base_uri": "https://localhost:8080/",
          "height": 283
        },
        "outputId": "18c5cf72-79ba-41b5-8c1e-af0c2d780f52"
      },
      "source": [
        "#!pip install pycroscopy\n",
        "!pip install ncempy"
      ],
      "execution_count": 31,
      "outputs": [
        {
          "output_type": "stream",
          "text": [
            "Collecting ncempy\n",
            "\u001b[?25l  Downloading https://files.pythonhosted.org/packages/7c/3f/be20b406633ab2f6179b6b8f8f4ab6a53a59076aa610c5dcc620e4b3eb04/ncempy-1.6.0-py3-none-any.whl (269kB)\n",
            "\r\u001b[K     |█▏                              | 10kB 18.7MB/s eta 0:00:01\r\u001b[K     |██▍                             | 20kB 6.0MB/s eta 0:00:01\r\u001b[K     |███▋                            | 30kB 8.4MB/s eta 0:00:01\r\u001b[K     |████▉                           | 40kB 10.6MB/s eta 0:00:01\r\u001b[K     |██████                          | 51kB 6.7MB/s eta 0:00:01\r\u001b[K     |███████▎                        | 61kB 7.1MB/s eta 0:00:01\r\u001b[K     |████████▌                       | 71kB 7.7MB/s eta 0:00:01\r\u001b[K     |█████████▊                      | 81kB 7.9MB/s eta 0:00:01\r\u001b[K     |███████████                     | 92kB 7.8MB/s eta 0:00:01\r\u001b[K     |████████████▏                   | 102kB 8.4MB/s eta 0:00:01\r\u001b[K     |█████████████▍                  | 112kB 8.4MB/s eta 0:00:01\r\u001b[K     |██████████████▋                 | 122kB 8.4MB/s eta 0:00:01\r\u001b[K     |███████████████▉                | 133kB 8.4MB/s eta 0:00:01\r\u001b[K     |█████████████████               | 143kB 8.4MB/s eta 0:00:01\r\u001b[K     |██████████████████▏             | 153kB 8.4MB/s eta 0:00:01\r\u001b[K     |███████████████████▍            | 163kB 8.4MB/s eta 0:00:01\r\u001b[K     |████████████████████▋           | 174kB 8.4MB/s eta 0:00:01\r\u001b[K     |█████████████████████▉          | 184kB 8.4MB/s eta 0:00:01\r\u001b[K     |███████████████████████         | 194kB 8.4MB/s eta 0:00:01\r\u001b[K     |████████████████████████▎       | 204kB 8.4MB/s eta 0:00:01\r\u001b[K     |█████████████████████████▌      | 215kB 8.4MB/s eta 0:00:01\r\u001b[K     |██████████████████████████▊     | 225kB 8.4MB/s eta 0:00:01\r\u001b[K     |████████████████████████████    | 235kB 8.4MB/s eta 0:00:01\r\u001b[K     |█████████████████████████████▏  | 245kB 8.4MB/s eta 0:00:01\r\u001b[K     |██████████████████████████████▍ | 256kB 8.4MB/s eta 0:00:01\r\u001b[K     |███████████████████████████████▋| 266kB 8.4MB/s eta 0:00:01\r\u001b[K     |████████████████████████████████| 276kB 8.4MB/s \n",
            "\u001b[?25hRequirement already satisfied: numpy in /usr/local/lib/python3.6/dist-packages (from ncempy) (1.18.5)\n",
            "Requirement already satisfied: scipy in /usr/local/lib/python3.6/dist-packages (from ncempy) (1.4.1)\n",
            "Requirement already satisfied: h5py>=2.9.0 in /usr/local/lib/python3.6/dist-packages (from ncempy) (2.10.0)\n",
            "Requirement already satisfied: matplotlib in /usr/local/lib/python3.6/dist-packages (from ncempy) (3.2.2)\n",
            "Requirement already satisfied: six in /usr/local/lib/python3.6/dist-packages (from h5py>=2.9.0->ncempy) (1.12.0)\n",
            "Requirement already satisfied: kiwisolver>=1.0.1 in /usr/local/lib/python3.6/dist-packages (from matplotlib->ncempy) (1.2.0)\n",
            "Requirement already satisfied: python-dateutil>=2.1 in /usr/local/lib/python3.6/dist-packages (from matplotlib->ncempy) (2.8.1)\n",
            "Requirement already satisfied: pyparsing!=2.0.4,!=2.1.2,!=2.1.6,>=2.0.1 in /usr/local/lib/python3.6/dist-packages (from matplotlib->ncempy) (2.4.7)\n",
            "Requirement already satisfied: cycler>=0.10 in /usr/local/lib/python3.6/dist-packages (from matplotlib->ncempy) (0.10.0)\n",
            "Installing collected packages: ncempy\n",
            "Successfully installed ncempy-1.6.0\n"
          ],
          "name": "stdout"
        }
      ]
    },
    {
      "cell_type": "code",
      "metadata": {
        "id": "LmCP2PWQXdkD",
        "colab_type": "code",
        "colab": {}
      },
      "source": [
        "import h5py\n",
        "import pyUSID as usid\n",
        "import pycroscopy as px\n",
        "import matplotlib.pyplot as plt"
      ],
      "execution_count": 9,
      "outputs": []
    },
    {
      "cell_type": "code",
      "metadata": {
        "id": "rUiPnQONYGWG",
        "colab_type": "code",
        "colab": {
          "base_uri": "https://localhost:8080/",
          "height": 530
        },
        "outputId": "8978308f-8d60-44fe-d02d-8eaf0529b791"
      },
      "source": [
        "file_path = '/content/SP128_NSO_VPFM0001.ibw'\n",
        "\n",
        "translator = px.io.translators.IgorIBWTranslator()\n",
        "\n",
        "h5_path = translator.translate(file_path)"
      ],
      "execution_count": 11,
      "outputs": [
        {
          "output_type": "stream",
          "text": [
            "/usr/local/lib/python3.6/dist-packages/pyUSID/io/hdf_utils/simple.py:1081: UserWarning: In the future write_ind_val_dsets will default to requiring dimensions to be arranged from slowest to fastest varying\n",
            "  warn('In the future write_ind_val_dsets will default to requiring dimensions to be arranged from slowest to fastest varying')\n"
          ],
          "name": "stderr"
        },
        {
          "output_type": "stream",
          "text": [
            "(1048576, 1)\n",
            "(1048576, 1)\n",
            "(1048576, 1)\n",
            "(1048576, 1)\n"
          ],
          "name": "stdout"
        },
        {
          "output_type": "stream",
          "text": [
            "/usr/local/lib/python3.6/dist-packages/pyUSID/io/usi_data.py:151: UserWarning: This dataset does not have an N-dimensional form\n",
            "  warn('This dataset does not have an N-dimensional form')\n"
          ],
          "name": "stderr"
        },
        {
          "output_type": "stream",
          "text": [
            "(1048576, 1)\n",
            "(1048576, 1)\n",
            "(1048576, 1)\n",
            "(1048576, 1)\n",
            "(1048576, 1)\n",
            "(1048576, 1)\n",
            "(1048576, 1)\n",
            "(1048576, 1)\n",
            "(1048576, 1)\n",
            "(1048576, 1)\n",
            "(1048576, 1)\n",
            "(1048576, 1)\n",
            "(1048576, 1)\n",
            "(1048576, 1)\n",
            "(1048576, 1)\n",
            "(1048576, 1)\n",
            "(1048576, 1)\n",
            "(1048576, 1)\n",
            "(1048576, 1)\n",
            "(1048576, 1)\n"
          ],
          "name": "stdout"
        }
      ]
    },
    {
      "cell_type": "code",
      "metadata": {
        "id": "8DvQuJarYxRW",
        "colab_type": "code",
        "colab": {}
      },
      "source": [
        "h5_f = h5py.File(h5_path, 'r+')"
      ],
      "execution_count": 12,
      "outputs": []
    },
    {
      "cell_type": "code",
      "metadata": {
        "id": "nR8N5L4GZTij",
        "colab_type": "code",
        "colab": {
          "base_uri": "https://localhost:8080/",
          "height": 457
        },
        "outputId": "88226fdb-987d-46a3-ca46-198d338e86f5"
      },
      "source": [
        "usid.hdf_utils.print_tree(h5_f)"
      ],
      "execution_count": 13,
      "outputs": [
        {
          "output_type": "stream",
          "text": [
            "/\n",
            "├ Measurement_000\n",
            "  ---------------\n",
            "  ├ Channel_000\n",
            "    -----------\n",
            "    ├ Raw_Data\n",
            "  ├ Channel_001\n",
            "    -----------\n",
            "    ├ Raw_Data\n",
            "  ├ Channel_002\n",
            "    -----------\n",
            "    ├ Raw_Data\n",
            "  ├ Channel_003\n",
            "    -----------\n",
            "    ├ Raw_Data\n",
            "  ├ Channel_004\n",
            "    -----------\n",
            "    ├ Raw_Data\n",
            "  ├ Channel_005\n",
            "    -----------\n",
            "    ├ Raw_Data\n",
            "  ├ Position_Indices\n",
            "  ├ Position_Values\n",
            "  ├ Spectroscopic_Indices\n",
            "  ├ Spectroscopic_Values\n"
          ],
          "name": "stdout"
        }
      ]
    },
    {
      "cell_type": "code",
      "metadata": {
        "id": "ltqedLPXZomE",
        "colab_type": "code",
        "colab": {
          "base_uri": "https://localhost:8080/",
          "height": 1000
        },
        "outputId": "40cad1ee-0d88-4dac-e5de-c40307d59a3a"
      },
      "source": [
        "main_dset = usid.hdf_utils.get_all_main(h5_f)\n",
        "\n",
        "print(main_dset)"
      ],
      "execution_count": 14,
      "outputs": [
        {
          "output_type": "stream",
          "text": [
            "/usr/local/lib/python3.6/dist-packages/pyUSID/io/usi_data.py:151: UserWarning: This dataset does not have an N-dimensional form\n",
            "  warn('This dataset does not have an N-dimensional form')\n"
          ],
          "name": "stderr"
        },
        {
          "output_type": "stream",
          "text": [
            "[<HDF5 dataset \"Raw_Data\": shape (1048576, 1), type \"<f4\">\n",
            "located at: \n",
            "\t/Measurement_000/Channel_000/Raw_Data \n",
            "Data contains: \n",
            "\tHeightRetrace (m) \n",
            "Data dimensions and original shape: \n",
            "Position Dimensions: \n",
            "\tY - size: 1024 \n",
            "\tX - size: 1024 \n",
            "Spectroscopic Dimensions: \n",
            "\tarb - size: 1\n",
            "Data Type:\n",
            "\tfloat32, <HDF5 dataset \"Raw_Data\": shape (1048576, 1), type \"<f4\">\n",
            "located at: \n",
            "\t/Measurement_000/Channel_001/Raw_Data \n",
            "Data contains: \n",
            "\tAmplitude1Retrace (m) \n",
            "Data dimensions and original shape: \n",
            "Position Dimensions: \n",
            "\tY - size: 1024 \n",
            "\tX - size: 1024 \n",
            "Spectroscopic Dimensions: \n",
            "\tarb - size: 1\n",
            "Data Type:\n",
            "\tfloat32, <HDF5 dataset \"Raw_Data\": shape (1048576, 1), type \"<f4\">\n",
            "located at: \n",
            "\t/Measurement_000/Channel_002/Raw_Data \n",
            "Data contains: \n",
            "\tAmplitude2Retrace (m) \n",
            "Data dimensions and original shape: \n",
            "Position Dimensions: \n",
            "\tY - size: 1024 \n",
            "\tX - size: 1024 \n",
            "Spectroscopic Dimensions: \n",
            "\tarb - size: 1\n",
            "Data Type:\n",
            "\tfloat32, <HDF5 dataset \"Raw_Data\": shape (1048576, 1), type \"<f4\">\n",
            "located at: \n",
            "\t/Measurement_000/Channel_003/Raw_Data \n",
            "Data contains: \n",
            "\tPhase1Retrace (m) \n",
            "Data dimensions and original shape: \n",
            "Position Dimensions: \n",
            "\tY - size: 1024 \n",
            "\tX - size: 1024 \n",
            "Spectroscopic Dimensions: \n",
            "\tarb - size: 1\n",
            "Data Type:\n",
            "\tfloat32, <HDF5 dataset \"Raw_Data\": shape (1048576, 1), type \"<f4\">\n",
            "located at: \n",
            "\t/Measurement_000/Channel_004/Raw_Data \n",
            "Data contains: \n",
            "\tPhase2Retraceetrace (deg) \n",
            "Data dimensions and original shape: \n",
            "Position Dimensions: \n",
            "\tY - size: 1024 \n",
            "\tX - size: 1024 \n",
            "Spectroscopic Dimensions: \n",
            "\tarb - size: 1\n",
            "Data Type:\n",
            "\tfloat32, <HDF5 dataset \"Raw_Data\": shape (1048576, 1), type \"<f4\">\n",
            "located at: \n",
            "\t/Measurement_000/Channel_005/Raw_Data \n",
            "Data contains: \n",
            "\tFrequencyRetrace (deg) \n",
            "Data dimensions and original shape: \n",
            "Position Dimensions: \n",
            "\tY - size: 1024 \n",
            "\tX - size: 1024 \n",
            "Spectroscopic Dimensions: \n",
            "\tarb - size: 1\n",
            "Data Type:\n",
            "\tfloat32]\n"
          ],
          "name": "stdout"
        }
      ]
    },
    {
      "cell_type": "markdown",
      "metadata": {
        "id": "LOj0HlupZTON",
        "colab_type": "text"
      },
      "source": [
        ""
      ]
    },
    {
      "cell_type": "code",
      "metadata": {
        "id": "oJDdf-g8fCKq",
        "colab_type": "code",
        "colab": {
          "base_uri": "https://localhost:8080/",
          "height": 287
        },
        "outputId": "1563e9b2-cee9-4a3b-d942-6235ac5fdba1"
      },
      "source": [
        "from ncempy.io import dm\n",
        "im0 = dm.dmReader('/content/gb_5_HAADF.dm3')\n",
        "plt.imshow(im0['data']) #show the single image from the data file"
      ],
      "execution_count": 32,
      "outputs": [
        {
          "output_type": "execute_result",
          "data": {
            "text/plain": [
              "<matplotlib.image.AxesImage at 0x7f85c3c9d940>"
            ]
          },
          "metadata": {
            "tags": []
          },
          "execution_count": 32
        },
        {
          "output_type": "display_data",
          "data": {
            "image/png": "[encoded data removed]",
            "text/plain": [
              "<Figure size 432x288 with 1 Axes>"
            ]
          },
          "metadata": {
            "tags": [],
            "needs_background": "light"
          }
        }
      ]
    },
    {
      "cell_type": "code",
      "metadata": {
        "id": "K0JhZH4tf4FZ",
        "colab_type": "code",
        "colab": {
          "base_uri": "https://localhost:8080/",
          "height": 35
        },
        "outputId": "86cd3d8d-823b-47c6-e61a-3deab4f47f68"
      },
      "source": [
        "im0['pixelUnit']"
      ],
      "execution_count": 34,
      "outputs": [
        {
          "output_type": "execute_result",
          "data": {
            "text/plain": [
              "['nm', 'nm']"
            ]
          },
          "metadata": {
            "tags": []
          },
          "execution_count": 34
        }
      ]
    },
    {
      "cell_type": "code",
      "metadata": {
        "id": "dPuCSnkjg9gf",
        "colab_type": "code",
        "colab": {
          "base_uri": "https://localhost:8080/",
          "height": 143
        },
        "outputId": "ececfc30-a236-48d3-d0fa-071929a6e903"
      },
      "source": [
        "from numpy import genfromtxt\n",
        "my_data = genfromtxt('Data.csv', delimiter=',',skip_header=1)\n",
        "print(my_data)"
      ],
      "execution_count": 37,
      "outputs": [
        {
          "output_type": "stream",
          "text": [
            "[[ 0.          0.          1.        ]\n",
            " [ 0.01        0.00999983  0.99995   ]\n",
            " [ 0.02        0.01999867  0.99980003]\n",
            " ...\n",
            " [ 9.97       -0.51860795  0.86851002]\n",
            " [ 9.98       -0.527132    0.86425339]\n",
            " [ 9.99       -0.53560334  0.85996087]]\n"
          ],
          "name": "stdout"
        }
      ]
    },
    {
      "cell_type": "code",
      "metadata": {
        "id": "eVhgJWf_hq_3",
        "colab_type": "code",
        "colab": {}
      },
      "source": [
        "import pandas as pd\n",
        "data_xlsx = pd.read_excel('Data.xlsx')"
      ],
      "execution_count": 38,
      "outputs": []
    },
    {
      "cell_type": "code",
      "metadata": {
        "id": "YGpdgnnhhuff",
        "colab_type": "code",
        "colab": {
          "base_uri": "https://localhost:8080/",
          "height": 204
        },
        "outputId": "8cd81e0f-f8c9-4fa5-9bfb-4a0a38dd3880"
      },
      "source": [
        "data_xlsx.head()"
      ],
      "execution_count": 39,
      "outputs": [
        {
          "output_type": "execute_result",
          "data": {
            "text/html": [
              "<div>\n",
              "<style scoped>\n",
              "    .dataframe tbody tr th:only-of-type {\n",
              "        vertical-align: middle;\n",
              "    }\n",
              "\n",
              "    .dataframe tbody tr th {\n",
              "        vertical-align: top;\n",
              "    }\n",
              "\n",
              "    .dataframe thead th {\n",
              "        text-align: right;\n",
              "    }\n",
              "</style>\n",
              "<table border=\"1\" class=\"dataframe\">\n",
              "  <thead>\n",
              "    <tr style=\"text-align: right;\">\n",
              "      <th></th>\n",
              "      <th>X</th>\n",
              "      <th>sin(x)</th>\n",
              "      <th>cos(x)</th>\n",
              "    </tr>\n",
              "  </thead>\n",
              "  <tbody>\n",
              "    <tr>\n",
              "      <th>0</th>\n",
              "      <td>0.00</td>\n",
              "      <td>0.000000</td>\n",
              "      <td>1.000000</td>\n",
              "    </tr>\n",
              "    <tr>\n",
              "      <th>1</th>\n",
              "      <td>0.01</td>\n",
              "      <td>0.010000</td>\n",
              "      <td>0.999950</td>\n",
              "    </tr>\n",
              "    <tr>\n",
              "      <th>2</th>\n",
              "      <td>0.02</td>\n",
              "      <td>0.019999</td>\n",
              "      <td>0.999800</td>\n",
              "    </tr>\n",
              "    <tr>\n",
              "      <th>3</th>\n",
              "      <td>0.03</td>\n",
              "      <td>0.029996</td>\n",
              "      <td>0.999550</td>\n",
              "    </tr>\n",
              "    <tr>\n",
              "      <th>4</th>\n",
              "      <td>0.04</td>\n",
              "      <td>0.039989</td>\n",
              "      <td>0.999201</td>\n",
              "    </tr>\n",
              "  </tbody>\n",
              "</table>\n",
              "</div>"
            ],
            "text/plain": [
              "      X    sin(x)    cos(x)\n",
              "0  0.00  0.000000  1.000000\n",
              "1  0.01  0.010000  0.999950\n",
              "2  0.02  0.019999  0.999800\n",
              "3  0.03  0.029996  0.999550\n",
              "4  0.04  0.039989  0.999201"
            ]
          },
          "metadata": {
            "tags": []
          },
          "execution_count": 39
        }
      ]
    },
    {
      "cell_type": "code",
      "metadata": {
        "id": "c7MUFitIi2yM",
        "colab_type": "code",
        "colab": {
          "base_uri": "https://localhost:8080/",
          "height": 35
        },
        "outputId": "74a4f261-6f3a-4f2c-81cc-226addb3e698"
      },
      "source": [
        "wget.download('https://www2.lehigh.edu/sites/www2/files/2020-02/Hulvat-4710.jpg','lehigh.jpg')"
      ],
      "execution_count": 44,
      "outputs": [
        {
          "output_type": "execute_result",
          "data": {
            "application/vnd.google.colaboratory.intrinsic": {
              "type": "string"
            },
            "text/plain": [
              "'lehigh.jpg'"
            ]
          },
          "metadata": {
            "tags": []
          },
          "execution_count": 44
        }
      ]
    },
    {
      "cell_type": "code",
      "metadata": {
        "id": "MlSlaYugjEwD",
        "colab_type": "code",
        "colab": {}
      },
      "source": [
        "from matplotlib import image\n",
        "image_file = image.imread('lehigh.jpg')"
      ],
      "execution_count": 45,
      "outputs": []
    },
    {
      "cell_type": "code",
      "metadata": {
        "id": "slhMsKyFjN9o",
        "colab_type": "code",
        "colab": {
          "base_uri": "https://localhost:8080/",
          "height": 35
        },
        "outputId": "97cc9939-8bd6-456b-ab06-3cb54367fee3"
      },
      "source": [
        "image_file.shape"
      ],
      "execution_count": 46,
      "outputs": [
        {
          "output_type": "execute_result",
          "data": {
            "text/plain": [
              "(638, 1080, 3)"
            ]
          },
          "metadata": {
            "tags": []
          },
          "execution_count": 46
        }
      ]
    },
    {
      "cell_type": "code",
      "metadata": {
        "id": "atzfqGMK1iZl",
        "colab_type": "code",
        "colab": {
          "base_uri": "https://localhost:8080/",
          "height": 367
        },
        "outputId": "45482458-88eb-4cb3-faeb-4bb1d77b2863"
      },
      "source": [
        "import matplotlib.pyplot as plt\n",
        "from matplotlib.gridspec import GridSpec\n",
        "import numpy as np\n",
        "\n",
        "#def format_axes(fig):\n",
        "#    for i, ax in enumerate(fig.axes):\n",
        "#        ax.text(0.5, 0.5, \"ax%d\" % (i+1), va=\"center\", ha=\"center\")\n",
        "#        ax.tick_params(labelbottom=False, labelleft=False)\n",
        "\n",
        "fig = plt.figure(constrained_layout=True)\n",
        "gs = GridSpec(3, 3, figure=fig)\n",
        "ax1 = fig.add_subplot(gs[0, 0])\n",
        "ax11 = fig.add_subplot(gs[0,1])\n",
        "ax12 = fig.add_subplot(gs[0,2])\n",
        "\n",
        "ax2 = fig.add_subplot(gs[1, :-1])\n",
        "ax3 = fig.add_subplot(gs[1:, -1])\n",
        "ax4 = fig.add_subplot(gs[-1, 0])\n",
        "ax5 = fig.add_subplot(gs[-1, -2])\n",
        "\n",
        "ax_list = [ax1, ax11, ax12]\n",
        "\n",
        "for i, ax in enumerate(ax_list): \n",
        "  print(f'/Measurement_000/Channel_00{i*2}/Raw_Data')\n",
        "  ax.imshow(np.array(h5_f[f'/Measurement_000/Channel_00{i*2}/Raw_Data']).reshape(1024,1024))\n",
        "\n",
        "ax3.imshow(im0['data'])\n",
        "\n",
        "ax2.plot(my_data[:,0],my_data[:,1])\n",
        "ax2.plot(data_xlsx['X'],data_xlsx['cos(x)'])\n",
        "\n",
        "ax4.imshow(image_file)\n",
        "ax5.imshow(image_file[:,:,0])\n",
        "#format_axes(fig)\n",
        "\n",
        "plt.savefig('fig.svg', dpi=300)"
      ],
      "execution_count": 51,
      "outputs": [
        {
          "output_type": "stream",
          "text": [
            "/Measurement_000/Channel_000/Raw_Data\n",
            "/Measurement_000/Channel_002/Raw_Data\n",
            "/Measurement_000/Channel_004/Raw_Data\n"
          ],
          "name": "stdout"
        },
        {
          "output_type": "display_data",
          "data": {
            "image/png": "[encoded data removed]",
            "text/plain": [
              "<Figure size 432x288 with 7 Axes>"
            ]
          },
          "metadata": {
            "tags": [],
            "needs_background": "light"
          }
        }
      ]
    },
    {
      "cell_type": "code",
      "metadata": {
        "id": "rnC-1Euyap3H",
        "colab_type": "code",
        "colab": {
          "base_uri": "https://localhost:8080/",
          "height": 35
        },
        "outputId": "b29ead37-daec-49b6-c2be-03d6dcfb4152"
      },
      "source": [
        "np.array(h5_f['/Measurement_000/Channel_000/Raw_Data']).shape"
      ],
      "execution_count": 19,
      "outputs": [
        {
          "output_type": "execute_result",
          "data": {
            "text/plain": [
              "(1048576, 1)"
            ]
          },
          "metadata": {
            "tags": []
          },
          "execution_count": 19
        }
      ]
    },
    {
      "cell_type": "markdown",
      "metadata": {
        "id": "E7d5KUN4wOUI",
        "colab_type": "text"
      },
      "source": [
        "### Loading Data from a variety of sources"
      ]
    },
    {
      "cell_type": "markdown",
      "metadata": {
        "colab_type": "text",
        "id": "C3AVXktropQT"
      },
      "source": [
        "## Parts of a Figure\n",
        "![](https://matplotlib.org/_images/anatomy.png)"
      ]
    },
    {
      "cell_type": "markdown",
      "metadata": {
        "colab_type": "text",
        "id": "j_qxlM46opQY"
      },
      "source": [
        "# Graphical Integrity"
      ]
    },
    {
      "cell_type": "markdown",
      "metadata": {
        "colab_type": "text",
        "id": "8ayJKno-opQc"
      },
      "source": [
        "# Color scales"
      ]
    },
    {
      "cell_type": "markdown",
      "metadata": {
        "id": "QC9fwFQZZy_0",
        "colab_type": "text"
      },
      "source": [
        "# More details about perceptually correct colormaps"
      ]
    },
    {
      "cell_type": "markdown",
      "metadata": {
        "colab_type": "text",
        "id": "cI28x-YeopQl"
      },
      "source": [
        "# Choosing Colors for your Figures"
      ]
    },
    {
      "cell_type": "markdown",
      "metadata": {
        "colab_type": "text",
        "id": "U5aFUWM5opQo"
      },
      "source": [
        "# Types of Graphs"
      ]
    },
    {
      "cell_type": "markdown",
      "metadata": {
        "id": "ufMImc2LZy_9",
        "colab_type": "text"
      },
      "source": [
        "# Violin Plots\n",
        "* Like a box plot but provides a deeper understanding of data density\n",
        "* Good when you have large datasets"
      ]
    },
    {
      "cell_type": "markdown",
      "metadata": {
        "id": "x9eab9CXZzAA",
        "colab_type": "text"
      },
      "source": [
        "# 2D Density Plot\n",
        "* Used to compare 2D quantitative information\n",
        "* Good for small data sets\n",
        "* When the density of data is high (shouldn't use a scatter plot)"
      ]
    },
    {
      "cell_type": "markdown",
      "metadata": {
        "id": "s9A5MJ3eZzAC",
        "colab_type": "text"
      },
      "source": [
        "# Correlogram\n",
        "A correlogram or correlation matrix allows to analyse the relationship between each pair of numerical variables of a matrix."
      ]
    },
    {
      "cell_type": "markdown",
      "metadata": {
        "id": "6p7tgK9nZzAF",
        "colab_type": "text"
      },
      "source": [
        "# Dendrogram\n",
        "* A dendrogram or tree diagram allows to illustrate the hierarchical organisation of several entities."
      ]
    },
    {
      "cell_type": "markdown",
      "metadata": {
        "id": "LEWvfPzBZzAH",
        "colab_type": "text"
      },
      "source": [
        "# Graph Structures\n",
        "* Show interconnections between a set of entities. \n",
        "* Each entity is represented by a Node (or vertices). \n",
        "* Connection between nodes are represented through links (or edges).\n",
        "* Directed or undirected, weighted or unweighted."
      ]
    },
    {
      "cell_type": "markdown",
      "metadata": {
        "colab_type": "text",
        "id": "Y9CDzbKIopQ6"
      },
      "source": [
        "# Guiding Principles"
      ]
    },
    {
      "cell_type": "markdown",
      "metadata": {
        "colab_type": "text",
        "id": "bTdkDQmyopRN"
      },
      "source": [
        "# WTF Graphs"
      ]
    },
    {
      "cell_type": "markdown",
      "metadata": {
        "id": "yfttWnj-TT0L",
        "colab_type": "text"
      },
      "source": [
        "# Assignment: \n",
        "\n",
        "Take a graph that you have previously used for a publication or assignment and recreate it based on concepts discussed in class. Please provide the original image and the updated image exported from python."
      ]
    }
  ]
}