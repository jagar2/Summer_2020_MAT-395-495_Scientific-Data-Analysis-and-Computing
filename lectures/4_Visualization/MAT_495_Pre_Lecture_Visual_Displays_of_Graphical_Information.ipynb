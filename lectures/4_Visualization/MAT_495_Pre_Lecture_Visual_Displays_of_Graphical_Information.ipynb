{
  "nbformat": 4,
  "nbformat_minor": 0,
  "metadata": {
    "colab": {
      "name": "Pre_Lecture Visual_Displays_of_Graphical_Information.ipynb",
      "provenance": []
    },
    "kernelspec": {
      "name": "python3",
      "display_name": "Python 3"
    }
  },
  "cells": [
    {
      "cell_type": "code",
      "metadata": {
        "id": "OuMX474vZy_f",
        "colab_type": "code",
        "colab": {}
      },
      "source": [
        "# Libraries\n",
        "from IPython.display import IFrame\n",
        "import numpy as np\n",
        "import matplotlib.pyplot as plt\n",
        "from scipy.stats import kde"
      ],
      "execution_count": null,
      "outputs": []
    },
    {
      "cell_type": "markdown",
      "metadata": {
        "id": "NuB4p6sdZy_l",
        "colab_type": "text"
      },
      "source": [
        "# Data Graphics"
      ]
    },
    {
      "cell_type": "markdown",
      "metadata": {
        "id": "hLh1PuC3Zy_n",
        "colab_type": "text"
      },
      "source": [
        "# What does an Excellent Graphic Do?"
      ]
    },
    {
      "cell_type": "markdown",
      "metadata": {
        "id": "NpGNwBqGZy_t",
        "colab_type": "text"
      },
      "source": [
        "# Principles of Graphical Excellence"
      ]
    },
    {
      "cell_type": "markdown",
      "metadata": {
        "id": "7g82Rw-2DTyX",
        "colab_type": "text"
      },
      "source": [
        "# Graphing in Python"
      ]
    },
    {
      "cell_type": "markdown",
      "metadata": {
        "id": "pgJJLX1SG2qx",
        "colab_type": "text"
      },
      "source": [
        "# Matplotlib"
      ]
    },
    {
      "cell_type": "markdown",
      "metadata": {
        "id": "bif0N6SSIAv9",
        "colab_type": "text"
      },
      "source": [
        "## My First Plot"
      ]
    },
    {
      "cell_type": "markdown",
      "metadata": {
        "id": "LTvkwdgQIEHU",
        "colab_type": "text"
      },
      "source": [
        "## Formating Plots"
      ]
    },
    {
      "cell_type": "markdown",
      "metadata": {
        "id": "C8NMKQiIJiCu",
        "colab_type": "text"
      },
      "source": [
        "## Plotting with keyword strings"
      ]
    },
    {
      "cell_type": "markdown",
      "metadata": {
        "id": "8dfG2fnkJ13k",
        "colab_type": "text"
      },
      "source": [
        "## Plotting with categorical variables\n"
      ]
    },
    {
      "cell_type": "markdown",
      "metadata": {
        "id": "BkCZM70EKGcv",
        "colab_type": "text"
      },
      "source": [
        "## Controlling Line Properties"
      ]
    },
    {
      "cell_type": "markdown",
      "metadata": {
        "id": "XXwIlyCUMknl",
        "colab_type": "text"
      },
      "source": [
        "## Working with Multiple Figures"
      ]
    },
    {
      "cell_type": "markdown",
      "metadata": {
        "id": "mOggfLuBNStu",
        "colab_type": "text"
      },
      "source": [
        "## Working with Text"
      ]
    },
    {
      "cell_type": "markdown",
      "metadata": {
        "id": "3clBd7_tNvsb",
        "colab_type": "text"
      },
      "source": [
        "## Non-linear Axes"
      ]
    },
    {
      "cell_type": "markdown",
      "metadata": {
        "id": "0Vp8fMNCOM6z",
        "colab_type": "text"
      },
      "source": [
        "## Exporting and Printing"
      ]
    },
    {
      "cell_type": "markdown",
      "metadata": {
        "id": "Ljc8zyHSQMgq",
        "colab_type": "text"
      },
      "source": [
        "## Parts of a Figure"
      ]
    },
    {
      "cell_type": "markdown",
      "metadata": {
        "id": "dceKCiozZy_v",
        "colab_type": "text"
      },
      "source": [
        "# Graphical Integrity"
      ]
    },
    {
      "cell_type": "markdown",
      "metadata": {
        "id": "ekSHL7utDQme",
        "colab_type": "text"
      },
      "source": [
        "\n",
        "Graphics are just like words, they can be used to deceive"
      ]
    },
    {
      "cell_type": "markdown",
      "metadata": {
        "id": "y6FeB_hYZy_x",
        "colab_type": "text"
      },
      "source": [
        "# Color scales"
      ]
    },
    {
      "cell_type": "markdown",
      "metadata": {
        "id": "RLFasixSZy_4",
        "colab_type": "text"
      },
      "source": [
        "# Choosing Colors for your Figures"
      ]
    },
    {
      "cell_type": "markdown",
      "metadata": {
        "id": "QI_epRAMZy_7",
        "colab_type": "text"
      },
      "source": [
        "# Types of Graphs"
      ]
    },
    {
      "cell_type": "markdown",
      "metadata": {
        "id": "Lpn7IGo_ZzAK",
        "colab_type": "text"
      },
      "source": [
        "# Guiding Principals for Graphing"
      ]
    },
    {
      "cell_type": "markdown",
      "metadata": {
        "id": "_HxTsiU-ZzAf",
        "colab_type": "text"
      },
      "source": [
        "# WTF Graphs"
      ]
    },
    {
      "cell_type": "markdown",
      "metadata": {
        "id": "yfttWnj-TT0L",
        "colab_type": "text"
      },
      "source": [
        "# Assignment: \n",
        "\n",
        "Take a graph that you have previously used for a publication or assignment and recreate it based on concepts discussed in class. Please provide the original image and the updated image exported from python."
      ]
    },
    {
      "cell_type": "code",
      "metadata": {
        "id": "JxbUaTa5TqLo",
        "colab_type": "code",
        "colab": {}
      },
      "source": [
        ""
      ],
      "execution_count": null,
      "outputs": []
    }
  ]
}