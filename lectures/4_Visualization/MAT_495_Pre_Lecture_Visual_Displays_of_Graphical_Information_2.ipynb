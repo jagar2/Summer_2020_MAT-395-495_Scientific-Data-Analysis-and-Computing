{
  "nbformat": 4,
  "nbformat_minor": 0,
  "metadata": {
    "colab": {
      "name": "PreLecture_MAT_495_Visual_Displays_of_Graphical_Information_2",
      "provenance": [],
      "collapsed_sections": [
        "C3AVXktropQT",
        "yfttWnj-TT0L"
      ],
      "toc_visible": true
    },
    "kernelspec": {
      "name": "python3",
      "display_name": "Python 3"
    }
  },
  "cells": [
    {
      "cell_type": "markdown",
      "metadata": {
        "id": "pgJJLX1SG2qx",
        "colab_type": "text"
      },
      "source": [
        "# Matplotlib"
      ]
    },
    {
      "cell_type": "markdown",
      "metadata": {
        "id": "XXwIlyCUMknl",
        "colab_type": "text"
      },
      "source": [
        "## Working with Multiple Figures"
      ]
    },
    {
      "cell_type": "code",
      "metadata": {
        "id": "atzfqGMK1iZl",
        "colab_type": "code",
        "colab": {
          "base_uri": "https://localhost:8080/",
          "height": 313
        },
        "outputId": "c3e09b22-55f2-4f0d-c4ae-c95304f2857a"
      },
      "source": [
        "import matplotlib.pyplot as plt\n",
        "from matplotlib.gridspec import GridSpec\n",
        "\n",
        "def format_axes(fig):\n",
        "    for i, ax in enumerate(fig.axes):\n",
        "        ax.text(0.5, 0.5, \"ax%d\" % (i+1), va=\"center\", ha=\"center\")\n",
        "        ax.tick_params(labelbottom=False, labelleft=False)\n",
        "\n",
        "fig = plt.figure(constrained_layout=True)\n",
        "gs = GridSpec(3, 3, figure=fig)\n",
        "ax1 = fig.add_subplot(gs[0, :])\n",
        "ax2 = fig.add_subplot(gs[1, :-1])\n",
        "ax3 = fig.add_subplot(gs[1:, -1])\n",
        "ax4 = fig.add_subplot(gs[-1, 0])\n",
        "ax5 = fig.add_subplot(gs[-1, -2])\n",
        "\n",
        "format_axes(fig)"
      ],
      "execution_count": null,
      "outputs": [
        {
          "output_type": "display_data",
          "data": {
            "image/png": "[encoded data removed]",
            "text/plain": [
              "<Figure size 432x288 with 5 Axes>"
            ]
          },
          "metadata": {
            "tags": []
          }
        }
      ]
    },
    {
      "cell_type": "markdown",
      "metadata": {
        "id": "E7d5KUN4wOUI",
        "colab_type": "text"
      },
      "source": [
        "### Loading Data from a variety of sources"
      ]
    },
    {
      "cell_type": "markdown",
      "metadata": {
        "colab_type": "text",
        "id": "C3AVXktropQT"
      },
      "source": [
        "## Parts of a Figure\n",
        "![](https://matplotlib.org/_images/anatomy.png)"
      ]
    },
    {
      "cell_type": "markdown",
      "metadata": {
        "colab_type": "text",
        "id": "j_qxlM46opQY"
      },
      "source": [
        "# Graphical Integrity"
      ]
    },
    {
      "cell_type": "markdown",
      "metadata": {
        "colab_type": "text",
        "id": "8ayJKno-opQc"
      },
      "source": [
        "# Color scales"
      ]
    },
    {
      "cell_type": "markdown",
      "metadata": {
        "id": "QC9fwFQZZy_0",
        "colab_type": "text"
      },
      "source": [
        "# More details about perceptually correct colormaps"
      ]
    },
    {
      "cell_type": "markdown",
      "metadata": {
        "colab_type": "text",
        "id": "cI28x-YeopQl"
      },
      "source": [
        "# Choosing Colors for your Figures"
      ]
    },
    {
      "cell_type": "markdown",
      "metadata": {
        "colab_type": "text",
        "id": "U5aFUWM5opQo"
      },
      "source": [
        "# Types of Graphs"
      ]
    },
    {
      "cell_type": "markdown",
      "metadata": {
        "id": "ufMImc2LZy_9",
        "colab_type": "text"
      },
      "source": [
        "# Violin Plots\n",
        "* Like a box plot but provides a deeper understanding of data density\n",
        "* Good when you have large datasets"
      ]
    },
    {
      "cell_type": "markdown",
      "metadata": {
        "id": "x9eab9CXZzAA",
        "colab_type": "text"
      },
      "source": [
        "# 2D Density Plot\n",
        "* Used to compare 2D quantitative information\n",
        "* Good for small data sets\n",
        "* When the density of data is high (shouldn't use a scatter plot)"
      ]
    },
    {
      "cell_type": "markdown",
      "metadata": {
        "id": "s9A5MJ3eZzAC",
        "colab_type": "text"
      },
      "source": [
        "# Correlogram\n",
        "A correlogram or correlation matrix allows to analyse the relationship between each pair of numerical variables of a matrix."
      ]
    },
    {
      "cell_type": "markdown",
      "metadata": {
        "id": "6p7tgK9nZzAF",
        "colab_type": "text"
      },
      "source": [
        "# Dendrogram\n",
        "* A dendrogram or tree diagram allows to illustrate the hierarchical organisation of several entities."
      ]
    },
    {
      "cell_type": "markdown",
      "metadata": {
        "id": "LEWvfPzBZzAH",
        "colab_type": "text"
      },
      "source": [
        "# Graph Structures\n",
        "* Show interconnections between a set of entities. \n",
        "* Each entity is represented by a Node (or vertices). \n",
        "* Connection between nodes are represented through links (or edges).\n",
        "* Directed or undirected, weighted or unweighted."
      ]
    },
    {
      "cell_type": "markdown",
      "metadata": {
        "colab_type": "text",
        "id": "Y9CDzbKIopQ6"
      },
      "source": [
        "# Guiding Principles"
      ]
    },
    {
      "cell_type": "markdown",
      "metadata": {
        "colab_type": "text",
        "id": "bTdkDQmyopRN"
      },
      "source": [
        "# WTF Graphs"
      ]
    },
    {
      "cell_type": "markdown",
      "metadata": {
        "id": "yfttWnj-TT0L",
        "colab_type": "text"
      },
      "source": [
        "# Assignment: \n",
        "\n",
        "Take a graph that you have previously used for a publication or assignment and recreate it based on concepts discussed in class. Please provide the original image and the updated image exported from python."
      ]
    }
  ]
}