{
  "nbformat": 4,
  "nbformat_minor": 0,
  "metadata": {
    "kernelspec": {
      "display_name": "Python 3",
      "language": "python",
      "name": "python3"
    },
    "language_info": {
      "codemirror_mode": {
        "name": "ipython",
        "version": 3
      },
      "file_extension": ".py",
      "mimetype": "text/x-python",
      "name": "python",
      "nbconvert_exporter": "python",
      "pygments_lexer": "ipython3",
      "version": "3.7.4"
    },
    "colab": {
      "name": "MAT495_PreLecture_Image_Analysis",
      "provenance": [],
      "toc_visible": true
    }
  },
  "cells": [
    {
      "cell_type": "code",
      "metadata": {
        "id": "rNhN0-Hp462M",
        "colab_type": "code",
        "colab": {
          "base_uri": "https://localhost:8080/",
          "height": 52
        },
        "outputId": "53642f23-b4e6-4d04-acc2-d7baaf0ccfbb"
      },
      "source": [
        "!git clone https://github.com/jagar2/Summer_2020_MAT-395-495_Scientific-Data-Analysis-and-Computing.git\n",
        "!git checkout josh_branch\n",
        "cd '/content/Summer_2020_MAT-395-495_Scientific-Data-Analysis-and-Computing/lectures/5_Image_Analysis'"
      ],
      "execution_count": null,
      "outputs": [
        {
          "output_type": "stream",
          "text": [
            "fatal: destination path 'Summer_2020_MAT-395-495_Scientific-Data-Analysis-and-Computing' already exists and is not an empty directory.\n",
            "fatal: not a git repository (or any of the parent directories): .git\n"
          ],
          "name": "stdout"
        }
      ]
    },
    {
      "cell_type": "code",
      "metadata": {
        "id": "gXucH3Yj58Rf",
        "colab_type": "code",
        "colab": {
          "base_uri": "https://localhost:8080/",
          "height": 87
        },
        "outputId": "fc445b15-3ca1-4726-d26f-d82f6e752615"
      },
      "source": [
        "%cd '/content/Summer_2020_MAT-395-495_Scientific-Data-Analysis-and-Computing/lectures/5_Image_Analysis'"
      ],
      "execution_count": null,
      "outputs": [
        {
          "output_type": "stream",
          "text": [
            "/content/Summer_2020_MAT-395-495_Scientific-Data-Analysis-and-Computing\n",
            "Already on 'Josh_Branch'\n",
            "Your branch is up to date with 'origin/Josh_Branch'.\n",
            "/content/Summer_2020_MAT-395-495_Scientific-Data-Analysis-and-Computing/lectures/5_Image_Analysis\n"
          ],
          "name": "stdout"
        }
      ]
    },
    {
      "cell_type": "code",
      "metadata": {
        "id": "6RKJzbPT4m3A",
        "colab_type": "code",
        "colab": {
          "base_uri": "https://localhost:8080/",
          "height": 123
        },
        "outputId": "a4b5d6c8-d941-4b3a-b08a-9bd8b33e387a"
      },
      "source": [
        "# This just checks to make sure you have the right packages installed\n",
        "%run check_setup.py"
      ],
      "execution_count": null,
      "outputs": [
        {
          "output_type": "stream",
          "text": [
            "[✓] scikit-image  0.16.2\n",
            "[✓] numpy         1.18.5\n",
            "[✓] scipy         1.4.1\n",
            "[✓] matplotlib    3.2.2\n",
            "[✓] notebook      5.2.2\n",
            "[✓] scikit-learn  0.22.2.post1\n"
          ],
          "name": "stdout"
        }
      ]
    },
    {
      "cell_type": "code",
      "metadata": {
        "id": "-GNGYFh74m3F",
        "colab_type": "code",
        "colab": {}
      },
      "source": [
        "# Magic command to make plotting inline\n",
        "%matplotlib inline\n",
        "\n",
        "# sets the figure format\n",
        "%config InlineBackend.figure_format = 'retina'"
      ],
      "execution_count": null,
      "outputs": []
    },
    {
      "cell_type": "markdown",
      "metadata": {
        "id": "d355len94m3I",
        "colab_type": "text"
      },
      "source": [
        "# Images are numpy arrays"
      ]
    },
    {
      "cell_type": "markdown",
      "metadata": {
        "id": "HJY3ayKi4m3Z",
        "colab_type": "text"
      },
      "source": [
        "## Displaying images using matplotlib"
      ]
    },
    {
      "cell_type": "markdown",
      "metadata": {
        "id": "bTJWj9IC4m3m",
        "colab_type": "text"
      },
      "source": [
        "## Image I/O\n"
      ]
    },
    {
      "cell_type": "markdown",
      "metadata": {
        "id": "1F3Vmw3c4m4M",
        "colab_type": "text"
      },
      "source": [
        "# Image filtering"
      ]
    },
    {
      "cell_type": "markdown",
      "metadata": {
        "id": "z70eT-TY4m4M",
        "colab_type": "text"
      },
      "source": [
        "## Image filtering theory"
      ]
    },
    {
      "cell_type": "markdown",
      "metadata": {
        "id": "9rUTmulA4m4N",
        "colab_type": "text"
      },
      "source": [
        "### Local filtering"
      ]
    },
    {
      "cell_type": "markdown",
      "metadata": {
        "id": "dnnZ2mTd4m4t",
        "colab_type": "text"
      },
      "source": [
        "#### Commutativity and assortativity of filters"
      ]
    },
    {
      "cell_type": "markdown",
      "metadata": {
        "id": "ADaTx9w84m45",
        "colab_type": "text"
      },
      "source": [
        "## Local filtering of images"
      ]
    },
    {
      "cell_type": "markdown",
      "metadata": {
        "id": "dI8P1Z-74m5M",
        "colab_type": "text"
      },
      "source": [
        "## Essential filters"
      ]
    },
    {
      "cell_type": "markdown",
      "metadata": {
        "id": "ykc2yGxN4m5O",
        "colab_type": "text"
      },
      "source": [
        "### Gaussian filter"
      ]
    },
    {
      "cell_type": "markdown",
      "metadata": {
        "id": "r_yIL93-4m5Y",
        "colab_type": "text"
      },
      "source": [
        "### Basic edge filtering"
      ]
    },
    {
      "cell_type": "markdown",
      "metadata": {
        "id": "n2j00xnk4m5Z",
        "colab_type": "text"
      },
      "source": [
        "#### Difference filters in 2D"
      ]
    },
    {
      "cell_type": "markdown",
      "metadata": {
        "id": "G7caiAny4m5t",
        "colab_type": "text"
      },
      "source": [
        "## Denoising filters"
      ]
    },
    {
      "cell_type": "markdown",
      "metadata": {
        "id": "vFZAQj0Z4m5t",
        "colab_type": "text"
      },
      "source": [
        "### Median Filter"
      ]
    },
    {
      "cell_type": "markdown",
      "metadata": {
        "id": "leXJBFs94m5v",
        "colab_type": "text"
      },
      "source": [
        "## Further reading"
      ]
    },
    {
      "cell_type": "markdown",
      "metadata": {
        "id": "VxrD_8gN4m5y",
        "colab_type": "text"
      },
      "source": [
        "# Feature detection"
      ]
    },
    {
      "cell_type": "markdown",
      "metadata": {
        "id": "P-Z2Vo4O4m5y",
        "colab_type": "text"
      },
      "source": [
        "## Edge detection"
      ]
    },
    {
      "cell_type": "markdown",
      "metadata": {
        "id": "GVTgD1ZW4m52",
        "colab_type": "text"
      },
      "source": [
        "### Canny edge detector"
      ]
    },
    {
      "cell_type": "markdown",
      "metadata": {
        "id": "mKPpHZ0e4m6K",
        "colab_type": "text"
      },
      "source": [
        "## Hough transforms"
      ]
    },
    {
      "cell_type": "markdown",
      "metadata": {
        "id": "d_pclt6f4m6K",
        "colab_type": "text"
      },
      "source": [
        "### Circle detection"
      ]
    },
    {
      "cell_type": "markdown",
      "metadata": {
        "id": "iml8h8284m6U",
        "colab_type": "text"
      },
      "source": [
        "## Further reading"
      ]
    },
    {
      "cell_type": "markdown",
      "metadata": {
        "id": "f2fqOyoQ4m6W",
        "colab_type": "text"
      },
      "source": [
        "* [Probabilistic Hough transform](http://scikit-image.org/docs/dev/auto_examples/plot_line_hough_transform.html)\n",
        "* [Circular and elliptical Hough transforms](http://scikit-image.org/docs/dev/auto_examples/plot_circular_elliptical_hough_transform.html)\n",
        "* [Template matching](http://scikit-image.org/docs/dev/auto_examples/plot_template.html)\n",
        "* [Histogram of Oriented Gradients](http://scikit-image.org/docs/dev/auto_examples/plot_hog.html)\n",
        "* [BRIEF](http://scikit-image.org/docs/dev/auto_examples/plot_brief.html), [CENSURE](http://scikit-image.org/docs/dev/auto_examples/plot_censure.html), and [ORB](http://scikit-image.org/docs/dev/auto_examples/plot_orb.html) feature detectors/descriptors\n",
        "* [Robust matching using RANSAC](http://scikit-image.org/docs/dev/auto_examples/plot_matching.html)"
      ]
    }
  ]
}