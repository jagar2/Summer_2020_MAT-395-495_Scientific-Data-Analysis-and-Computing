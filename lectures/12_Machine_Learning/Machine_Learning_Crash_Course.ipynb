{
  "nbformat": 4,
  "nbformat_minor": 0,
  "metadata": {
    "colab": {
      "name": "Machine Learning Crash Course",
      "provenance": [],
      "collapsed_sections": []
    },
    "kernelspec": {
      "name": "python3",
      "display_name": "Python 3"
    },
    "accelerator": "GPU"
  },
  "cells": [
    {
      "cell_type": "markdown",
      "metadata": {
        "id": "_cTq2PJczmWY",
        "colab_type": "text"
      },
      "source": [
        "# Machine Learning\n",
        "\n",
        "The problem is to take *n*-samples of data and try to predict a property of unknown data\n",
        "\n",
        "* You can only get out what you put in. You need good features."
      ]
    },
    {
      "cell_type": "markdown",
      "metadata": {
        "id": "XR-Ww9PLzlpx",
        "colab_type": "text"
      },
      "source": [
        "# Preprocessing of Data\n",
        "\n",
        "* You view information differently than a computer, you need to make the information easy for a computer to understand\n",
        "\n",
        "* Computers like data that is standardized and well behaved. \n",
        "\n",
        "A good way is a mean of 0 and a standard deviation of 1"
      ]
    },
    {
      "cell_type": "code",
      "metadata": {
        "id": "RlXDQb3K0ulM",
        "colab_type": "code",
        "colab": {
          "base_uri": "https://localhost:8080/",
          "height": 53
        },
        "outputId": "35185066-6dac-487f-f304-56e0454161b5"
      },
      "source": [
        "# import scikit-learn\n",
        "import sklearn\n",
        "import tensorflow as tf\n",
        "\n",
        "mnist = tf.keras.datasets.mnist\n",
        "\n",
        "(x_train, y_train), (x_test, y_test) = mnist.load_data()\n",
        "\n",
        "x_train = x_train[0:1000]\n",
        "y_train = y_train[0:1000]\n",
        "x_test = x_test[0:100]\n",
        "y_test = y_test[0:100]\n",
        "\n",
        "\n",
        "print(x_train.shape)\n",
        "print(x_test.shape)"
      ],
      "execution_count": null,
      "outputs": [
        {
          "output_type": "stream",
          "text": [
            "(1000, 28, 28)\n",
            "(100, 28, 28)\n"
          ],
          "name": "stdout"
        }
      ]
    },
    {
      "cell_type": "markdown",
      "metadata": {
        "id": "nRooEkwn1Qgl",
        "colab_type": "text"
      },
      "source": [
        "# It is always good to view what is going into the computer."
      ]
    },
    {
      "cell_type": "code",
      "metadata": {
        "id": "xEPQAyna1gt5",
        "colab_type": "code",
        "colab": {
          "base_uri": "https://localhost:8080/",
          "height": 299
        },
        "outputId": "5ef5d326-e3b0-402d-fd49-2740309aa5d7"
      },
      "source": [
        "import numpy as np\n",
        "import matplotlib.pyplot as plt\n",
        "\n",
        "\n",
        "# selects a random example\n",
        "ind = np.random.randint(0,100)\n",
        "\n",
        "plt.imshow(x_train[ind], cmap='gray')\n",
        "plt.title(f'Target is {y_train[ind]}')"
      ],
      "execution_count": null,
      "outputs": [
        {
          "output_type": "execute_result",
          "data": {
            "text/plain": [
              "Text(0.5, 1.0, 'Target is 1')"
            ]
          },
          "metadata": {
            "tags": []
          },
          "execution_count": 2
        },
        {
          "output_type": "display_data",
          "data": {
            "image/png": "[encoded data removed]",
            "text/plain": [
              "<Figure size 432x288 with 1 Axes>"
            ]
          },
          "metadata": {
            "tags": [],
            "needs_background": "light"
          }
        }
      ]
    },
    {
      "cell_type": "code",
      "metadata": {
        "id": "SonA0yfT7P8v",
        "colab_type": "code",
        "colab": {
          "base_uri": "https://localhost:8080/",
          "height": 35
        },
        "outputId": "c3663201-28f4-4687-cc2d-beff9122b0e6"
      },
      "source": [
        "x_train[:].reshape(-1)"
      ],
      "execution_count": null,
      "outputs": [
        {
          "output_type": "execute_result",
          "data": {
            "text/plain": [
              "array([0, 0, 0, ..., 0, 0, 0], dtype=uint8)"
            ]
          },
          "metadata": {
            "tags": []
          },
          "execution_count": 3
        }
      ]
    },
    {
      "cell_type": "code",
      "metadata": {
        "id": "H-7POouK14X8",
        "colab_type": "code",
        "colab": {
          "base_uri": "https://localhost:8080/",
          "height": 1000
        },
        "outputId": "3c374464-88ab-4b23-8373-ea66af1037a4"
      },
      "source": [
        "from sklearn.preprocessing import StandardScaler\n",
        "\n",
        "scaler = StandardScaler()\n",
        "scaler.fit(x_train[:].reshape(x_train.shape[0],-1))\n",
        "\n",
        "print(scaler.mean_)\n",
        "print(scaler.var_)\n",
        "\n",
        "scaled_data = scaler.transform(x_train[:].reshape(x_train.shape[0],-1)).reshape(x_train.shape)"
      ],
      "execution_count": null,
      "outputs": [
        {
          "output_type": "stream",
          "text": [
            "[0.00000e+00 0.00000e+00 0.00000e+00 0.00000e+00 0.00000e+00 0.00000e+00\n",
            " 0.00000e+00 0.00000e+00 0.00000e+00 0.00000e+00 0.00000e+00 0.00000e+00\n",
            " 0.00000e+00 0.00000e+00 0.00000e+00 0.00000e+00 0.00000e+00 0.00000e+00\n",
            " 0.00000e+00 0.00000e+00 0.00000e+00 0.00000e+00 0.00000e+00 0.00000e+00\n",
            " 0.00000e+00 0.00000e+00 0.00000e+00 0.00000e+00 0.00000e+00 0.00000e+00\n",
            " 0.00000e+00 0.00000e+00 0.00000e+00 0.00000e+00 0.00000e+00 0.00000e+00\n",
            " 0.00000e+00 0.00000e+00 2.00000e-02 1.24000e-01 0.00000e+00 9.10000e-02\n",
            " 3.44000e-01 5.19000e-01 5.22000e-01 3.19000e-01 1.39000e-01 0.00000e+00\n",
            " 0.00000e+00 0.00000e+00 0.00000e+00 0.00000e+00 0.00000e+00 0.00000e+00\n",
            " 0.00000e+00 0.00000e+00 0.00000e+00 0.00000e+00 0.00000e+00 0.00000e+00\n",
            " 0.00000e+00 0.00000e+00 0.00000e+00 0.00000e+00 0.00000e+00 0.00000e+00\n",
            " 2.17000e-01 6.85000e-01 8.30000e-01 9.71000e-01 1.94700e+00 2.39800e+00\n",
            " 4.64800e+00 5.23000e+00 4.50900e+00 3.39100e+00 1.34100e+00 8.52000e-01\n",
            " 4.58000e-01 4.60000e-02 0.00000e+00 0.00000e+00 0.00000e+00 0.00000e+00\n",
            " 0.00000e+00 0.00000e+00 0.00000e+00 0.00000e+00 0.00000e+00 0.00000e+00\n",
            " 3.80000e-02 2.08000e-01 7.80000e-01 1.25500e+00 2.00800e+00 3.16800e+00\n",
            " 4.04100e+00 5.13700e+00 7.79300e+00 1.18140e+01 1.46840e+01 1.41090e+01\n",
            " 1.12470e+01 8.96100e+00 5.10900e+00 2.89800e+00 9.40000e-01 3.70000e-02\n",
            " 0.00000e+00 0.00000e+00 0.00000e+00 0.00000e+00 0.00000e+00 0.00000e+00\n",
            " 0.00000e+00 0.00000e+00 6.10000e-02 3.75000e-01 6.60000e-01 1.25600e+00\n",
            " 2.58800e+00 4.60700e+00 8.42900e+00 1.18580e+01 1.89910e+01 2.57850e+01\n",
            " 3.52330e+01 4.32580e+01 4.68690e+01 4.65000e+01 4.13990e+01 3.36870e+01\n",
            " 2.39380e+01 1.36960e+01 6.10900e+00 1.96000e+00 2.65000e-01 0.00000e+00\n",
            " 0.00000e+00 0.00000e+00 0.00000e+00 0.00000e+00 0.00000e+00 2.50000e-02\n",
            " 5.86000e-01 1.53000e+00 3.36900e+00 5.33800e+00 8.06200e+00 1.37390e+01\n",
            " 2.25400e+01 3.38720e+01 4.65670e+01 6.17370e+01 7.76790e+01 8.65090e+01\n",
            " 8.87840e+01 8.61280e+01 7.78130e+01 6.38830e+01 4.77610e+01 3.04960e+01\n",
            " 1.55020e+01 8.88900e+00 3.69600e+00 8.29000e-01 1.35000e-01 0.00000e+00\n",
            " 0.00000e+00 0.00000e+00 0.00000e+00 4.16000e-01 1.50900e+00 3.37300e+00\n",
            " 7.00800e+00 1.03370e+01 1.64540e+01 2.68740e+01 4.10900e+01 5.65140e+01\n",
            " 7.32230e+01 9.45100e+01 1.13360e+02 1.21035e+02 1.19660e+02 1.12751e+02\n",
            " 1.02301e+02 8.77590e+01 6.58100e+01 4.53570e+01 2.59460e+01 1.33490e+01\n",
            " 6.31000e+00 1.43800e+00 4.15000e-01 3.05000e-01 0.00000e+00 0.00000e+00\n",
            " 1.47000e-01 1.33700e+00 2.89900e+00 5.90400e+00 1.06060e+01 1.66090e+01\n",
            " 2.50800e+01 4.20030e+01 6.03360e+01 7.81350e+01 9.92700e+01 1.20847e+02\n",
            " 1.31977e+02 1.31305e+02 1.31780e+02 1.23979e+02 1.12345e+02 1.00172e+02\n",
            " 8.18130e+01 5.75370e+01 3.37930e+01 1.69580e+01 6.80300e+00 2.97800e+00\n",
            " 1.19300e+00 2.38000e-01 0.00000e+00 0.00000e+00 1.23000e-01 1.79200e+00\n",
            " 4.57000e+00 8.51700e+00 1.41010e+01 2.29050e+01 3.53270e+01 5.38360e+01\n",
            " 7.51690e+01 9.75120e+01 1.17845e+02 1.27351e+02 1.24108e+02 1.16434e+02\n",
            " 1.15035e+02 1.16267e+02 1.13494e+02 1.07142e+02 9.15540e+01 6.68270e+01\n",
            " 4.03840e+01 1.95970e+01 7.72200e+00 4.10000e+00 6.26000e-01 0.00000e+00\n",
            " 0.00000e+00 7.80000e-02 1.67000e-01 1.82200e+00 5.26700e+00 1.06430e+01\n",
            " 1.70030e+01 2.71910e+01 4.22240e+01 6.33580e+01 8.66660e+01 1.06361e+02\n",
            " 1.14915e+02 1.11040e+02 9.85120e+01 9.04710e+01 9.51550e+01 1.05802e+02\n",
            " 1.10005e+02 1.08146e+02 9.31680e+01 6.89100e+01 4.03510e+01 1.73520e+01\n",
            " 6.95900e+00 2.06400e+00 1.36000e-01 0.00000e+00 0.00000e+00 9.00000e-03\n",
            " 3.92000e-01 2.14800e+00 5.30800e+00 1.08750e+01 1.73950e+01 2.82740e+01\n",
            " 4.57090e+01 6.72620e+01 9.17580e+01 1.04467e+02 9.89160e+01 8.84820e+01\n",
            " 7.46720e+01 7.52210e+01 8.62130e+01 9.80480e+01 1.05899e+02 1.03992e+02\n",
            " 8.88040e+01 6.19800e+01 3.14420e+01 1.15780e+01 3.83600e+00 6.26000e-01\n",
            " 1.13000e-01 0.00000e+00 0.00000e+00 0.00000e+00 3.38000e-01 1.70800e+00\n",
            " 4.56300e+00 9.88500e+00 1.66540e+01 2.95230e+01 4.80940e+01 7.32560e+01\n",
            " 9.50840e+01 1.00386e+02 8.99870e+01 7.89200e+01 7.37960e+01 7.87080e+01\n",
            " 8.97140e+01 1.01366e+02 1.03579e+02 1.00767e+02 7.89990e+01 5.13580e+01\n",
            " 2.43940e+01 9.18400e+00 2.72900e+00 1.41000e-01 2.17000e-01 0.00000e+00\n",
            " 0.00000e+00 0.00000e+00 1.68000e-01 1.04700e+00 4.10200e+00 9.75500e+00\n",
            " 1.91430e+01 3.43270e+01 5.52810e+01 8.35610e+01 1.00447e+02 9.84290e+01\n",
            " 8.55370e+01 8.09840e+01 8.80020e+01 9.83440e+01 1.10291e+02 1.14115e+02\n",
            " 1.10560e+02 9.48630e+01 6.99330e+01 4.20670e+01 2.16180e+01 8.64800e+00\n",
            " 2.75900e+00 2.21000e-01 1.73000e-01 0.00000e+00 0.00000e+00 0.00000e+00\n",
            " 5.50000e-02 3.33000e-01 3.40600e+00 9.83400e+00 2.06240e+01 3.88550e+01\n",
            " 6.28570e+01 8.71340e+01 9.84450e+01 9.28090e+01 8.61770e+01 9.51820e+01\n",
            " 1.12403e+02 1.25420e+02 1.32415e+02 1.27299e+02 1.13952e+02 9.00060e+01\n",
            " 6.36570e+01 3.84370e+01 2.18310e+01 9.51900e+00 2.84900e+00 3.13000e-01\n",
            " 2.00000e-02 0.00000e+00 0.00000e+00 0.00000e+00 0.00000e+00 3.27000e-01\n",
            " 2.63700e+00 1.03470e+01 2.28720e+01 4.36940e+01 6.86240e+01 8.90930e+01\n",
            " 9.45790e+01 9.03810e+01 9.62610e+01 1.16543e+02 1.29539e+02 1.38824e+02\n",
            " 1.37158e+02 1.31291e+02 1.13049e+02 8.80290e+01 6.09480e+01 3.83420e+01\n",
            " 2.10160e+01 9.93100e+00 3.38500e+00 2.99000e-01 1.30000e-02 0.00000e+00\n",
            " 0.00000e+00 0.00000e+00 0.00000e+00 3.78000e-01 2.41100e+00 1.23990e+01\n",
            " 2.71490e+01 4.82400e+01 7.26780e+01 8.94990e+01 9.30800e+01 9.20200e+01\n",
            " 1.05534e+02 1.21811e+02 1.30364e+02 1.34127e+02 1.30608e+02 1.25041e+02\n",
            " 1.08185e+02 8.44560e+01 6.06720e+01 3.81790e+01 2.11670e+01 1.06120e+01\n",
            " 4.08800e+00 7.70000e-01 2.59000e-01 0.00000e+00 0.00000e+00 0.00000e+00\n",
            " 1.30000e-02 3.47000e-01 3.97800e+00 1.64410e+01 3.23170e+01 5.24930e+01\n",
            " 7.22340e+01 8.35360e+01 8.40150e+01 8.72210e+01 9.80910e+01 1.10122e+02\n",
            " 1.22185e+02 1.25925e+02 1.24371e+02 1.18306e+02 1.02939e+02 8.15520e+01\n",
            " 5.75250e+01 3.63250e+01 1.99400e+01 9.55400e+00 4.55700e+00 7.18000e-01\n",
            " 1.11000e-01 0.00000e+00 0.00000e+00 0.00000e+00 5.50000e-02 8.37000e-01\n",
            " 6.97500e+00 2.10780e+01 3.47810e+01 5.23960e+01 6.52340e+01 7.03990e+01\n",
            " 7.01640e+01 7.70050e+01 8.36950e+01 9.83700e+01 1.13340e+02 1.19941e+02\n",
            " 1.19379e+02 1.09624e+02 9.47750e+01 7.46420e+01 5.29260e+01 3.31740e+01\n",
            " 1.84880e+01 1.05350e+01 5.80000e+00 1.27400e+00 0.00000e+00 0.00000e+00\n",
            " 0.00000e+00 0.00000e+00 2.40000e-01 1.59200e+00 9.41300e+00 2.40650e+01\n",
            " 3.80060e+01 5.34320e+01 5.84390e+01 6.27970e+01 6.85940e+01 7.24570e+01\n",
            " 8.05710e+01 9.67510e+01 1.12470e+02 1.21238e+02 1.14141e+02 1.00575e+02\n",
            " 8.66410e+01 6.54330e+01 4.46250e+01 2.92690e+01 1.80530e+01 9.13400e+00\n",
            " 4.38900e+00 5.94000e-01 0.00000e+00 0.00000e+00 0.00000e+00 0.00000e+00\n",
            " 2.98000e-01 2.90000e+00 1.26450e+01 2.71920e+01 4.41050e+01 5.56090e+01\n",
            " 6.15960e+01 6.99170e+01 7.94010e+01 8.30480e+01 9.33080e+01 1.08489e+02\n",
            " 1.23604e+02 1.24584e+02 1.11502e+02 9.54290e+01 7.93760e+01 5.84500e+01\n",
            " 3.69620e+01 2.47720e+01 1.34810e+01 6.83600e+00 2.19900e+00 3.55000e-01\n",
            " 0.00000e+00 0.00000e+00 0.00000e+00 0.00000e+00 3.92000e-01 3.90700e+00\n",
            " 1.46890e+01 2.86150e+01 4.49100e+01 5.70280e+01 6.97950e+01 8.38070e+01\n",
            " 9.44230e+01 1.00944e+02 1.12703e+02 1.26720e+02 1.34833e+02 1.26485e+02\n",
            " 1.04554e+02 8.48400e+01 6.71420e+01 4.62130e+01 3.10410e+01 1.68290e+01\n",
            " 9.59600e+00 5.03800e+00 1.78900e+00 4.48000e-01 1.44000e-01 0.00000e+00\n",
            " 0.00000e+00 0.00000e+00 5.27000e-01 3.48500e+00 1.28920e+01 2.66820e+01\n",
            " 4.11950e+01 5.90040e+01 7.95510e+01 9.94030e+01 1.10569e+02 1.18861e+02\n",
            " 1.27616e+02 1.34036e+02 1.29011e+02 1.12520e+02 9.01970e+01 6.93640e+01\n",
            " 4.95620e+01 3.47840e+01 2.26700e+01 1.13320e+01 6.61900e+00 2.99900e+00\n",
            " 1.25400e+00 2.53000e-01 3.91000e-01 0.00000e+00 0.00000e+00 0.00000e+00\n",
            " 2.03000e-01 1.86400e+00 7.57400e+00 1.78580e+01 3.06740e+01 4.86400e+01\n",
            " 7.27710e+01 9.21050e+01 1.07848e+02 1.17890e+02 1.19146e+02 1.17335e+02\n",
            " 1.06867e+02 8.66020e+01 6.53140e+01 4.76080e+01 3.51560e+01 2.35700e+01\n",
            " 1.33510e+01 7.12000e+00 3.27600e+00 1.19200e+00 3.45000e-01 6.20000e-02\n",
            " 1.42000e-01 0.00000e+00 0.00000e+00 0.00000e+00 3.40000e-02 8.19000e-01\n",
            " 3.65700e+00 8.88200e+00 1.71490e+01 3.32240e+01 5.22960e+01 7.14140e+01\n",
            " 8.37160e+01 9.10530e+01 8.99130e+01 8.23620e+01 7.14740e+01 5.34540e+01\n",
            " 4.02820e+01 3.02080e+01 2.10650e+01 1.22220e+01 7.00900e+00 3.69100e+00\n",
            " 1.53700e+00 1.02000e+00 1.48000e-01 0.00000e+00 0.00000e+00 0.00000e+00\n",
            " 0.00000e+00 0.00000e+00 0.00000e+00 6.08000e-01 2.15800e+00 4.29900e+00\n",
            " 7.51200e+00 1.48190e+01 2.23310e+01 3.25310e+01 4.12690e+01 4.37140e+01\n",
            " 4.18930e+01 3.84000e+01 3.46590e+01 2.59320e+01 2.16280e+01 1.57700e+01\n",
            " 9.64900e+00 5.95700e+00 3.60200e+00 1.39500e+00 6.48000e-01 5.10000e-01\n",
            " 1.16000e-01 0.00000e+00 0.00000e+00 0.00000e+00 0.00000e+00 0.00000e+00\n",
            " 0.00000e+00 3.80000e-02 5.84000e-01 1.97200e+00 4.33400e+00 7.11400e+00\n",
            " 1.03480e+01 1.42290e+01 1.75770e+01 1.63350e+01 1.47090e+01 1.35010e+01\n",
            " 1.17540e+01 9.44900e+00 8.80900e+00 5.39000e+00 3.58100e+00 2.22200e+00\n",
            " 1.33900e+00 1.99000e-01 2.13000e-01 2.42000e-01 5.30000e-02 0.00000e+00\n",
            " 0.00000e+00 0.00000e+00 0.00000e+00 0.00000e+00 0.00000e+00 3.80000e-02\n",
            " 4.22000e-01 8.37000e-01 2.63100e+00 3.60100e+00 4.67600e+00 5.79700e+00\n",
            " 6.32100e+00 4.52400e+00 3.97200e+00 4.35300e+00 4.24700e+00 4.37600e+00\n",
            " 4.01400e+00 2.31400e+00 1.11900e+00 5.55000e-01 1.41000e-01 3.70000e-02\n",
            " 0.00000e+00 0.00000e+00 0.00000e+00 0.00000e+00 0.00000e+00 0.00000e+00\n",
            " 0.00000e+00 0.00000e+00 0.00000e+00 0.00000e+00 0.00000e+00 1.77000e-01\n",
            " 4.11000e-01 5.77000e-01 5.48000e-01 2.53000e-01 1.80000e-01 2.03000e-01\n",
            " 5.72000e-01 7.91000e-01 6.68000e-01 6.78000e-01 7.89000e-01 4.49000e-01\n",
            " 3.18000e-01 1.10000e-01 0.00000e+00 0.00000e+00 0.00000e+00 0.00000e+00\n",
            " 0.00000e+00 0.00000e+00 0.00000e+00 0.00000e+00]\n",
            "[0.00000000e+00 0.00000000e+00 0.00000000e+00 0.00000000e+00\n",
            " 0.00000000e+00 0.00000000e+00 0.00000000e+00 0.00000000e+00\n",
            " 0.00000000e+00 0.00000000e+00 0.00000000e+00 0.00000000e+00\n",
            " 0.00000000e+00 0.00000000e+00 0.00000000e+00 0.00000000e+00\n",
            " 0.00000000e+00 0.00000000e+00 0.00000000e+00 0.00000000e+00\n",
            " 0.00000000e+00 0.00000000e+00 0.00000000e+00 0.00000000e+00\n",
            " 0.00000000e+00 0.00000000e+00 0.00000000e+00 0.00000000e+00\n",
            " 0.00000000e+00 0.00000000e+00 0.00000000e+00 0.00000000e+00\n",
            " 0.00000000e+00 0.00000000e+00 0.00000000e+00 0.00000000e+00\n",
            " 0.00000000e+00 0.00000000e+00 3.99600000e-01 1.53606240e+01\n",
            " 0.00000000e+00 8.27271900e+00 6.44576640e+01 8.49116390e+01\n",
            " 1.05101516e+02 6.90192390e+01 1.93016790e+01 0.00000000e+00\n",
            " 0.00000000e+00 0.00000000e+00 0.00000000e+00 0.00000000e+00\n",
            " 0.00000000e+00 0.00000000e+00 0.00000000e+00 0.00000000e+00\n",
            " 0.00000000e+00 0.00000000e+00 0.00000000e+00 0.00000000e+00\n",
            " 0.00000000e+00 0.00000000e+00 0.00000000e+00 0.00000000e+00\n",
            " 0.00000000e+00 0.00000000e+00 2.45499110e+01 1.40735775e+02\n",
            " 1.57145100e+02 1.52046159e+02 3.73022191e+02 3.89495596e+02\n",
            " 9.50196096e+02 9.89857100e+02 8.91977919e+02 6.95716119e+02\n",
            " 2.09248719e+02 1.73122096e+02 9.61682360e+01 2.11388400e+00\n",
            " 0.00000000e+00 0.00000000e+00 0.00000000e+00 0.00000000e+00\n",
            " 0.00000000e+00 0.00000000e+00 0.00000000e+00 0.00000000e+00\n",
            " 0.00000000e+00 0.00000000e+00 1.44255600e+00 1.61927360e+01\n",
            " 1.25487600e+02 2.70057975e+02 3.89389936e+02 6.38951776e+02\n",
            " 8.19789319e+02 9.32292231e+02 1.44505015e+03 2.15345940e+03\n",
            " 2.89001814e+03 2.61883312e+03 2.18550999e+03 1.76368348e+03\n",
            " 9.71883119e+02 6.04391596e+02 1.67076400e+02 1.36763100e+00\n",
            " 0.00000000e+00 0.00000000e+00 0.00000000e+00 0.00000000e+00\n",
            " 0.00000000e+00 0.00000000e+00 0.00000000e+00 0.00000000e+00\n",
            " 2.27727900e+00 3.69783750e+01 8.61184000e+01 1.79848464e+02\n",
            " 5.35550256e+02 8.16272551e+02 1.55426096e+03 2.00357184e+03\n",
            " 3.28625692e+03 4.33237477e+03 5.67588871e+03 7.13052144e+03\n",
            " 7.80849184e+03 7.71780600e+03 7.06579580e+03 5.84084503e+03\n",
            " 4.13135416e+03 2.42537158e+03 1.06604512e+03 2.80850400e+02\n",
            " 3.05567750e+01 0.00000000e+00 0.00000000e+00 0.00000000e+00\n",
            " 0.00000000e+00 0.00000000e+00 0.00000000e+00 3.12375000e-01\n",
            " 9.01026040e+01 3.08099100e+02 6.34294839e+02 1.06346376e+03\n",
            " 1.54362416e+03 2.50486288e+03 4.16995840e+03 5.88620762e+03\n",
            " 7.66369751e+03 9.42248583e+03 1.11348380e+04 1.15698259e+04\n",
            " 1.18148633e+04 1.19006656e+04 1.13174200e+04 9.89829331e+03\n",
            " 7.98437388e+03 5.27146398e+03 2.70399000e+03 1.67191268e+03\n",
            " 6.77065584e+02 1.19383759e+02 9.51477500e+00 0.00000000e+00\n",
            " 0.00000000e+00 0.00000000e+00 0.00000000e+00 4.77449440e+01\n",
            " 3.04767919e+02 6.15463871e+02 1.38438394e+03 2.00825543e+03\n",
            " 3.11709588e+03 4.86714812e+03 7.04481190e+03 8.98288780e+03\n",
            " 1.04107693e+04 1.15680779e+04 1.23441064e+04 1.28526458e+04\n",
            " 1.23992264e+04 1.25447710e+04 1.25876584e+04 1.16387169e+04\n",
            " 1.00568659e+04 7.42290955e+03 4.43860708e+03 2.49668320e+03\n",
            " 1.21151190e+03 2.19136156e+02 5.13327750e+01 4.71799750e+01\n",
            " 0.00000000e+00 0.00000000e+00 2.15873910e+01 2.69801431e+02\n",
            " 5.38722799e+02 1.12661678e+03 1.97599076e+03 3.13766212e+03\n",
            " 4.50180760e+03 6.80558099e+03 9.28050310e+03 1.02596328e+04\n",
            " 1.12025651e+04 1.19125456e+04 1.21262385e+04 1.22136060e+04\n",
            " 1.24074596e+04 1.20216286e+04 1.19498800e+04 1.19988144e+04\n",
            " 1.11973040e+04 8.96587063e+03 5.47687215e+03 3.01498224e+03\n",
            " 1.15880419e+03 5.66833516e+02 2.13225751e+02 4.01233560e+01\n",
            " 0.00000000e+00 0.00000000e+00 1.32738710e+01 2.79154736e+02\n",
            " 8.95075100e+02 1.68603171e+03 2.62754680e+03 4.26471997e+03\n",
            " 5.99914007e+03 8.69265110e+03 1.05987484e+04 1.17902539e+04\n",
            " 1.23033650e+04 1.26512558e+04 1.23707143e+04 1.20729256e+04\n",
            " 1.19548118e+04 1.23775037e+04 1.24274520e+04 1.23623158e+04\n",
            " 1.19099351e+04 1.00696771e+04 6.71346254e+03 3.49187859e+03\n",
            " 1.48238872e+03 8.12760000e+02 7.54301240e+01 0.00000000e+00\n",
            " 0.00000000e+00 6.07791600e+00 7.41511100e+00 3.33004316e+02\n",
            " 1.01507571e+03 2.08703955e+03 3.16050699e+03 4.92045652e+03\n",
            " 7.32662782e+03 9.78849784e+03 1.12877464e+04 1.20742527e+04\n",
            " 1.21228538e+04 1.23799924e+04 1.13465759e+04 1.09557512e+04\n",
            " 1.17434130e+04 1.21074688e+04 1.25732590e+04 1.24058787e+04\n",
            " 1.22520518e+04 1.06984679e+04 6.65483580e+03 3.09049810e+03\n",
            " 1.23495132e+03 2.89185904e+02 1.16755040e+01 0.00000000e+00\n",
            " 0.00000000e+00 8.09190000e-02 7.76243360e+01 4.28226096e+02\n",
            " 1.01034114e+03 2.04787937e+03 3.33232098e+03 4.97395092e+03\n",
            " 7.60206632e+03 9.68724936e+03 1.13293854e+04 1.18228629e+04\n",
            " 1.20711489e+04 1.12260957e+04 9.87610642e+03 1.01118462e+04\n",
            " 1.14923176e+04 1.14667937e+04 1.17751628e+04 1.22461319e+04\n",
            " 1.21050016e+04 9.72264360e+03 5.31201864e+03 1.94141592e+03\n",
            " 6.96455104e+02 9.00361240e+01 1.27562310e+01 0.00000000e+00\n",
            " 0.00000000e+00 0.00000000e+00 5.70397560e+01 3.06542736e+02\n",
            " 9.04008031e+02 1.97983778e+03 3.23498628e+03 5.28910547e+03\n",
            " 7.96680316e+03 1.04268185e+04 1.19302789e+04 1.23151510e+04\n",
            " 1.13883708e+04 1.03455396e+04 1.03020304e+04 1.07645807e+04\n",
            " 1.14229562e+04 1.15034040e+04 1.15549298e+04 1.23102827e+04\n",
            " 1.11353350e+04 8.46924784e+03 4.14859076e+03 1.64474614e+03\n",
            " 5.01347559e+02 1.07611190e+01 4.70419110e+01 0.00000000e+00\n",
            " 0.00000000e+00 0.00000000e+00 2.81957760e+01 1.47182791e+02\n",
            " 8.48995596e+02 1.89940898e+03 3.58153255e+03 6.15949407e+03\n",
            " 8.68328804e+03 1.13204723e+04 1.23545912e+04 1.24601090e+04\n",
            " 1.13210626e+04 1.04845137e+04 1.15267720e+04 1.22237657e+04\n",
            " 1.22197503e+04 1.18878478e+04 1.22109124e+04 1.20663002e+04\n",
            " 1.02107885e+04 7.03277251e+03 3.90991208e+03 1.59529410e+03\n",
            " 5.04688919e+02 2.43761590e+01 2.98990710e+01 0.00000000e+00\n",
            " 0.00000000e+00 0.00000000e+00 2.43397500e+00 3.63261110e+01\n",
            " 5.87175164e+02 1.80437844e+03 3.90347462e+03 6.56921397e+03\n",
            " 9.76636455e+03 1.14827900e+04 1.22926410e+04 1.16593005e+04\n",
            " 1.07390737e+04 1.12456569e+04 1.31305746e+04 1.29496076e+04\n",
            " 1.19617348e+04 1.21039136e+04 1.26173197e+04 1.16019540e+04\n",
            " 9.46609735e+03 6.49299803e+03 4.10203244e+03 1.70146964e+03\n",
            " 5.37268199e+02 5.71870310e+01 3.99600000e-01 0.00000000e+00\n",
            " 0.00000000e+00 0.00000000e+00 0.00000000e+00 5.33980710e+01\n",
            " 5.24459231e+02 1.95459059e+03 4.11493162e+03 7.39015236e+03\n",
            " 1.03252066e+04 1.18790544e+04 1.22244998e+04 1.08707138e+04\n",
            " 1.08916729e+04 1.25353422e+04 1.30264185e+04 1.17785390e+04\n",
            " 1.16586750e+04 1.26758983e+04 1.25168606e+04 1.16465902e+04\n",
            " 9.32750530e+03 6.60360304e+03 3.81671974e+03 1.84536624e+03\n",
            " 5.35182775e+02 3.07455990e+01 1.68831000e-01 0.00000000e+00\n",
            " 0.00000000e+00 0.00000000e+00 0.00000000e+00 4.92511160e+01\n",
            " 3.78806079e+02 2.25536580e+03 4.84342680e+03 8.06765240e+03\n",
            " 1.09211543e+04 1.22500320e+04 1.22077376e+04 1.11104096e+04\n",
            " 1.21516308e+04 1.28039993e+04 1.26855255e+04 1.15179849e+04\n",
            " 1.22910983e+04 1.26921633e+04 1.23958408e+04 1.12314021e+04\n",
            " 9.36872242e+03 6.48998496e+03 3.73694911e+03 2.02372146e+03\n",
            " 7.55488256e+02 1.47819100e+02 4.91379190e+01 0.00000000e+00\n",
            " 0.00000000e+00 0.00000000e+00 1.68831000e-01 4.75525910e+01\n",
            " 6.09605516e+02 2.91217052e+03 5.73556851e+03 8.72758595e+03\n",
            " 1.08789532e+04 1.18020047e+04 1.10970248e+04 1.11019262e+04\n",
            " 1.22384567e+04 1.27877291e+04 1.23065168e+04 1.23027394e+04\n",
            " 1.25187874e+04 1.24779064e+04 1.21780813e+04 1.10289293e+04\n",
            " 9.14276738e+03 6.35917738e+03 3.54142640e+03 1.68388908e+03\n",
            " 8.61974751e+02 1.14640476e+02 1.23086790e+01 0.00000000e+00\n",
            " 0.00000000e+00 0.00000000e+00 3.02197500e+00 9.83924310e+01\n",
            " 1.27313638e+03 3.83792792e+03 6.21223704e+03 8.46461718e+03\n",
            " 1.00711552e+04 1.03890598e+04 9.83415510e+03 1.06613010e+04\n",
            " 1.15652800e+04 1.18829811e+04 1.22713324e+04 1.26933055e+04\n",
            " 1.22952174e+04 1.20573506e+04 1.18742904e+04 1.03998338e+04\n",
            " 8.59239652e+03 5.77060972e+03 3.27927186e+03 2.06304277e+03\n",
            " 1.12044200e+03 2.52596924e+02 0.00000000e+00 0.00000000e+00\n",
            " 0.00000000e+00 0.00000000e+00 2.27684000e+01 2.49043536e+02\n",
            " 1.71286843e+03 4.47996877e+03 6.78432796e+03 8.64048538e+03\n",
            " 9.13430628e+03 9.45082179e+03 9.95972116e+03 1.05342962e+04\n",
            " 1.12250730e+04 1.16523350e+04 1.22763011e+04 1.19293734e+04\n",
            " 1.20859551e+04 1.19412604e+04 1.16861321e+04 9.83589751e+03\n",
            " 7.31712237e+03 5.48121264e+03 3.36974219e+03 1.76214804e+03\n",
            " 8.00359679e+02 8.41071640e+01 0.00000000e+00 0.00000000e+00\n",
            " 0.00000000e+00 0.00000000e+00 2.61811960e+01 5.67018000e+02\n",
            " 2.35602097e+03 4.97632914e+03 7.80354997e+03 9.07590012e+03\n",
            " 9.53079878e+03 1.04909581e+04 1.11936442e+04 1.14622737e+04\n",
            " 1.18606771e+04 1.21055919e+04 1.23511252e+04 1.22588449e+04\n",
            " 1.19834080e+04 1.19765450e+04 1.10499146e+04 9.10308750e+03\n",
            " 6.41201256e+03 4.65932002e+03 2.56926564e+03 1.29453710e+03\n",
            " 3.55223399e+02 6.80669750e+01 0.00000000e+00 0.00000000e+00\n",
            " 0.00000000e+00 0.00000000e+00 7.86863360e+01 7.29064351e+02\n",
            " 2.82570428e+03 5.32809678e+03 7.83371590e+03 9.08548522e+03\n",
            " 1.02668970e+04 1.13454938e+04 1.23233041e+04 1.21220309e+04\n",
            " 1.17712988e+04 1.21044276e+04 1.24457591e+04 1.23730998e+04\n",
            " 1.19715011e+04 1.13649824e+04 1.01245018e+04 7.86582563e+03\n",
            " 5.61066132e+03 3.05934176e+03 1.94530478e+03 9.30700556e+02\n",
            " 2.80328479e+02 7.73932960e+01 2.07152640e+01 0.00000000e+00\n",
            " 0.00000000e+00 0.00000000e+00 8.50772710e+01 6.59175775e+02\n",
            " 2.36714634e+03 5.21927688e+03 7.53734298e+03 9.47112798e+03\n",
            " 1.13193954e+04 1.23801086e+04 1.23944792e+04 1.20799297e+04\n",
            " 1.22567445e+04 1.22684567e+04 1.24237029e+04 1.25076276e+04\n",
            " 1.15350082e+04 1.03031555e+04 8.26941816e+03 6.28309534e+03\n",
            " 4.11693910e+03 2.20088978e+03 1.32085984e+03 5.52552999e+02\n",
            " 2.49837484e+02 2.67929910e+01 8.24481190e+01 0.00000000e+00\n",
            " 0.00000000e+00 0.00000000e+00 1.61597910e+01 3.26825504e+02\n",
            " 1.33657252e+03 3.31330184e+03 5.66817372e+03 8.09549640e+03\n",
            " 1.10534126e+04 1.23281760e+04 1.28255749e+04 1.28961879e+04\n",
            " 1.27193787e+04 1.25575608e+04 1.25505313e+04 1.13446656e+04\n",
            " 9.71407540e+03 7.83369034e+03 6.35141166e+03 4.28427310e+03\n",
            " 2.45013580e+03 1.35564360e+03 5.76307824e+02 1.87875136e+02\n",
            " 4.92199750e+01 3.84015600e+00 2.01438360e+01 0.00000000e+00\n",
            " 0.00000000e+00 0.00000000e+00 1.15484400e+00 1.20238239e+02\n",
            " 5.60099351e+02 1.53747408e+03 3.00120880e+03 5.45338582e+03\n",
            " 8.39167238e+03 1.04481366e+04 1.14267473e+04 1.20367142e+04\n",
            " 1.16140194e+04 1.08350090e+04 1.00126013e+04 8.11275988e+03\n",
            " 6.95721448e+03 5.33125274e+03 3.79424677e+03 2.31215672e+03\n",
            " 1.34200692e+03 6.68513519e+02 2.64728631e+02 1.99275600e+02\n",
            " 1.44580960e+01 0.00000000e+00 0.00000000e+00 0.00000000e+00\n",
            " 0.00000000e+00 0.00000000e+00 0.00000000e+00 6.71783360e+01\n",
            " 4.23101036e+02 8.75479599e+02 1.47376786e+03 2.72928024e+03\n",
            " 4.08207744e+03 5.81049304e+03 7.19746664e+03 7.40551620e+03\n",
            " 7.00263755e+03 6.60913200e+03 5.83645672e+03 4.57744338e+03\n",
            " 4.06793162e+03 2.85364510e+03 1.73156780e+03 1.21261715e+03\n",
            " 6.99101596e+02 2.11946975e+02 1.15656096e+02 9.85139000e+01\n",
            " 1.34425440e+01 0.00000000e+00 0.00000000e+00 0.00000000e+00\n",
            " 0.00000000e+00 0.00000000e+00 0.00000000e+00 1.44255600e+00\n",
            " 8.57689440e+01 3.68335216e+02 8.44152444e+02 1.41866300e+03\n",
            " 1.97314490e+03 2.75318656e+03 3.55950007e+03 3.12175278e+03\n",
            " 2.85492232e+03 2.55202600e+03 2.19972348e+03 1.85786340e+03\n",
            " 1.80620852e+03 1.10229590e+03 5.96387439e+02 4.84288716e+02\n",
            " 2.64286079e+02 1.31933990e+01 3.31516310e+01 5.85054360e+01\n",
            " 2.80619100e+00 0.00000000e+00 0.00000000e+00 0.00000000e+00\n",
            " 0.00000000e+00 0.00000000e+00 0.00000000e+00 1.44255600e+00\n",
            " 7.38679160e+01 1.40660431e+02 4.91870839e+02 7.60727799e+02\n",
            " 8.67361024e+02 1.13217579e+03 1.29661996e+03 8.76965424e+02\n",
            " 6.78945216e+02 8.34678391e+02 7.57187991e+02 8.26398624e+02\n",
            " 7.83853804e+02 4.90899404e+02 1.59940839e+02 1.08600975e+02\n",
            " 1.98611190e+01 1.36763100e+00 0.00000000e+00 0.00000000e+00\n",
            " 0.00000000e+00 0.00000000e+00 0.00000000e+00 0.00000000e+00\n",
            " 0.00000000e+00 0.00000000e+00 0.00000000e+00 0.00000000e+00\n",
            " 0.00000000e+00 3.12976710e+01 6.69880790e+01 1.22208071e+02\n",
            " 1.29061696e+02 6.39449910e+01 2.83356000e+01 4.11677910e+01\n",
            " 1.19462816e+02 1.66653319e+02 1.11933776e+02 1.41514316e+02\n",
            " 1.65176479e+02 8.02433990e+01 5.86528760e+01 1.20879000e+01\n",
            " 0.00000000e+00 0.00000000e+00 0.00000000e+00 0.00000000e+00\n",
            " 0.00000000e+00 0.00000000e+00 0.00000000e+00 0.00000000e+00]\n"
          ],
          "name": "stdout"
        }
      ]
    },
    {
      "cell_type": "code",
      "metadata": {
        "id": "i4T3h3uUzlSC",
        "colab_type": "code",
        "colab": {
          "base_uri": "https://localhost:8080/",
          "height": 299
        },
        "outputId": "54655891-c1b3-4ed9-8029-8ef7d5121573"
      },
      "source": [
        "# selects a random example\n",
        "ind = np.random.randint(0,100)\n",
        "\n",
        "plt.imshow(scaled_data[ind], cmap='gray')\n",
        "plt.title(f'Target is {y_train[ind]}')"
      ],
      "execution_count": null,
      "outputs": [
        {
          "output_type": "execute_result",
          "data": {
            "text/plain": [
              "Text(0.5, 1.0, 'Target is 3')"
            ]
          },
          "metadata": {
            "tags": []
          },
          "execution_count": 5
        },
        {
          "output_type": "display_data",
          "data": {
            "image/png": "[encoded data removed]",
            "text/plain": [
              "<Figure size 432x288 with 1 Axes>"
            ]
          },
          "metadata": {
            "tags": [],
            "needs_background": "light"
          }
        }
      ]
    },
    {
      "cell_type": "markdown",
      "metadata": {
        "id": "g98iEgL33Z-K",
        "colab_type": "text"
      },
      "source": [
        "# A simple linear machine learning model"
      ]
    },
    {
      "cell_type": "code",
      "metadata": {
        "id": "QmKW6xEgzX6C",
        "colab_type": "code",
        "colab": {
          "base_uri": "https://localhost:8080/",
          "height": 89
        },
        "outputId": "a015fcef-dc63-4825-f486-529a8b12bc2f"
      },
      "source": [
        "# Imports the support vector machine\n",
        "from sklearn import svm\n",
        "\n",
        "# makes an object that is the classifier with specific hyperparamters\n",
        "# this is the model that you are training\n",
        "clf = svm.SVC(gamma=0.001, C=100)\n",
        "\n",
        "# Fit the model using some data\n",
        "# Includes all data except the last index\n",
        "clf.fit(x_train[:].reshape(x_train.shape[0],-1), y_train[:])"
      ],
      "execution_count": null,
      "outputs": [
        {
          "output_type": "execute_result",
          "data": {
            "text/plain": [
              "SVC(C=100, break_ties=False, cache_size=200, class_weight=None, coef0=0.0,\n",
              "    decision_function_shape='ovr', degree=3, gamma=0.001, kernel='rbf',\n",
              "    max_iter=-1, probability=False, random_state=None, shrinking=True,\n",
              "    tol=0.001, verbose=False)"
            ]
          },
          "metadata": {
            "tags": []
          },
          "execution_count": 6
        }
      ]
    },
    {
      "cell_type": "code",
      "metadata": {
        "id": "IlgUZ9aK3kyE",
        "colab_type": "code",
        "colab": {
          "base_uri": "https://localhost:8080/",
          "height": 299
        },
        "outputId": "5d5407ba-bf11-4dd5-ebb4-ae7ab282fd83"
      },
      "source": [
        "# selects a random example\n",
        "ind = np.random.randint(0,100)\n",
        "\n",
        "plt.imshow(x_train[ind])\n",
        "plt.title(f'Target is {y_train[ind]}, the prediction is {clf.predict(x_train[:].reshape(x_train.shape[0],-1))[ind]}')"
      ],
      "execution_count": null,
      "outputs": [
        {
          "output_type": "execute_result",
          "data": {
            "text/plain": [
              "Text(0.5, 1.0, 'Target is 9, the prediction is 9')"
            ]
          },
          "metadata": {
            "tags": []
          },
          "execution_count": 7
        },
        {
          "output_type": "display_data",
          "data": {
            "image/png": "[encoded data removed]",
            "text/plain": [
              "<Figure size 432x288 with 1 Axes>"
            ]
          },
          "metadata": {
            "tags": [],
            "needs_background": "light"
          }
        }
      ]
    },
    {
      "cell_type": "code",
      "metadata": {
        "id": "ZP-5lmKa-LJd",
        "colab_type": "code",
        "colab": {
          "base_uri": "https://localhost:8080/",
          "height": 299
        },
        "outputId": "bcb68fb5-3f6a-47c1-866c-db914bf5f857"
      },
      "source": [
        "# selects a random example\n",
        "ind = np.random.randint(0,100)\n",
        "\n",
        "plt.imshow(x_test[ind])\n",
        "plt.title(f'Target is {y_test[ind]}, the prediction is {clf.predict(x_test[:].reshape(x_test.shape[0],-1))[ind]}')"
      ],
      "execution_count": null,
      "outputs": [
        {
          "output_type": "execute_result",
          "data": {
            "text/plain": [
              "Text(0.5, 1.0, 'Target is 2, the prediction is 7')"
            ]
          },
          "metadata": {
            "tags": []
          },
          "execution_count": 8
        },
        {
          "output_type": "display_data",
          "data": {
            "image/png": "[encoded data removed]",
            "text/plain": [
              "<Figure size 432x288 with 1 Axes>"
            ]
          },
          "metadata": {
            "tags": [],
            "needs_background": "light"
          }
        }
      ]
    },
    {
      "cell_type": "code",
      "metadata": {
        "id": "VvCIqFq8-rwR",
        "colab_type": "code",
        "colab": {
          "base_uri": "https://localhost:8080/",
          "height": 35
        },
        "outputId": "6664d149-edd5-4c24-8eba-16acca4c0e27"
      },
      "source": [
        "clf.score(x_train[:].reshape(x_train.shape[0],-1), y_train)"
      ],
      "execution_count": null,
      "outputs": [
        {
          "output_type": "execute_result",
          "data": {
            "text/plain": [
              "1.0"
            ]
          },
          "metadata": {
            "tags": []
          },
          "execution_count": 9
        }
      ]
    },
    {
      "cell_type": "code",
      "metadata": {
        "id": "tMg7DEIP-K-8",
        "colab_type": "code",
        "colab": {
          "base_uri": "https://localhost:8080/",
          "height": 35
        },
        "outputId": "c08851bc-0416-46e1-fa0a-6190a719be74"
      },
      "source": [
        "clf.score(x_test[:].reshape(x_test.shape[0],-1), y_test)"
      ],
      "execution_count": null,
      "outputs": [
        {
          "output_type": "execute_result",
          "data": {
            "text/plain": [
              "0.15"
            ]
          },
          "metadata": {
            "tags": []
          },
          "execution_count": 10
        }
      ]
    },
    {
      "cell_type": "markdown",
      "metadata": {
        "id": "nzxVzUHy_1ev",
        "colab_type": "text"
      },
      "source": [
        "This is not so great"
      ]
    },
    {
      "cell_type": "code",
      "metadata": {
        "id": "2_pdkMOq-0Yg",
        "colab_type": "code",
        "colab": {
          "base_uri": "https://localhost:8080/",
          "height": 71
        },
        "outputId": "6e1d6cb4-bf15-4dd6-aabf-a7e86bda2c0c"
      },
      "source": [
        "from sklearn.linear_model import RidgeClassifier\n",
        "\n",
        "rr = RidgeClassifier(alpha=.01) # higher the alpha value, more restriction on the coefficients; low alpha > more generalization, coefficients are barely\n",
        "# restricted and in this case linear and ridge regression resembles\n",
        "rr.fit(x_train[:].reshape(x_train.shape[0],-1), y_train[:])"
      ],
      "execution_count": null,
      "outputs": [
        {
          "output_type": "execute_result",
          "data": {
            "text/plain": [
              "RidgeClassifier(alpha=0.01, class_weight=None, copy_X=True, fit_intercept=True,\n",
              "                max_iter=None, normalize=False, random_state=None,\n",
              "                solver='auto', tol=0.001)"
            ]
          },
          "metadata": {
            "tags": []
          },
          "execution_count": 11
        }
      ]
    },
    {
      "cell_type": "code",
      "metadata": {
        "id": "5XdCQuD9-0EL",
        "colab_type": "code",
        "colab": {
          "base_uri": "https://localhost:8080/",
          "height": 35
        },
        "outputId": "3ecc65ec-5fb4-44e3-b6ea-6e26e9ef6ed5"
      },
      "source": [
        "rr.score(x_train[:].reshape(x_train.shape[0],-1), y_train)"
      ],
      "execution_count": null,
      "outputs": [
        {
          "output_type": "execute_result",
          "data": {
            "text/plain": [
              "0.997"
            ]
          },
          "metadata": {
            "tags": []
          },
          "execution_count": 12
        }
      ]
    },
    {
      "cell_type": "code",
      "metadata": {
        "id": "J5gewXoI9vGm",
        "colab_type": "code",
        "colab": {
          "base_uri": "https://localhost:8080/",
          "height": 35
        },
        "outputId": "31bd81db-57a4-4d07-b295-03a4e7213ec0"
      },
      "source": [
        "rr.score(x_test[:].reshape(x_test.shape[0],-1), y_test)"
      ],
      "execution_count": null,
      "outputs": [
        {
          "output_type": "execute_result",
          "data": {
            "text/plain": [
              "0.68"
            ]
          },
          "metadata": {
            "tags": []
          },
          "execution_count": 13
        }
      ]
    },
    {
      "cell_type": "markdown",
      "metadata": {
        "id": "wqc2mGqvBj9i",
        "colab_type": "text"
      },
      "source": [
        "# Let's use some dimensionality reduction"
      ]
    },
    {
      "cell_type": "code",
      "metadata": {
        "id": "2ZofgHkXBjgm",
        "colab_type": "code",
        "colab": {}
      },
      "source": [
        "from sklearn.decomposition import PCA\n",
        "\n",
        "pca = PCA(n_components = 2)\n",
        "fitter = pca.fit(x_train[:].reshape(x_train.shape[0],-1))\n",
        "\n",
        "x_train_pca = fitter.transform(x_train[:].reshape(x_train.shape[0],-1))\n",
        "x_test_pca = fitter.transform(x_test[:].reshape(x_test.shape[0],-1))"
      ],
      "execution_count": null,
      "outputs": []
    },
    {
      "cell_type": "code",
      "metadata": {
        "id": "kC99KeU8CJRs",
        "colab_type": "code",
        "colab": {
          "base_uri": "https://localhost:8080/",
          "height": 89
        },
        "outputId": "551ba0f5-2969-4868-d1de-5fc67d623153"
      },
      "source": [
        "# Imports the support vector machine\n",
        "from sklearn import svm\n",
        "\n",
        "# makes an object that is the classifier with specific hyperparamters\n",
        "# this is the model that you are training\n",
        "clf = svm.SVC(gamma=0.001, C=100)\n",
        "\n",
        "# Fit the model using some data\n",
        "# Includes all data except the last index\n",
        "clf.fit(x_train_pca, y_train[:])"
      ],
      "execution_count": null,
      "outputs": [
        {
          "output_type": "execute_result",
          "data": {
            "text/plain": [
              "SVC(C=100, break_ties=False, cache_size=200, class_weight=None, coef0=0.0,\n",
              "    decision_function_shape='ovr', degree=3, gamma=0.001, kernel='rbf',\n",
              "    max_iter=-1, probability=False, random_state=None, shrinking=True,\n",
              "    tol=0.001, verbose=False)"
            ]
          },
          "metadata": {
            "tags": []
          },
          "execution_count": 15
        }
      ]
    },
    {
      "cell_type": "code",
      "metadata": {
        "id": "zTywEX2mBh_0",
        "colab_type": "code",
        "colab": {
          "base_uri": "https://localhost:8080/",
          "height": 35
        },
        "outputId": "f9ba1ba8-ed53-4d9e-8cbe-cbc456c07e6d"
      },
      "source": [
        "clf.score(x_train_pca, y_train)"
      ],
      "execution_count": null,
      "outputs": [
        {
          "output_type": "execute_result",
          "data": {
            "text/plain": [
              "0.997"
            ]
          },
          "metadata": {
            "tags": []
          },
          "execution_count": 16
        }
      ]
    },
    {
      "cell_type": "code",
      "metadata": {
        "id": "TA-Qy0WzATuG",
        "colab_type": "code",
        "colab": {
          "base_uri": "https://localhost:8080/",
          "height": 35
        },
        "outputId": "b0790964-45e6-42dc-f4bc-1f8595bb2aa7"
      },
      "source": [
        "clf.score(x_test_pca, y_test)"
      ],
      "execution_count": null,
      "outputs": [
        {
          "output_type": "execute_result",
          "data": {
            "text/plain": [
              "0.3"
            ]
          },
          "metadata": {
            "tags": []
          },
          "execution_count": 17
        }
      ]
    },
    {
      "cell_type": "code",
      "metadata": {
        "id": "bbULHXBqDDgR",
        "colab_type": "code",
        "colab": {
          "base_uri": "https://localhost:8080/",
          "height": 539
        },
        "outputId": "e2406666-9422-4c8d-8537-f17fea940de0"
      },
      "source": [
        "import pandas as pd\n",
        "import seaborn as sns\n",
        "\n",
        "df_subset=pd.DataFrame()\n",
        "df_subset['pca-2d-one'] = x_train_pca[:,0]\n",
        "df_subset['pca-2d-two'] = x_train_pca[:,1]\n",
        "df_subset['y'] = y_train\n",
        "\n",
        "plt.figure(figsize=(16,10))\n",
        "\n",
        "sns.scatterplot(\n",
        "    x=\"pca-2d-one\", y=\"pca-2d-two\",\n",
        "    hue=\"y\",\n",
        "    palette=sns.color_palette(\"hls\", 10),\n",
        "    data=df_subset,\n",
        "    legend=\"full\",\n",
        "    alpha=0.3\n",
        ")"
      ],
      "execution_count": null,
      "outputs": [
        {
          "output_type": "stream",
          "text": [
            "/usr/local/lib/python3.6/dist-packages/statsmodels/tools/_testing.py:19: FutureWarning: pandas.util.testing is deprecated. Use the functions in the public API at pandas.testing instead.\n",
            "  import pandas.util.testing as tm\n"
          ],
          "name": "stderr"
        },
        {
          "output_type": "execute_result",
          "data": {
            "text/plain": [
              "<matplotlib.axes._subplots.AxesSubplot at 0x7f99ae6fbc88>"
            ]
          },
          "metadata": {
            "tags": []
          },
          "execution_count": 18
        },
        {
          "output_type": "display_data",
          "data": {
            "image/png": "[encoded data removed]",
            "text/plain": [
              "<Figure size 1152x720 with 1 Axes>"
            ]
          },
          "metadata": {
            "tags": [],
            "needs_background": "light"
          }
        }
      ]
    },
    {
      "cell_type": "code",
      "metadata": {
        "id": "bYmCfEN2Z4Uk",
        "colab_type": "code",
        "colab": {}
      },
      "source": [
        "from sklearn.decomposition import PCA\n",
        "\n",
        "pca = PCA(n_components = 90)\n",
        "fitter = pca.fit(x_train[:].reshape(x_train.shape[0],-1))\n",
        "\n",
        "x_train_pca = fitter.transform(x_train[:].reshape(x_train.shape[0],-1))\n",
        "x_test_pca = fitter.transform(x_test[:].reshape(x_test.shape[0],-1))"
      ],
      "execution_count": null,
      "outputs": []
    },
    {
      "cell_type": "code",
      "metadata": {
        "id": "omsb4JcOFhmz",
        "colab_type": "code",
        "colab": {
          "base_uri": "https://localhost:8080/",
          "height": 71
        },
        "outputId": "944e4354-648c-4e37-8a68-cc8992d55132"
      },
      "source": [
        "from sklearn.linear_model import RidgeClassifier\n",
        "\n",
        "rr = RidgeClassifier(alpha=.001) # higher the alpha value, more restriction on the coefficients; low alpha > more generalization, coefficients are barely\n",
        "# restricted and in this case linear and ridge regression resembles\n",
        "rr.fit(x_train_pca, y_train[:])"
      ],
      "execution_count": null,
      "outputs": [
        {
          "output_type": "execute_result",
          "data": {
            "text/plain": [
              "RidgeClassifier(alpha=0.001, class_weight=None, copy_X=True, fit_intercept=True,\n",
              "                max_iter=None, normalize=False, random_state=None,\n",
              "                solver='auto', tol=0.001)"
            ]
          },
          "metadata": {
            "tags": []
          },
          "execution_count": 20
        }
      ]
    },
    {
      "cell_type": "code",
      "metadata": {
        "id": "hzpu_LdUZlyL",
        "colab_type": "code",
        "colab": {
          "base_uri": "https://localhost:8080/",
          "height": 35
        },
        "outputId": "ecffa43d-45a3-4ab3-b1fe-250ca49f279b"
      },
      "source": [
        "rr.score(x_train_pca, y_train)"
      ],
      "execution_count": null,
      "outputs": [
        {
          "output_type": "execute_result",
          "data": {
            "text/plain": [
              "0.886"
            ]
          },
          "metadata": {
            "tags": []
          },
          "execution_count": 21
        }
      ]
    },
    {
      "cell_type": "code",
      "metadata": {
        "id": "fYf2tYOhZomT",
        "colab_type": "code",
        "colab": {
          "base_uri": "https://localhost:8080/",
          "height": 35
        },
        "outputId": "6f1d2692-d023-4c2d-a6cc-c0e7fbf4f935"
      },
      "source": [
        "rr.score(x_test_pca, y_test)"
      ],
      "execution_count": null,
      "outputs": [
        {
          "output_type": "execute_result",
          "data": {
            "text/plain": [
              "0.81"
            ]
          },
          "metadata": {
            "tags": []
          },
          "execution_count": 22
        }
      ]
    },
    {
      "cell_type": "code",
      "metadata": {
        "id": "FrFa1WG5aUe4",
        "colab_type": "code",
        "colab": {
          "base_uri": "https://localhost:8080/",
          "height": 35
        },
        "outputId": "e11fa4c5-f95c-4270-b023-3805f052897e"
      },
      "source": [
        "import keras\n",
        "from keras.layers import Input, Dense, Flatten, Conv2D\n",
        "from keras import Model\n",
        "from keras import datasets, layers, models"
      ],
      "execution_count": null,
      "outputs": [
        {
          "output_type": "stream",
          "text": [
            "Using TensorFlow backend.\n"
          ],
          "name": "stderr"
        }
      ]
    },
    {
      "cell_type": "code",
      "metadata": {
        "id": "eDlJaxFHbYjJ",
        "colab_type": "code",
        "colab": {}
      },
      "source": [
        "inputs = Input(shape=(28,28,1))\n",
        "\n",
        "x = layers.Conv2D(filters=6, kernel_size=(5,5), activation='relu', input_shape=(32,32,1))(inputs)\n",
        "x = layers.Dropout(.3)(x)\n",
        "x = layers.AveragePooling2D()(x)\n",
        "\n",
        "x = layers.Conv2D(filters=16, kernel_size=(5,5), activation='relu')(x)\n",
        "x = layers.Dropout(.3)(x)\n",
        "x = layers.AveragePooling2D()(x)\n",
        "\n",
        "x = layers.Flatten()(x)\n",
        "\n",
        "x = layers.Dense(units=120, activation='relu')(x)\n",
        "x = layers.Dropout(.3)(x)\n",
        "\n",
        "x = layers.Dense(units=84, activation='relu')(x)\n",
        "x = layers.Dropout(.3)(x)\n",
        "\n",
        "outputs = layers.Dense(units=10, activation='softmax')(x)\n",
        "\n",
        "model = Model(inputs=inputs, outputs=outputs)"
      ],
      "execution_count": null,
      "outputs": []
    },
    {
      "cell_type": "code",
      "metadata": {
        "id": "qTFXiFxGbi7-",
        "colab_type": "code",
        "colab": {
          "base_uri": "https://localhost:8080/",
          "height": 629
        },
        "outputId": "ac70b85f-367b-4f8f-cc85-ad60ea8edb9f"
      },
      "source": [
        "model.summary()"
      ],
      "execution_count": null,
      "outputs": [
        {
          "output_type": "stream",
          "text": [
            "Model: \"model_1\"\n",
            "_________________________________________________________________\n",
            "Layer (type)                 Output Shape              Param #   \n",
            "=================================================================\n",
            "input_1 (InputLayer)         (None, 28, 28, 1)         0         \n",
            "_________________________________________________________________\n",
            "conv2d_1 (Conv2D)            (None, 24, 24, 6)         156       \n",
            "_________________________________________________________________\n",
            "dropout_1 (Dropout)          (None, 24, 24, 6)         0         \n",
            "_________________________________________________________________\n",
            "average_pooling2d_1 (Average (None, 12, 12, 6)         0         \n",
            "_________________________________________________________________\n",
            "conv2d_2 (Conv2D)            (None, 8, 8, 16)          2416      \n",
            "_________________________________________________________________\n",
            "dropout_2 (Dropout)          (None, 8, 8, 16)          0         \n",
            "_________________________________________________________________\n",
            "average_pooling2d_2 (Average (None, 4, 4, 16)          0         \n",
            "_________________________________________________________________\n",
            "flatten_1 (Flatten)          (None, 256)               0         \n",
            "_________________________________________________________________\n",
            "dense_1 (Dense)              (None, 120)               30840     \n",
            "_________________________________________________________________\n",
            "dropout_3 (Dropout)          (None, 120)               0         \n",
            "_________________________________________________________________\n",
            "dense_2 (Dense)              (None, 84)                10164     \n",
            "_________________________________________________________________\n",
            "dropout_4 (Dropout)          (None, 84)                0         \n",
            "_________________________________________________________________\n",
            "dense_3 (Dense)              (None, 10)                850       \n",
            "=================================================================\n",
            "Total params: 44,426\n",
            "Trainable params: 44,426\n",
            "Non-trainable params: 0\n",
            "_________________________________________________________________\n"
          ],
          "name": "stdout"
        }
      ]
    },
    {
      "cell_type": "code",
      "metadata": {
        "id": "TnhRV6dBbqNQ",
        "colab_type": "code",
        "colab": {}
      },
      "source": [
        "model.compile(loss='sparse_categorical_crossentropy', optimizer='adam', metrics=['sparse_categorical_accuracy'])"
      ],
      "execution_count": null,
      "outputs": []
    },
    {
      "cell_type": "code",
      "metadata": {
        "id": "xiaaPmn3b0w9",
        "colab_type": "code",
        "colab": {
          "base_uri": "https://localhost:8080/",
          "height": 1000
        },
        "outputId": "d2c488fe-3de3-45c8-9727-9830aaa4e22d"
      },
      "source": [
        "model.fit(np.expand_dims(x_train,3),y_train, epochs=100)"
      ],
      "execution_count": null,
      "outputs": [
        {
          "output_type": "stream",
          "text": [
            "Epoch 1/100\n",
            "1000/1000 [==============================] - 1s 778us/step - loss: 6.5527 - sparse_categorical_accuracy: 0.1870\n",
            "Epoch 2/100\n",
            "1000/1000 [==============================] - 1s 593us/step - loss: 2.1141 - sparse_categorical_accuracy: 0.2780\n",
            "Epoch 3/100\n",
            "1000/1000 [==============================] - 1s 627us/step - loss: 1.8086 - sparse_categorical_accuracy: 0.3870\n",
            "Epoch 4/100\n",
            "1000/1000 [==============================] - 1s 598us/step - loss: 1.5269 - sparse_categorical_accuracy: 0.4950\n",
            "Epoch 5/100\n",
            "1000/1000 [==============================] - 1s 572us/step - loss: 1.2718 - sparse_categorical_accuracy: 0.5770\n",
            "Epoch 6/100\n",
            "1000/1000 [==============================] - 1s 587us/step - loss: 1.0287 - sparse_categorical_accuracy: 0.6660\n",
            "Epoch 7/100\n",
            "1000/1000 [==============================] - 1s 577us/step - loss: 0.8645 - sparse_categorical_accuracy: 0.7180\n",
            "Epoch 8/100\n",
            "1000/1000 [==============================] - 1s 632us/step - loss: 0.8157 - sparse_categorical_accuracy: 0.7400\n",
            "Epoch 9/100\n",
            "1000/1000 [==============================] - 1s 617us/step - loss: 0.6955 - sparse_categorical_accuracy: 0.7790\n",
            "Epoch 10/100\n",
            "1000/1000 [==============================] - 1s 624us/step - loss: 0.6121 - sparse_categorical_accuracy: 0.8120\n",
            "Epoch 11/100\n",
            "1000/1000 [==============================] - 1s 631us/step - loss: 0.5473 - sparse_categorical_accuracy: 0.8280\n",
            "Epoch 12/100\n",
            "1000/1000 [==============================] - 1s 638us/step - loss: 0.4799 - sparse_categorical_accuracy: 0.8390\n",
            "Epoch 13/100\n",
            "1000/1000 [==============================] - 1s 617us/step - loss: 0.4852 - sparse_categorical_accuracy: 0.8510\n",
            "Epoch 14/100\n",
            "1000/1000 [==============================] - 1s 629us/step - loss: 0.3911 - sparse_categorical_accuracy: 0.8730\n",
            "Epoch 15/100\n",
            "1000/1000 [==============================] - 1s 623us/step - loss: 0.3863 - sparse_categorical_accuracy: 0.8790\n",
            "Epoch 16/100\n",
            "1000/1000 [==============================] - 1s 584us/step - loss: 0.3275 - sparse_categorical_accuracy: 0.8900\n",
            "Epoch 17/100\n",
            "1000/1000 [==============================] - 1s 596us/step - loss: 0.3511 - sparse_categorical_accuracy: 0.8910\n",
            "Epoch 18/100\n",
            "1000/1000 [==============================] - 1s 638us/step - loss: 0.3309 - sparse_categorical_accuracy: 0.8940\n",
            "Epoch 19/100\n",
            "1000/1000 [==============================] - 1s 641us/step - loss: 0.2943 - sparse_categorical_accuracy: 0.8980\n",
            "Epoch 20/100\n",
            "1000/1000 [==============================] - 1s 617us/step - loss: 0.2956 - sparse_categorical_accuracy: 0.9100\n",
            "Epoch 21/100\n",
            "1000/1000 [==============================] - 1s 593us/step - loss: 0.2710 - sparse_categorical_accuracy: 0.9110\n",
            "Epoch 22/100\n",
            "1000/1000 [==============================] - 1s 604us/step - loss: 0.2411 - sparse_categorical_accuracy: 0.9220\n",
            "Epoch 23/100\n",
            "1000/1000 [==============================] - 1s 629us/step - loss: 0.2533 - sparse_categorical_accuracy: 0.9280\n",
            "Epoch 24/100\n",
            "1000/1000 [==============================] - 1s 635us/step - loss: 0.2504 - sparse_categorical_accuracy: 0.9290\n",
            "Epoch 25/100\n",
            "1000/1000 [==============================] - 1s 627us/step - loss: 0.2076 - sparse_categorical_accuracy: 0.9390\n",
            "Epoch 26/100\n",
            "1000/1000 [==============================] - 1s 641us/step - loss: 0.2182 - sparse_categorical_accuracy: 0.9300\n",
            "Epoch 27/100\n",
            "1000/1000 [==============================] - 1s 636us/step - loss: 0.2189 - sparse_categorical_accuracy: 0.9300\n",
            "Epoch 28/100\n",
            "1000/1000 [==============================] - 1s 671us/step - loss: 0.2065 - sparse_categorical_accuracy: 0.9250\n",
            "Epoch 29/100\n",
            "1000/1000 [==============================] - 1s 634us/step - loss: 0.1571 - sparse_categorical_accuracy: 0.9520\n",
            "Epoch 30/100\n",
            "1000/1000 [==============================] - 1s 635us/step - loss: 0.1816 - sparse_categorical_accuracy: 0.9430\n",
            "Epoch 31/100\n",
            "1000/1000 [==============================] - 1s 646us/step - loss: 0.1579 - sparse_categorical_accuracy: 0.9520\n",
            "Epoch 32/100\n",
            "1000/1000 [==============================] - 1s 639us/step - loss: 0.1872 - sparse_categorical_accuracy: 0.9440\n",
            "Epoch 33/100\n",
            "1000/1000 [==============================] - 1s 645us/step - loss: 0.1621 - sparse_categorical_accuracy: 0.9530\n",
            "Epoch 34/100\n",
            "1000/1000 [==============================] - 1s 634us/step - loss: 0.1602 - sparse_categorical_accuracy: 0.9400\n",
            "Epoch 35/100\n",
            "1000/1000 [==============================] - 1s 637us/step - loss: 0.1401 - sparse_categorical_accuracy: 0.9600\n",
            "Epoch 36/100\n",
            "1000/1000 [==============================] - 1s 656us/step - loss: 0.1488 - sparse_categorical_accuracy: 0.9520\n",
            "Epoch 37/100\n",
            "1000/1000 [==============================] - 1s 653us/step - loss: 0.1288 - sparse_categorical_accuracy: 0.9560\n",
            "Epoch 38/100\n",
            "1000/1000 [==============================] - 1s 647us/step - loss: 0.1160 - sparse_categorical_accuracy: 0.9680\n",
            "Epoch 39/100\n",
            "1000/1000 [==============================] - 1s 655us/step - loss: 0.0975 - sparse_categorical_accuracy: 0.9670\n",
            "Epoch 40/100\n",
            "1000/1000 [==============================] - 1s 644us/step - loss: 0.1299 - sparse_categorical_accuracy: 0.9580\n",
            "Epoch 41/100\n",
            "1000/1000 [==============================] - 1s 594us/step - loss: 0.1257 - sparse_categorical_accuracy: 0.9630\n",
            "Epoch 42/100\n",
            "1000/1000 [==============================] - 1s 604us/step - loss: 0.0947 - sparse_categorical_accuracy: 0.9710\n",
            "Epoch 43/100\n",
            "1000/1000 [==============================] - 1s 619us/step - loss: 0.1128 - sparse_categorical_accuracy: 0.9560\n",
            "Epoch 44/100\n",
            "1000/1000 [==============================] - 1s 632us/step - loss: 0.1096 - sparse_categorical_accuracy: 0.9600\n",
            "Epoch 45/100\n",
            "1000/1000 [==============================] - 1s 591us/step - loss: 0.1127 - sparse_categorical_accuracy: 0.9690\n",
            "Epoch 46/100\n",
            "1000/1000 [==============================] - 1s 629us/step - loss: 0.1179 - sparse_categorical_accuracy: 0.9630\n",
            "Epoch 47/100\n",
            "1000/1000 [==============================] - 1s 649us/step - loss: 0.0954 - sparse_categorical_accuracy: 0.9730\n",
            "Epoch 48/100\n",
            "1000/1000 [==============================] - 1s 646us/step - loss: 0.1096 - sparse_categorical_accuracy: 0.9660\n",
            "Epoch 49/100\n",
            "1000/1000 [==============================] - 1s 633us/step - loss: 0.1178 - sparse_categorical_accuracy: 0.9700\n",
            "Epoch 50/100\n",
            "1000/1000 [==============================] - 1s 645us/step - loss: 0.0746 - sparse_categorical_accuracy: 0.9790\n",
            "Epoch 51/100\n",
            "1000/1000 [==============================] - 1s 624us/step - loss: 0.0944 - sparse_categorical_accuracy: 0.9690\n",
            "Epoch 52/100\n",
            "1000/1000 [==============================] - 1s 618us/step - loss: 0.0868 - sparse_categorical_accuracy: 0.9720\n",
            "Epoch 53/100\n",
            "1000/1000 [==============================] - 1s 613us/step - loss: 0.1107 - sparse_categorical_accuracy: 0.9680\n",
            "Epoch 54/100\n",
            "1000/1000 [==============================] - 1s 633us/step - loss: 0.0672 - sparse_categorical_accuracy: 0.9720\n",
            "Epoch 55/100\n",
            "1000/1000 [==============================] - 1s 623us/step - loss: 0.1204 - sparse_categorical_accuracy: 0.9650\n",
            "Epoch 56/100\n",
            "1000/1000 [==============================] - 1s 619us/step - loss: 0.0638 - sparse_categorical_accuracy: 0.9820\n",
            "Epoch 57/100\n",
            "1000/1000 [==============================] - 1s 612us/step - loss: 0.0926 - sparse_categorical_accuracy: 0.9720\n",
            "Epoch 58/100\n",
            "1000/1000 [==============================] - 1s 634us/step - loss: 0.0614 - sparse_categorical_accuracy: 0.9760\n",
            "Epoch 59/100\n",
            "1000/1000 [==============================] - 1s 626us/step - loss: 0.0851 - sparse_categorical_accuracy: 0.9730\n",
            "Epoch 60/100\n",
            "1000/1000 [==============================] - 1s 646us/step - loss: 0.0607 - sparse_categorical_accuracy: 0.9870\n",
            "Epoch 61/100\n",
            "1000/1000 [==============================] - 1s 629us/step - loss: 0.0609 - sparse_categorical_accuracy: 0.9820\n",
            "Epoch 62/100\n",
            "1000/1000 [==============================] - 1s 620us/step - loss: 0.0722 - sparse_categorical_accuracy: 0.9740\n",
            "Epoch 63/100\n",
            "1000/1000 [==============================] - 1s 647us/step - loss: 0.0877 - sparse_categorical_accuracy: 0.9700\n",
            "Epoch 64/100\n",
            "1000/1000 [==============================] - 1s 646us/step - loss: 0.0588 - sparse_categorical_accuracy: 0.9810\n",
            "Epoch 65/100\n",
            "1000/1000 [==============================] - 1s 585us/step - loss: 0.0503 - sparse_categorical_accuracy: 0.9830\n",
            "Epoch 66/100\n",
            "1000/1000 [==============================] - 1s 590us/step - loss: 0.0718 - sparse_categorical_accuracy: 0.9740\n",
            "Epoch 67/100\n",
            "1000/1000 [==============================] - 1s 574us/step - loss: 0.0855 - sparse_categorical_accuracy: 0.9810\n",
            "Epoch 68/100\n",
            "1000/1000 [==============================] - 1s 588us/step - loss: 0.0611 - sparse_categorical_accuracy: 0.9780\n",
            "Epoch 69/100\n",
            "1000/1000 [==============================] - 1s 579us/step - loss: 0.0553 - sparse_categorical_accuracy: 0.9820\n",
            "Epoch 70/100\n",
            "1000/1000 [==============================] - 1s 631us/step - loss: 0.0379 - sparse_categorical_accuracy: 0.9870\n",
            "Epoch 71/100\n",
            "1000/1000 [==============================] - 1s 629us/step - loss: 0.0765 - sparse_categorical_accuracy: 0.9720\n",
            "Epoch 72/100\n",
            "1000/1000 [==============================] - 1s 625us/step - loss: 0.0516 - sparse_categorical_accuracy: 0.9830\n",
            "Epoch 73/100\n",
            "1000/1000 [==============================] - 1s 636us/step - loss: 0.0617 - sparse_categorical_accuracy: 0.9800\n",
            "Epoch 74/100\n",
            "1000/1000 [==============================] - 1s 642us/step - loss: 0.0546 - sparse_categorical_accuracy: 0.9840\n",
            "Epoch 75/100\n",
            "1000/1000 [==============================] - 1s 626us/step - loss: 0.0476 - sparse_categorical_accuracy: 0.9820\n",
            "Epoch 76/100\n",
            "1000/1000 [==============================] - 1s 644us/step - loss: 0.0498 - sparse_categorical_accuracy: 0.9780\n",
            "Epoch 77/100\n",
            "1000/1000 [==============================] - 1s 590us/step - loss: 0.0806 - sparse_categorical_accuracy: 0.9790\n",
            "Epoch 78/100\n",
            "1000/1000 [==============================] - 1s 608us/step - loss: 0.1007 - sparse_categorical_accuracy: 0.9740\n",
            "Epoch 79/100\n",
            "1000/1000 [==============================] - 1s 607us/step - loss: 0.0609 - sparse_categorical_accuracy: 0.9800\n",
            "Epoch 80/100\n",
            "1000/1000 [==============================] - 1s 600us/step - loss: 0.0448 - sparse_categorical_accuracy: 0.9910\n",
            "Epoch 81/100\n",
            "1000/1000 [==============================] - 1s 636us/step - loss: 0.0434 - sparse_categorical_accuracy: 0.9910\n",
            "Epoch 82/100\n",
            "1000/1000 [==============================] - 1s 631us/step - loss: 0.0733 - sparse_categorical_accuracy: 0.9790\n",
            "Epoch 83/100\n",
            "1000/1000 [==============================] - 1s 605us/step - loss: 0.0601 - sparse_categorical_accuracy: 0.9840\n",
            "Epoch 84/100\n",
            "1000/1000 [==============================] - 1s 615us/step - loss: 0.0690 - sparse_categorical_accuracy: 0.9850\n",
            "Epoch 85/100\n",
            "1000/1000 [==============================] - 1s 631us/step - loss: 0.0720 - sparse_categorical_accuracy: 0.9670\n",
            "Epoch 86/100\n",
            "1000/1000 [==============================] - 1s 649us/step - loss: 0.0520 - sparse_categorical_accuracy: 0.9820\n",
            "Epoch 87/100\n",
            "1000/1000 [==============================] - 1s 641us/step - loss: 0.0528 - sparse_categorical_accuracy: 0.9830\n",
            "Epoch 88/100\n",
            "1000/1000 [==============================] - 1s 616us/step - loss: 0.0593 - sparse_categorical_accuracy: 0.9790\n",
            "Epoch 89/100\n",
            "1000/1000 [==============================] - 1s 608us/step - loss: 0.0658 - sparse_categorical_accuracy: 0.9850\n",
            "Epoch 90/100\n",
            "1000/1000 [==============================] - 1s 589us/step - loss: 0.0691 - sparse_categorical_accuracy: 0.9800\n",
            "Epoch 91/100\n",
            "1000/1000 [==============================] - 1s 645us/step - loss: 0.0567 - sparse_categorical_accuracy: 0.9820\n",
            "Epoch 92/100\n",
            "1000/1000 [==============================] - 1s 642us/step - loss: 0.0636 - sparse_categorical_accuracy: 0.9770\n",
            "Epoch 93/100\n",
            "1000/1000 [==============================] - 1s 653us/step - loss: 0.0441 - sparse_categorical_accuracy: 0.9860\n",
            "Epoch 94/100\n",
            "1000/1000 [==============================] - 1s 638us/step - loss: 0.0447 - sparse_categorical_accuracy: 0.9880\n",
            "Epoch 95/100\n",
            "1000/1000 [==============================] - 1s 633us/step - loss: 0.0547 - sparse_categorical_accuracy: 0.9820\n",
            "Epoch 96/100\n",
            "1000/1000 [==============================] - 1s 656us/step - loss: 0.0612 - sparse_categorical_accuracy: 0.9810\n",
            "Epoch 97/100\n",
            "1000/1000 [==============================] - 1s 648us/step - loss: 0.0516 - sparse_categorical_accuracy: 0.9810\n",
            "Epoch 98/100\n",
            "1000/1000 [==============================] - 1s 652us/step - loss: 0.0376 - sparse_categorical_accuracy: 0.9860\n",
            "Epoch 99/100\n",
            "1000/1000 [==============================] - 1s 650us/step - loss: 0.0333 - sparse_categorical_accuracy: 0.9880\n",
            "Epoch 100/100\n",
            "1000/1000 [==============================] - 1s 654us/step - loss: 0.0602 - sparse_categorical_accuracy: 0.9880\n"
          ],
          "name": "stdout"
        },
        {
          "output_type": "execute_result",
          "data": {
            "text/plain": [
              "<keras.callbacks.callbacks.History at 0x7f99a649e358>"
            ]
          },
          "metadata": {
            "tags": []
          },
          "execution_count": 27
        }
      ]
    },
    {
      "cell_type": "code",
      "metadata": {
        "id": "WViuCaYAcUOf",
        "colab_type": "code",
        "colab": {
          "base_uri": "https://localhost:8080/",
          "height": 53
        },
        "outputId": "4a2f77c3-7865-45dd-d09e-e2d118a57348"
      },
      "source": [
        "model.evaluate(np.expand_dims(x_test,3),y_test)"
      ],
      "execution_count": null,
      "outputs": [
        {
          "output_type": "stream",
          "text": [
            "100/100 [==============================] - 0s 712us/step\n"
          ],
          "name": "stdout"
        },
        {
          "output_type": "execute_result",
          "data": {
            "text/plain": [
              "[0.09569675683975219, 0.9700000286102295]"
            ]
          },
          "metadata": {
            "tags": []
          },
          "execution_count": 28
        }
      ]
    },
    {
      "cell_type": "code",
      "metadata": {
        "id": "AZ3jvn_NdPDd",
        "colab_type": "code",
        "colab": {
          "base_uri": "https://localhost:8080/",
          "height": 299
        },
        "outputId": "9a99258e-4944-4596-dfb3-99823e485bf3"
      },
      "source": [
        "# selects a random example\n",
        "ind = np.random.randint(0,100)\n",
        "\n",
        "plt.imshow(x_test[ind])\n",
        "plt.title(f'Target is {y_test[ind]}, the prediction is {np.argmax(model.predict(np.expand_dims(x_test,3))[ind])}')"
      ],
      "execution_count": null,
      "outputs": [
        {
          "output_type": "execute_result",
          "data": {
            "text/plain": [
              "Text(0.5, 1.0, 'Target is 9, the prediction is 5')"
            ]
          },
          "metadata": {
            "tags": []
          },
          "execution_count": 29
        },
        {
          "output_type": "display_data",
          "data": {
            "image/png": "[encoded data removed]",
            "text/plain": [
              "<Figure size 432x288 with 1 Axes>"
            ]
          },
          "metadata": {
            "tags": [],
            "needs_background": "light"
          }
        }
      ]
    },
    {
      "cell_type": "code",
      "metadata": {
        "id": "uXmgdF7rdnxl",
        "colab_type": "code",
        "colab": {}
      },
      "source": [
        "from umap import UMAP\n",
        "import matplotlib.pyplot as plt"
      ],
      "execution_count": null,
      "outputs": []
    },
    {
      "cell_type": "code",
      "metadata": {
        "id": "AiAuXdF5dsZB",
        "colab_type": "code",
        "colab": {
          "base_uri": "https://localhost:8080/",
          "height": 179
        },
        "outputId": "f143de8b-7434-4f92-89f5-87cc17e2c16e"
      },
      "source": [
        "model_outputs = model.predict(np.expand_dims(x_train,3))\n",
        "reducer = UMAP(random_state=42)\n",
        "reducer.fit(model_outputs)"
      ],
      "execution_count": null,
      "outputs": [
        {
          "output_type": "execute_result",
          "data": {
            "text/plain": [
              "UMAP(a=None, angular_rp_forest=False, b=None,\n",
              "     force_approximation_algorithm=False, init='spectral', learning_rate=1.0,\n",
              "     local_connectivity=1.0, low_memory=False, metric='euclidean',\n",
              "     metric_kwds=None, min_dist=0.1, n_components=2, n_epochs=None,\n",
              "     n_neighbors=15, negative_sample_rate=5, output_metric='euclidean',\n",
              "     output_metric_kwds=None, random_state=42, repulsion_strength=1.0,\n",
              "     set_op_mix_ratio=1.0, spread=1.0, target_metric='categorical',\n",
              "     target_metric_kwds=None, target_n_neighbors=-1, target_weight=0.5,\n",
              "     transform_queue_size=4.0, transform_seed=42, unique=False, verbose=False)"
            ]
          },
          "metadata": {
            "tags": []
          },
          "execution_count": 35
        }
      ]
    },
    {
      "cell_type": "code",
      "metadata": {
        "id": "7cpkR9uddujN",
        "colab_type": "code",
        "colab": {
          "base_uri": "https://localhost:8080/",
          "height": 35
        },
        "outputId": "71fa59ce-a4ea-4c39-be82-39bcb8f16a45"
      },
      "source": [
        "embedding = reducer.transform(model_outputs)\n",
        "# Verify that the result of calling transform is\n",
        "# idenitical to accessing the embedding_ attribute\n",
        "assert(np.all(embedding == reducer.embedding_))\n",
        "embedding.shape"
      ],
      "execution_count": null,
      "outputs": [
        {
          "output_type": "execute_result",
          "data": {
            "text/plain": [
              "(1000, 2)"
            ]
          },
          "metadata": {
            "tags": []
          },
          "execution_count": 36
        }
      ]
    },
    {
      "cell_type": "code",
      "metadata": {
        "id": "1P5lplIGBW5K",
        "colab_type": "code",
        "colab": {
          "base_uri": "https://localhost:8080/",
          "height": 790
        },
        "outputId": "9b6df11a-3656-472b-ce3c-a99e1819bfbd"
      },
      "source": [
        "plt.figure(figsize=(20,20))\n",
        "plt.scatter(embedding[:, 0], embedding[:, 1], c=y_train, cmap='Spectral', s=5)\n",
        "plt.gca().set_aspect('equal', 'datalim')\n",
        "plt.colorbar(boundaries=np.arange(11)-0.5).set_ticks(np.arange(10))\n",
        "# plt.title('UMAP projection with Sparse Categorical Crossentropy loss', fontsize=24)"
      ],
      "execution_count": null,
      "outputs": [
        {
          "output_type": "display_data",
          "data": {
            "image/png": "[encoded data removed]",
            "text/plain": [
              "<Figure size 1440x1440 with 2 Axes>"
            ]
          },
          "metadata": {
            "tags": [],
            "needs_background": "light"
          }
        }
      ]
    },
    {
      "cell_type": "markdown",
      "metadata": {
        "id": "Uwp3yB_rIaQ7",
        "colab_type": "text"
      },
      "source": [
        "![](https://blog.keras.io/img/ae/autoencoder_schema.jpg)"
      ]
    },
    {
      "cell_type": "code",
      "metadata": {
        "id": "96LDuaS-IZ5f",
        "colab_type": "code",
        "colab": {}
      },
      "source": [
        "from keras.layers import Input, Dense\n",
        "from keras.models import Model\n",
        "\n",
        "# this is the size of our encoded representations\n",
        "encoding_dim = 64  # 32 floats -> compression of factor 24.5, assuming the input is 784 floats\n",
        "\n",
        "# this is our input placeholder\n",
        "input_img = Input(shape=(784,))\n",
        "# \"encoded\" is the encoded representation of the input\n",
        "encoded = Dense(encoding_dim, activation='relu')(input_img)\n",
        "# \"decoded\" is the lossy reconstruction of the input\n",
        "decoded = Dense(784, activation='sigmoid')(encoded)\n",
        "\n",
        "# this model maps an input to its reconstruction\n",
        "autoencoder = Model(input_img, decoded)"
      ],
      "execution_count": 9,
      "outputs": []
    },
    {
      "cell_type": "code",
      "metadata": {
        "id": "TYALFSjDBdyh",
        "colab_type": "code",
        "colab": {}
      },
      "source": [
        "# this model maps an input to its encoded representation\n",
        "encoder = Model(input_img, encoded)"
      ],
      "execution_count": 10,
      "outputs": []
    },
    {
      "cell_type": "code",
      "metadata": {
        "id": "dDQPiS-FIkf0",
        "colab_type": "code",
        "colab": {}
      },
      "source": [
        "# create a placeholder for an encoded (32-dimensional) input\n",
        "encoded_input = Input(shape=(encoding_dim,))\n",
        "# retrieve the last layer of the autoencoder model\n",
        "decoder_layer = autoencoder.layers[-1]\n",
        "# create the decoder model\n",
        "decoder = Model(encoded_input, decoder_layer(encoded_input))"
      ],
      "execution_count": 11,
      "outputs": []
    },
    {
      "cell_type": "code",
      "metadata": {
        "id": "KrcnWC3KImx1",
        "colab_type": "code",
        "colab": {}
      },
      "source": [
        "autoencoder.compile(optimizer='adam', loss='binary_crossentropy')"
      ],
      "execution_count": 22,
      "outputs": []
    },
    {
      "cell_type": "code",
      "metadata": {
        "id": "jFgzdtp_IpJK",
        "colab_type": "code",
        "colab": {}
      },
      "source": [
        "from keras.datasets import mnist\n",
        "import numpy as np\n",
        "(x_train, _), (x_test, _) = mnist.load_data()"
      ],
      "execution_count": 13,
      "outputs": []
    },
    {
      "cell_type": "code",
      "metadata": {
        "id": "uJRqYF3mIrG3",
        "colab_type": "code",
        "colab": {
          "base_uri": "https://localhost:8080/",
          "height": 52
        },
        "outputId": "74cf2d61-ded8-4059-e672-723d732a1936"
      },
      "source": [
        "x_train = x_train.astype('float32') / 255.\n",
        "x_test = x_test.astype('float32') / 255.\n",
        "x_train = x_train.reshape((len(x_train), np.prod(x_train.shape[1:])))\n",
        "x_test = x_test.reshape((len(x_test), np.prod(x_test.shape[1:])))\n",
        "print(x_train.shape)\n",
        "print(x_test.shape)"
      ],
      "execution_count": 21,
      "outputs": [
        {
          "output_type": "stream",
          "text": [
            "(60000, 784)\n",
            "(10000, 784)\n"
          ],
          "name": "stdout"
        }
      ]
    },
    {
      "cell_type": "code",
      "metadata": {
        "id": "5_V-Pff6ItF5",
        "colab_type": "code",
        "colab": {
          "base_uri": "https://localhost:8080/",
          "height": 849
        },
        "outputId": "fcc29698-0c22-4c12-8d96-927f80fa4a3f"
      },
      "source": [
        "autoencoder.fit(x_train, x_train,\n",
        "                epochs=50,\n",
        "                batch_size=256,\n",
        "                shuffle=True,\n",
        "                validation_data=(x_test, x_test))"
      ],
      "execution_count": 23,
      "outputs": [
        {
          "output_type": "stream",
          "text": [
            "Epoch 1/50\n",
            "235/235 [==============================] - 1s 4ms/step - loss: 0.2467 - val_loss: 0.1620\n",
            "Epoch 2/50\n",
            "235/235 [==============================] - 1s 4ms/step - loss: 0.1432 - val_loss: 0.1266\n",
            "Epoch 3/50\n",
            "235/235 [==============================] - 1s 4ms/step - loss: 0.1185 - val_loss: 0.1091\n",
            "Epoch 4/50\n",
            "235/235 [==============================] - 1s 4ms/step - loss: 0.1044 - val_loss: 0.0979\n",
            "Epoch 5/50\n",
            "235/235 [==============================] - 1s 4ms/step - loss: 0.0949 - val_loss: 0.0900\n",
            "Epoch 6/50\n",
            "235/235 [==============================] - 1s 4ms/step - loss: 0.0881 - val_loss: 0.0847\n",
            "Epoch 7/50\n",
            "235/235 [==============================] - 1s 4ms/step - loss: 0.0837 - val_loss: 0.0814\n",
            "Epoch 8/50\n",
            "235/235 [==============================] - 1s 4ms/step - loss: 0.0808 - val_loss: 0.0787\n",
            "Epoch 9/50\n",
            "235/235 [==============================] - 1s 4ms/step - loss: 0.0788 - val_loss: 0.0772\n",
            "Epoch 10/50\n",
            "235/235 [==============================] - 1s 4ms/step - loss: 0.0774 - val_loss: 0.0761\n",
            "Epoch 11/50\n",
            "235/235 [==============================] - 1s 4ms/step - loss: 0.0765 - val_loss: 0.0753\n",
            "Epoch 12/50\n",
            "235/235 [==============================] - 1s 4ms/step - loss: 0.0758 - val_loss: 0.0748\n",
            "Epoch 13/50\n",
            "235/235 [==============================] - 1s 4ms/step - loss: 0.0753 - val_loss: 0.0743\n",
            "Epoch 14/50\n",
            "176/235 [=====================>........] - ETA: 0s - loss: 0.0750"
          ],
          "name": "stdout"
        },
        {
          "output_type": "error",
          "ename": "KeyboardInterrupt",
          "evalue": "ignored",
          "traceback": [
            "\u001b[0;31m---------------------------------------------------------------------------\u001b[0m",
            "\u001b[0;31mKeyboardInterrupt\u001b[0m                         Traceback (most recent call last)",
            "\u001b[0;32m<ipython-input-23-e1766911e1b1>\u001b[0m in \u001b[0;36m<module>\u001b[0;34m()\u001b[0m\n\u001b[1;32m      3\u001b[0m                 \u001b[0mbatch_size\u001b[0m\u001b[0;34m=\u001b[0m\u001b[0;36m256\u001b[0m\u001b[0;34m,\u001b[0m\u001b[0;34m\u001b[0m\u001b[0;34m\u001b[0m\u001b[0m\n\u001b[1;32m      4\u001b[0m                 \u001b[0mshuffle\u001b[0m\u001b[0;34m=\u001b[0m\u001b[0;32mTrue\u001b[0m\u001b[0;34m,\u001b[0m\u001b[0;34m\u001b[0m\u001b[0;34m\u001b[0m\u001b[0m\n\u001b[0;32m----> 5\u001b[0;31m                 validation_data=(x_test, x_test))\n\u001b[0m",
            "\u001b[0;32m/usr/local/lib/python3.6/dist-packages/tensorflow/python/keras/engine/training.py\u001b[0m in \u001b[0;36m_method_wrapper\u001b[0;34m(self, *args, **kwargs)\u001b[0m\n\u001b[1;32m    106\u001b[0m   \u001b[0;32mdef\u001b[0m \u001b[0m_method_wrapper\u001b[0m\u001b[0;34m(\u001b[0m\u001b[0mself\u001b[0m\u001b[0;34m,\u001b[0m \u001b[0;34m*\u001b[0m\u001b[0margs\u001b[0m\u001b[0;34m,\u001b[0m \u001b[0;34m**\u001b[0m\u001b[0mkwargs\u001b[0m\u001b[0;34m)\u001b[0m\u001b[0;34m:\u001b[0m\u001b[0;34m\u001b[0m\u001b[0;34m\u001b[0m\u001b[0m\n\u001b[1;32m    107\u001b[0m     \u001b[0;32mif\u001b[0m \u001b[0;32mnot\u001b[0m \u001b[0mself\u001b[0m\u001b[0;34m.\u001b[0m\u001b[0m_in_multi_worker_mode\u001b[0m\u001b[0;34m(\u001b[0m\u001b[0;34m)\u001b[0m\u001b[0;34m:\u001b[0m  \u001b[0;31m# pylint: disable=protected-access\u001b[0m\u001b[0;34m\u001b[0m\u001b[0;34m\u001b[0m\u001b[0m\n\u001b[0;32m--> 108\u001b[0;31m       \u001b[0;32mreturn\u001b[0m \u001b[0mmethod\u001b[0m\u001b[0;34m(\u001b[0m\u001b[0mself\u001b[0m\u001b[0;34m,\u001b[0m \u001b[0;34m*\u001b[0m\u001b[0margs\u001b[0m\u001b[0;34m,\u001b[0m \u001b[0;34m**\u001b[0m\u001b[0mkwargs\u001b[0m\u001b[0;34m)\u001b[0m\u001b[0;34m\u001b[0m\u001b[0;34m\u001b[0m\u001b[0m\n\u001b[0m\u001b[1;32m    109\u001b[0m \u001b[0;34m\u001b[0m\u001b[0m\n\u001b[1;32m    110\u001b[0m     \u001b[0;31m# Running inside `run_distribute_coordinator` already.\u001b[0m\u001b[0;34m\u001b[0m\u001b[0;34m\u001b[0m\u001b[0;34m\u001b[0m\u001b[0m\n",
            "\u001b[0;32m/usr/local/lib/python3.6/dist-packages/tensorflow/python/keras/engine/training.py\u001b[0m in \u001b[0;36mfit\u001b[0;34m(self, x, y, batch_size, epochs, verbose, callbacks, validation_split, validation_data, shuffle, class_weight, sample_weight, initial_epoch, steps_per_epoch, validation_steps, validation_batch_size, validation_freq, max_queue_size, workers, use_multiprocessing)\u001b[0m\n\u001b[1;32m   1096\u001b[0m                 batch_size=batch_size):\n\u001b[1;32m   1097\u001b[0m               \u001b[0mcallbacks\u001b[0m\u001b[0;34m.\u001b[0m\u001b[0mon_train_batch_begin\u001b[0m\u001b[0;34m(\u001b[0m\u001b[0mstep\u001b[0m\u001b[0;34m)\u001b[0m\u001b[0;34m\u001b[0m\u001b[0;34m\u001b[0m\u001b[0m\n\u001b[0;32m-> 1098\u001b[0;31m               \u001b[0mtmp_logs\u001b[0m \u001b[0;34m=\u001b[0m \u001b[0mtrain_function\u001b[0m\u001b[0;34m(\u001b[0m\u001b[0miterator\u001b[0m\u001b[0;34m)\u001b[0m\u001b[0;34m\u001b[0m\u001b[0;34m\u001b[0m\u001b[0m\n\u001b[0m\u001b[1;32m   1099\u001b[0m               \u001b[0;32mif\u001b[0m \u001b[0mdata_handler\u001b[0m\u001b[0;34m.\u001b[0m\u001b[0mshould_sync\u001b[0m\u001b[0;34m:\u001b[0m\u001b[0;34m\u001b[0m\u001b[0;34m\u001b[0m\u001b[0m\n\u001b[1;32m   1100\u001b[0m                 \u001b[0mcontext\u001b[0m\u001b[0;34m.\u001b[0m\u001b[0masync_wait\u001b[0m\u001b[0;34m(\u001b[0m\u001b[0;34m)\u001b[0m\u001b[0;34m\u001b[0m\u001b[0;34m\u001b[0m\u001b[0m\n",
            "\u001b[0;32m/usr/local/lib/python3.6/dist-packages/tensorflow/python/eager/def_function.py\u001b[0m in \u001b[0;36m__call__\u001b[0;34m(self, *args, **kwds)\u001b[0m\n\u001b[1;32m    778\u001b[0m       \u001b[0;32melse\u001b[0m\u001b[0;34m:\u001b[0m\u001b[0;34m\u001b[0m\u001b[0;34m\u001b[0m\u001b[0m\n\u001b[1;32m    779\u001b[0m         \u001b[0mcompiler\u001b[0m \u001b[0;34m=\u001b[0m \u001b[0;34m\"nonXla\"\u001b[0m\u001b[0;34m\u001b[0m\u001b[0;34m\u001b[0m\u001b[0m\n\u001b[0;32m--> 780\u001b[0;31m         \u001b[0mresult\u001b[0m \u001b[0;34m=\u001b[0m \u001b[0mself\u001b[0m\u001b[0;34m.\u001b[0m\u001b[0m_call\u001b[0m\u001b[0;34m(\u001b[0m\u001b[0;34m*\u001b[0m\u001b[0margs\u001b[0m\u001b[0;34m,\u001b[0m \u001b[0;34m**\u001b[0m\u001b[0mkwds\u001b[0m\u001b[0;34m)\u001b[0m\u001b[0;34m\u001b[0m\u001b[0;34m\u001b[0m\u001b[0m\n\u001b[0m\u001b[1;32m    781\u001b[0m \u001b[0;34m\u001b[0m\u001b[0m\n\u001b[1;32m    782\u001b[0m       \u001b[0mnew_tracing_count\u001b[0m \u001b[0;34m=\u001b[0m \u001b[0mself\u001b[0m\u001b[0;34m.\u001b[0m\u001b[0m_get_tracing_count\u001b[0m\u001b[0;34m(\u001b[0m\u001b[0;34m)\u001b[0m\u001b[0;34m\u001b[0m\u001b[0;34m\u001b[0m\u001b[0m\n",
            "\u001b[0;32m/usr/local/lib/python3.6/dist-packages/tensorflow/python/eager/def_function.py\u001b[0m in \u001b[0;36m_call\u001b[0;34m(self, *args, **kwds)\u001b[0m\n\u001b[1;32m    805\u001b[0m       \u001b[0;31m# In this case we have created variables on the first call, so we run the\u001b[0m\u001b[0;34m\u001b[0m\u001b[0;34m\u001b[0m\u001b[0;34m\u001b[0m\u001b[0m\n\u001b[1;32m    806\u001b[0m       \u001b[0;31m# defunned version which is guaranteed to never create variables.\u001b[0m\u001b[0;34m\u001b[0m\u001b[0;34m\u001b[0m\u001b[0;34m\u001b[0m\u001b[0m\n\u001b[0;32m--> 807\u001b[0;31m       \u001b[0;32mreturn\u001b[0m \u001b[0mself\u001b[0m\u001b[0;34m.\u001b[0m\u001b[0m_stateless_fn\u001b[0m\u001b[0;34m(\u001b[0m\u001b[0;34m*\u001b[0m\u001b[0margs\u001b[0m\u001b[0;34m,\u001b[0m \u001b[0;34m**\u001b[0m\u001b[0mkwds\u001b[0m\u001b[0;34m)\u001b[0m  \u001b[0;31m# pylint: disable=not-callable\u001b[0m\u001b[0;34m\u001b[0m\u001b[0;34m\u001b[0m\u001b[0m\n\u001b[0m\u001b[1;32m    808\u001b[0m     \u001b[0;32melif\u001b[0m \u001b[0mself\u001b[0m\u001b[0;34m.\u001b[0m\u001b[0m_stateful_fn\u001b[0m \u001b[0;32mis\u001b[0m \u001b[0;32mnot\u001b[0m \u001b[0;32mNone\u001b[0m\u001b[0;34m:\u001b[0m\u001b[0;34m\u001b[0m\u001b[0;34m\u001b[0m\u001b[0m\n\u001b[1;32m    809\u001b[0m       \u001b[0;31m# Release the lock early so that multiple threads can perform the call\u001b[0m\u001b[0;34m\u001b[0m\u001b[0;34m\u001b[0m\u001b[0;34m\u001b[0m\u001b[0m\n",
            "\u001b[0;32m/usr/local/lib/python3.6/dist-packages/tensorflow/python/eager/function.py\u001b[0m in \u001b[0;36m__call__\u001b[0;34m(self, *args, **kwargs)\u001b[0m\n\u001b[1;32m   2827\u001b[0m     \u001b[0;32mwith\u001b[0m \u001b[0mself\u001b[0m\u001b[0;34m.\u001b[0m\u001b[0m_lock\u001b[0m\u001b[0;34m:\u001b[0m\u001b[0;34m\u001b[0m\u001b[0;34m\u001b[0m\u001b[0m\n\u001b[1;32m   2828\u001b[0m       \u001b[0mgraph_function\u001b[0m\u001b[0;34m,\u001b[0m \u001b[0margs\u001b[0m\u001b[0;34m,\u001b[0m \u001b[0mkwargs\u001b[0m \u001b[0;34m=\u001b[0m \u001b[0mself\u001b[0m\u001b[0;34m.\u001b[0m\u001b[0m_maybe_define_function\u001b[0m\u001b[0;34m(\u001b[0m\u001b[0margs\u001b[0m\u001b[0;34m,\u001b[0m \u001b[0mkwargs\u001b[0m\u001b[0;34m)\u001b[0m\u001b[0;34m\u001b[0m\u001b[0;34m\u001b[0m\u001b[0m\n\u001b[0;32m-> 2829\u001b[0;31m     \u001b[0;32mreturn\u001b[0m \u001b[0mgraph_function\u001b[0m\u001b[0;34m.\u001b[0m\u001b[0m_filtered_call\u001b[0m\u001b[0;34m(\u001b[0m\u001b[0margs\u001b[0m\u001b[0;34m,\u001b[0m \u001b[0mkwargs\u001b[0m\u001b[0;34m)\u001b[0m  \u001b[0;31m# pylint: disable=protected-access\u001b[0m\u001b[0;34m\u001b[0m\u001b[0;34m\u001b[0m\u001b[0m\n\u001b[0m\u001b[1;32m   2830\u001b[0m \u001b[0;34m\u001b[0m\u001b[0m\n\u001b[1;32m   2831\u001b[0m   \u001b[0;34m@\u001b[0m\u001b[0mproperty\u001b[0m\u001b[0;34m\u001b[0m\u001b[0;34m\u001b[0m\u001b[0m\n",
            "\u001b[0;32m/usr/local/lib/python3.6/dist-packages/tensorflow/python/eager/function.py\u001b[0m in \u001b[0;36m_filtered_call\u001b[0;34m(self, args, kwargs, cancellation_manager)\u001b[0m\n\u001b[1;32m   1846\u001b[0m                            resource_variable_ops.BaseResourceVariable))],\n\u001b[1;32m   1847\u001b[0m         \u001b[0mcaptured_inputs\u001b[0m\u001b[0;34m=\u001b[0m\u001b[0mself\u001b[0m\u001b[0;34m.\u001b[0m\u001b[0mcaptured_inputs\u001b[0m\u001b[0;34m,\u001b[0m\u001b[0;34m\u001b[0m\u001b[0;34m\u001b[0m\u001b[0m\n\u001b[0;32m-> 1848\u001b[0;31m         cancellation_manager=cancellation_manager)\n\u001b[0m\u001b[1;32m   1849\u001b[0m \u001b[0;34m\u001b[0m\u001b[0m\n\u001b[1;32m   1850\u001b[0m   \u001b[0;32mdef\u001b[0m \u001b[0m_call_flat\u001b[0m\u001b[0;34m(\u001b[0m\u001b[0mself\u001b[0m\u001b[0;34m,\u001b[0m \u001b[0margs\u001b[0m\u001b[0;34m,\u001b[0m \u001b[0mcaptured_inputs\u001b[0m\u001b[0;34m,\u001b[0m \u001b[0mcancellation_manager\u001b[0m\u001b[0;34m=\u001b[0m\u001b[0;32mNone\u001b[0m\u001b[0;34m)\u001b[0m\u001b[0;34m:\u001b[0m\u001b[0;34m\u001b[0m\u001b[0;34m\u001b[0m\u001b[0m\n",
            "\u001b[0;32m/usr/local/lib/python3.6/dist-packages/tensorflow/python/eager/function.py\u001b[0m in \u001b[0;36m_call_flat\u001b[0;34m(self, args, captured_inputs, cancellation_manager)\u001b[0m\n\u001b[1;32m   1922\u001b[0m       \u001b[0;31m# No tape is watching; skip to running the function.\u001b[0m\u001b[0;34m\u001b[0m\u001b[0;34m\u001b[0m\u001b[0;34m\u001b[0m\u001b[0m\n\u001b[1;32m   1923\u001b[0m       return self._build_call_outputs(self._inference_function.call(\n\u001b[0;32m-> 1924\u001b[0;31m           ctx, args, cancellation_manager=cancellation_manager))\n\u001b[0m\u001b[1;32m   1925\u001b[0m     forward_backward = self._select_forward_and_backward_functions(\n\u001b[1;32m   1926\u001b[0m         \u001b[0margs\u001b[0m\u001b[0;34m,\u001b[0m\u001b[0;34m\u001b[0m\u001b[0;34m\u001b[0m\u001b[0m\n",
            "\u001b[0;32m/usr/local/lib/python3.6/dist-packages/tensorflow/python/eager/function.py\u001b[0m in \u001b[0;36mcall\u001b[0;34m(self, ctx, args, cancellation_manager)\u001b[0m\n\u001b[1;32m    548\u001b[0m               \u001b[0minputs\u001b[0m\u001b[0;34m=\u001b[0m\u001b[0margs\u001b[0m\u001b[0;34m,\u001b[0m\u001b[0;34m\u001b[0m\u001b[0;34m\u001b[0m\u001b[0m\n\u001b[1;32m    549\u001b[0m               \u001b[0mattrs\u001b[0m\u001b[0;34m=\u001b[0m\u001b[0mattrs\u001b[0m\u001b[0;34m,\u001b[0m\u001b[0;34m\u001b[0m\u001b[0;34m\u001b[0m\u001b[0m\n\u001b[0;32m--> 550\u001b[0;31m               ctx=ctx)\n\u001b[0m\u001b[1;32m    551\u001b[0m         \u001b[0;32melse\u001b[0m\u001b[0;34m:\u001b[0m\u001b[0;34m\u001b[0m\u001b[0;34m\u001b[0m\u001b[0m\n\u001b[1;32m    552\u001b[0m           outputs = execute.execute_with_cancellation(\n",
            "\u001b[0;32m/usr/local/lib/python3.6/dist-packages/tensorflow/python/eager/execute.py\u001b[0m in \u001b[0;36mquick_execute\u001b[0;34m(op_name, num_outputs, inputs, attrs, ctx, name)\u001b[0m\n\u001b[1;32m     58\u001b[0m     \u001b[0mctx\u001b[0m\u001b[0;34m.\u001b[0m\u001b[0mensure_initialized\u001b[0m\u001b[0;34m(\u001b[0m\u001b[0;34m)\u001b[0m\u001b[0;34m\u001b[0m\u001b[0;34m\u001b[0m\u001b[0m\n\u001b[1;32m     59\u001b[0m     tensors = pywrap_tfe.TFE_Py_Execute(ctx._handle, device_name, op_name,\n\u001b[0;32m---> 60\u001b[0;31m                                         inputs, attrs, num_outputs)\n\u001b[0m\u001b[1;32m     61\u001b[0m   \u001b[0;32mexcept\u001b[0m \u001b[0mcore\u001b[0m\u001b[0;34m.\u001b[0m\u001b[0m_NotOkStatusException\u001b[0m \u001b[0;32mas\u001b[0m \u001b[0me\u001b[0m\u001b[0;34m:\u001b[0m\u001b[0;34m\u001b[0m\u001b[0;34m\u001b[0m\u001b[0m\n\u001b[1;32m     62\u001b[0m     \u001b[0;32mif\u001b[0m \u001b[0mname\u001b[0m \u001b[0;32mis\u001b[0m \u001b[0;32mnot\u001b[0m \u001b[0;32mNone\u001b[0m\u001b[0;34m:\u001b[0m\u001b[0;34m\u001b[0m\u001b[0;34m\u001b[0m\u001b[0m\n",
            "\u001b[0;31mKeyboardInterrupt\u001b[0m: "
          ]
        }
      ]
    },
    {
      "cell_type": "code",
      "metadata": {
        "id": "fY4dhJuoIyuQ",
        "colab_type": "code",
        "colab": {}
      },
      "source": [
        "# encode and decode some digits\n",
        "# note that we take them from the *test* set\n",
        "encoded_imgs = encoder.predict(x_test)\n",
        "decoded_imgs = decoder.predict(encoded_imgs)"
      ],
      "execution_count": 24,
      "outputs": []
    },
    {
      "cell_type": "code",
      "metadata": {
        "id": "Ejz-wNfAKC4C",
        "colab_type": "code",
        "colab": {
          "base_uri": "https://localhost:8080/",
          "height": 248
        },
        "outputId": "c49d552c-ae2a-43d3-bf83-6b32d6f02863"
      },
      "source": [
        "import matplotlib.pyplot as plt\n",
        "\n",
        "n = 10  # how many digits we will display\n",
        "plt.figure(figsize=(20, 4))\n",
        "for i in range(n):\n",
        "    # display original\n",
        "    ax = plt.subplot(2, n, i + 1)\n",
        "    plt.imshow(x_test[i].reshape(28, 28))\n",
        "    plt.gray()\n",
        "    ax.get_xaxis().set_visible(False)\n",
        "    ax.get_yaxis().set_visible(False)\n",
        "\n",
        "    # display reconstruction\n",
        "    ax = plt.subplot(2, n, i + 1 + n)\n",
        "    plt.imshow(decoded_imgs[i].reshape(28, 28))\n",
        "    plt.gray()\n",
        "    ax.get_xaxis().set_visible(False)\n",
        "    ax.get_yaxis().set_visible(False)\n",
        "plt.show()"
      ],
      "execution_count": 25,
      "outputs": [
        {
          "output_type": "display_data",
          "data": {
            "image/png": "[encoded data removed]",
            "text/plain": [
              "<Figure size 1440x288 with 20 Axes>"
            ]
          },
          "metadata": {
            "tags": [],
            "needs_background": "light"
          }
        }
      ]
    },
    {
      "cell_type": "code",
      "metadata": {
        "id": "AU0GkcvMKFgD",
        "colab_type": "code",
        "colab": {}
      },
      "source": [
        "input_img = Input(shape=(784,))\n",
        "encoded = Dense(128, activation='relu')(input_img)\n",
        "encoded = Dense(64, activation='relu')(encoded)\n",
        "encoded = Dense(32, activation='relu')(encoded)\n",
        "\n",
        "decoded = Dense(64, activation='relu')(encoded)\n",
        "decoded = Dense(128, activation='relu')(decoded)\n",
        "decoded = Dense(784, activation='sigmoid')(decoded)"
      ],
      "execution_count": 26,
      "outputs": []
    },
    {
      "cell_type": "code",
      "metadata": {
        "id": "sdTgoIjVKP77",
        "colab_type": "code",
        "colab": {
          "base_uri": "https://localhost:8080/",
          "height": 424
        },
        "outputId": "6b8fecbc-0879-46c8-9c26-7d6c68cb4a00"
      },
      "source": [
        "autoencoder = Model(input_img, decoded)\n",
        "autoencoder.compile(optimizer='adam', loss='binary_crossentropy')\n",
        "\n",
        "autoencoder.fit(x_train, x_train,\n",
        "                epochs=100,\n",
        "                batch_size=256,\n",
        "                shuffle=True,\n",
        "                validation_data=(x_test, x_test))"
      ],
      "execution_count": 28,
      "outputs": [
        {
          "output_type": "stream",
          "text": [
            "Epoch 1/100\n",
            "235/235 [==============================] - 1s 5ms/step - loss: 0.0866 - val_loss: 0.0851\n",
            "Epoch 2/100\n",
            "107/235 [============>.................] - ETA: 0s - loss: 0.0851"
          ],
          "name": "stdout"
        },
        {
          "output_type": "error",
          "ename": "KeyboardInterrupt",
          "evalue": "ignored",
          "traceback": [
            "\u001b[0;31m---------------------------------------------------------------------------\u001b[0m",
            "\u001b[0;31mKeyboardInterrupt\u001b[0m                         Traceback (most recent call last)",
            "\u001b[0;32m<ipython-input-28-f938062a6dab>\u001b[0m in \u001b[0;36m<module>\u001b[0;34m()\u001b[0m\n\u001b[1;32m      6\u001b[0m                 \u001b[0mbatch_size\u001b[0m\u001b[0;34m=\u001b[0m\u001b[0;36m256\u001b[0m\u001b[0;34m,\u001b[0m\u001b[0;34m\u001b[0m\u001b[0;34m\u001b[0m\u001b[0m\n\u001b[1;32m      7\u001b[0m                 \u001b[0mshuffle\u001b[0m\u001b[0;34m=\u001b[0m\u001b[0;32mTrue\u001b[0m\u001b[0;34m,\u001b[0m\u001b[0;34m\u001b[0m\u001b[0;34m\u001b[0m\u001b[0m\n\u001b[0;32m----> 8\u001b[0;31m                 validation_data=(x_test, x_test))\n\u001b[0m",
            "\u001b[0;32m/usr/local/lib/python3.6/dist-packages/tensorflow/python/keras/engine/training.py\u001b[0m in \u001b[0;36m_method_wrapper\u001b[0;34m(self, *args, **kwargs)\u001b[0m\n\u001b[1;32m    106\u001b[0m   \u001b[0;32mdef\u001b[0m \u001b[0m_method_wrapper\u001b[0m\u001b[0;34m(\u001b[0m\u001b[0mself\u001b[0m\u001b[0;34m,\u001b[0m \u001b[0;34m*\u001b[0m\u001b[0margs\u001b[0m\u001b[0;34m,\u001b[0m \u001b[0;34m**\u001b[0m\u001b[0mkwargs\u001b[0m\u001b[0;34m)\u001b[0m\u001b[0;34m:\u001b[0m\u001b[0;34m\u001b[0m\u001b[0;34m\u001b[0m\u001b[0m\n\u001b[1;32m    107\u001b[0m     \u001b[0;32mif\u001b[0m \u001b[0;32mnot\u001b[0m \u001b[0mself\u001b[0m\u001b[0;34m.\u001b[0m\u001b[0m_in_multi_worker_mode\u001b[0m\u001b[0;34m(\u001b[0m\u001b[0;34m)\u001b[0m\u001b[0;34m:\u001b[0m  \u001b[0;31m# pylint: disable=protected-access\u001b[0m\u001b[0;34m\u001b[0m\u001b[0;34m\u001b[0m\u001b[0m\n\u001b[0;32m--> 108\u001b[0;31m       \u001b[0;32mreturn\u001b[0m \u001b[0mmethod\u001b[0m\u001b[0;34m(\u001b[0m\u001b[0mself\u001b[0m\u001b[0;34m,\u001b[0m \u001b[0;34m*\u001b[0m\u001b[0margs\u001b[0m\u001b[0;34m,\u001b[0m \u001b[0;34m**\u001b[0m\u001b[0mkwargs\u001b[0m\u001b[0;34m)\u001b[0m\u001b[0;34m\u001b[0m\u001b[0;34m\u001b[0m\u001b[0m\n\u001b[0m\u001b[1;32m    109\u001b[0m \u001b[0;34m\u001b[0m\u001b[0m\n\u001b[1;32m    110\u001b[0m     \u001b[0;31m# Running inside `run_distribute_coordinator` already.\u001b[0m\u001b[0;34m\u001b[0m\u001b[0;34m\u001b[0m\u001b[0;34m\u001b[0m\u001b[0m\n",
            "\u001b[0;32m/usr/local/lib/python3.6/dist-packages/tensorflow/python/keras/engine/training.py\u001b[0m in \u001b[0;36mfit\u001b[0;34m(self, x, y, batch_size, epochs, verbose, callbacks, validation_split, validation_data, shuffle, class_weight, sample_weight, initial_epoch, steps_per_epoch, validation_steps, validation_batch_size, validation_freq, max_queue_size, workers, use_multiprocessing)\u001b[0m\n\u001b[1;32m   1101\u001b[0m               \u001b[0mlogs\u001b[0m \u001b[0;34m=\u001b[0m \u001b[0mtmp_logs\u001b[0m  \u001b[0;31m# No error, now safe to assign to logs.\u001b[0m\u001b[0;34m\u001b[0m\u001b[0;34m\u001b[0m\u001b[0m\n\u001b[1;32m   1102\u001b[0m               \u001b[0mend_step\u001b[0m \u001b[0;34m=\u001b[0m \u001b[0mstep\u001b[0m \u001b[0;34m+\u001b[0m \u001b[0mdata_handler\u001b[0m\u001b[0;34m.\u001b[0m\u001b[0mstep_increment\u001b[0m\u001b[0;34m\u001b[0m\u001b[0;34m\u001b[0m\u001b[0m\n\u001b[0;32m-> 1103\u001b[0;31m               \u001b[0mcallbacks\u001b[0m\u001b[0;34m.\u001b[0m\u001b[0mon_train_batch_end\u001b[0m\u001b[0;34m(\u001b[0m\u001b[0mend_step\u001b[0m\u001b[0;34m,\u001b[0m \u001b[0mlogs\u001b[0m\u001b[0;34m)\u001b[0m\u001b[0;34m\u001b[0m\u001b[0;34m\u001b[0m\u001b[0m\n\u001b[0m\u001b[1;32m   1104\u001b[0m         \u001b[0mepoch_logs\u001b[0m \u001b[0;34m=\u001b[0m \u001b[0mcopy\u001b[0m\u001b[0;34m.\u001b[0m\u001b[0mcopy\u001b[0m\u001b[0;34m(\u001b[0m\u001b[0mlogs\u001b[0m\u001b[0;34m)\u001b[0m\u001b[0;34m\u001b[0m\u001b[0;34m\u001b[0m\u001b[0m\n\u001b[1;32m   1105\u001b[0m \u001b[0;34m\u001b[0m\u001b[0m\n",
            "\u001b[0;32m/usr/local/lib/python3.6/dist-packages/tensorflow/python/keras/callbacks.py\u001b[0m in \u001b[0;36mon_train_batch_end\u001b[0;34m(self, batch, logs)\u001b[0m\n\u001b[1;32m    438\u001b[0m     \"\"\"\n\u001b[1;32m    439\u001b[0m     \u001b[0;32mif\u001b[0m \u001b[0mself\u001b[0m\u001b[0;34m.\u001b[0m\u001b[0m_should_call_train_batch_hooks\u001b[0m\u001b[0;34m:\u001b[0m\u001b[0;34m\u001b[0m\u001b[0;34m\u001b[0m\u001b[0m\n\u001b[0;32m--> 440\u001b[0;31m       \u001b[0mself\u001b[0m\u001b[0;34m.\u001b[0m\u001b[0m_call_batch_hook\u001b[0m\u001b[0;34m(\u001b[0m\u001b[0mModeKeys\u001b[0m\u001b[0;34m.\u001b[0m\u001b[0mTRAIN\u001b[0m\u001b[0;34m,\u001b[0m \u001b[0;34m'end'\u001b[0m\u001b[0;34m,\u001b[0m \u001b[0mbatch\u001b[0m\u001b[0;34m,\u001b[0m \u001b[0mlogs\u001b[0m\u001b[0;34m=\u001b[0m\u001b[0mlogs\u001b[0m\u001b[0;34m)\u001b[0m\u001b[0;34m\u001b[0m\u001b[0;34m\u001b[0m\u001b[0m\n\u001b[0m\u001b[1;32m    441\u001b[0m \u001b[0;34m\u001b[0m\u001b[0m\n\u001b[1;32m    442\u001b[0m   \u001b[0;32mdef\u001b[0m \u001b[0mon_test_batch_begin\u001b[0m\u001b[0;34m(\u001b[0m\u001b[0mself\u001b[0m\u001b[0;34m,\u001b[0m \u001b[0mbatch\u001b[0m\u001b[0;34m,\u001b[0m \u001b[0mlogs\u001b[0m\u001b[0;34m=\u001b[0m\u001b[0;32mNone\u001b[0m\u001b[0;34m)\u001b[0m\u001b[0;34m:\u001b[0m\u001b[0;34m\u001b[0m\u001b[0;34m\u001b[0m\u001b[0m\n",
            "\u001b[0;32m/usr/local/lib/python3.6/dist-packages/tensorflow/python/keras/callbacks.py\u001b[0m in \u001b[0;36m_call_batch_hook\u001b[0;34m(self, mode, hook, batch, logs)\u001b[0m\n\u001b[1;32m    287\u001b[0m       \u001b[0mself\u001b[0m\u001b[0;34m.\u001b[0m\u001b[0m_call_batch_begin_hook\u001b[0m\u001b[0;34m(\u001b[0m\u001b[0mmode\u001b[0m\u001b[0;34m,\u001b[0m \u001b[0mbatch\u001b[0m\u001b[0;34m,\u001b[0m \u001b[0mlogs\u001b[0m\u001b[0;34m)\u001b[0m\u001b[0;34m\u001b[0m\u001b[0;34m\u001b[0m\u001b[0m\n\u001b[1;32m    288\u001b[0m     \u001b[0;32melif\u001b[0m \u001b[0mhook\u001b[0m \u001b[0;34m==\u001b[0m \u001b[0;34m'end'\u001b[0m\u001b[0;34m:\u001b[0m\u001b[0;34m\u001b[0m\u001b[0;34m\u001b[0m\u001b[0m\n\u001b[0;32m--> 289\u001b[0;31m       \u001b[0mself\u001b[0m\u001b[0;34m.\u001b[0m\u001b[0m_call_batch_end_hook\u001b[0m\u001b[0;34m(\u001b[0m\u001b[0mmode\u001b[0m\u001b[0;34m,\u001b[0m \u001b[0mbatch\u001b[0m\u001b[0;34m,\u001b[0m \u001b[0mlogs\u001b[0m\u001b[0;34m)\u001b[0m\u001b[0;34m\u001b[0m\u001b[0;34m\u001b[0m\u001b[0m\n\u001b[0m\u001b[1;32m    290\u001b[0m     \u001b[0;32melse\u001b[0m\u001b[0;34m:\u001b[0m\u001b[0;34m\u001b[0m\u001b[0;34m\u001b[0m\u001b[0m\n\u001b[1;32m    291\u001b[0m       \u001b[0;32mraise\u001b[0m \u001b[0mValueError\u001b[0m\u001b[0;34m(\u001b[0m\u001b[0;34m'Unrecognized hook: {}'\u001b[0m\u001b[0;34m.\u001b[0m\u001b[0mformat\u001b[0m\u001b[0;34m(\u001b[0m\u001b[0mhook\u001b[0m\u001b[0;34m)\u001b[0m\u001b[0;34m)\u001b[0m\u001b[0;34m\u001b[0m\u001b[0;34m\u001b[0m\u001b[0m\n",
            "\u001b[0;32m/usr/local/lib/python3.6/dist-packages/tensorflow/python/keras/callbacks.py\u001b[0m in \u001b[0;36m_call_batch_end_hook\u001b[0;34m(self, mode, batch, logs)\u001b[0m\n\u001b[1;32m    307\u001b[0m       \u001b[0mbatch_time\u001b[0m \u001b[0;34m=\u001b[0m \u001b[0mtime\u001b[0m\u001b[0;34m.\u001b[0m\u001b[0mtime\u001b[0m\u001b[0;34m(\u001b[0m\u001b[0;34m)\u001b[0m \u001b[0;34m-\u001b[0m \u001b[0mself\u001b[0m\u001b[0;34m.\u001b[0m\u001b[0m_batch_start_time\u001b[0m\u001b[0;34m\u001b[0m\u001b[0;34m\u001b[0m\u001b[0m\n\u001b[1;32m    308\u001b[0m \u001b[0;34m\u001b[0m\u001b[0m\n\u001b[0;32m--> 309\u001b[0;31m     \u001b[0mself\u001b[0m\u001b[0;34m.\u001b[0m\u001b[0m_call_batch_hook_helper\u001b[0m\u001b[0;34m(\u001b[0m\u001b[0mhook_name\u001b[0m\u001b[0;34m,\u001b[0m \u001b[0mbatch\u001b[0m\u001b[0;34m,\u001b[0m \u001b[0mlogs\u001b[0m\u001b[0;34m)\u001b[0m\u001b[0;34m\u001b[0m\u001b[0;34m\u001b[0m\u001b[0m\n\u001b[0m\u001b[1;32m    310\u001b[0m \u001b[0;34m\u001b[0m\u001b[0m\n\u001b[1;32m    311\u001b[0m     \u001b[0;32mif\u001b[0m \u001b[0mself\u001b[0m\u001b[0;34m.\u001b[0m\u001b[0m_check_timing\u001b[0m\u001b[0;34m:\u001b[0m\u001b[0;34m\u001b[0m\u001b[0;34m\u001b[0m\u001b[0m\n",
            "\u001b[0;32m/usr/local/lib/python3.6/dist-packages/tensorflow/python/keras/callbacks.py\u001b[0m in \u001b[0;36m_call_batch_hook_helper\u001b[0;34m(self, hook_name, batch, logs)\u001b[0m\n\u001b[1;32m    340\u001b[0m       \u001b[0mhook\u001b[0m \u001b[0;34m=\u001b[0m \u001b[0mgetattr\u001b[0m\u001b[0;34m(\u001b[0m\u001b[0mcallback\u001b[0m\u001b[0;34m,\u001b[0m \u001b[0mhook_name\u001b[0m\u001b[0;34m)\u001b[0m\u001b[0;34m\u001b[0m\u001b[0;34m\u001b[0m\u001b[0m\n\u001b[1;32m    341\u001b[0m       \u001b[0;32mif\u001b[0m \u001b[0mgetattr\u001b[0m\u001b[0;34m(\u001b[0m\u001b[0mcallback\u001b[0m\u001b[0;34m,\u001b[0m \u001b[0;34m'_supports_tf_logs'\u001b[0m\u001b[0;34m,\u001b[0m \u001b[0;32mFalse\u001b[0m\u001b[0;34m)\u001b[0m\u001b[0;34m:\u001b[0m\u001b[0;34m\u001b[0m\u001b[0;34m\u001b[0m\u001b[0m\n\u001b[0;32m--> 342\u001b[0;31m         \u001b[0mhook\u001b[0m\u001b[0;34m(\u001b[0m\u001b[0mbatch\u001b[0m\u001b[0;34m,\u001b[0m \u001b[0mlogs\u001b[0m\u001b[0;34m)\u001b[0m\u001b[0;34m\u001b[0m\u001b[0;34m\u001b[0m\u001b[0m\n\u001b[0m\u001b[1;32m    343\u001b[0m       \u001b[0;32melse\u001b[0m\u001b[0;34m:\u001b[0m\u001b[0;34m\u001b[0m\u001b[0;34m\u001b[0m\u001b[0m\n\u001b[1;32m    344\u001b[0m         \u001b[0;32mif\u001b[0m \u001b[0mnumpy_logs\u001b[0m \u001b[0;32mis\u001b[0m \u001b[0;32mNone\u001b[0m\u001b[0;34m:\u001b[0m  \u001b[0;31m# Only convert once.\u001b[0m\u001b[0;34m\u001b[0m\u001b[0;34m\u001b[0m\u001b[0m\n",
            "\u001b[0;32m/usr/local/lib/python3.6/dist-packages/tensorflow/python/keras/callbacks.py\u001b[0m in \u001b[0;36mon_train_batch_end\u001b[0;34m(self, batch, logs)\u001b[0m\n\u001b[1;32m    959\u001b[0m \u001b[0;34m\u001b[0m\u001b[0m\n\u001b[1;32m    960\u001b[0m   \u001b[0;32mdef\u001b[0m \u001b[0mon_train_batch_end\u001b[0m\u001b[0;34m(\u001b[0m\u001b[0mself\u001b[0m\u001b[0;34m,\u001b[0m \u001b[0mbatch\u001b[0m\u001b[0;34m,\u001b[0m \u001b[0mlogs\u001b[0m\u001b[0;34m=\u001b[0m\u001b[0;32mNone\u001b[0m\u001b[0;34m)\u001b[0m\u001b[0;34m:\u001b[0m\u001b[0;34m\u001b[0m\u001b[0;34m\u001b[0m\u001b[0m\n\u001b[0;32m--> 961\u001b[0;31m     \u001b[0mself\u001b[0m\u001b[0;34m.\u001b[0m\u001b[0m_batch_update_progbar\u001b[0m\u001b[0;34m(\u001b[0m\u001b[0mbatch\u001b[0m\u001b[0;34m,\u001b[0m \u001b[0mlogs\u001b[0m\u001b[0;34m)\u001b[0m\u001b[0;34m\u001b[0m\u001b[0;34m\u001b[0m\u001b[0m\n\u001b[0m\u001b[1;32m    962\u001b[0m \u001b[0;34m\u001b[0m\u001b[0m\n\u001b[1;32m    963\u001b[0m   \u001b[0;32mdef\u001b[0m \u001b[0mon_test_batch_end\u001b[0m\u001b[0;34m(\u001b[0m\u001b[0mself\u001b[0m\u001b[0;34m,\u001b[0m \u001b[0mbatch\u001b[0m\u001b[0;34m,\u001b[0m \u001b[0mlogs\u001b[0m\u001b[0;34m=\u001b[0m\u001b[0;32mNone\u001b[0m\u001b[0;34m)\u001b[0m\u001b[0;34m:\u001b[0m\u001b[0;34m\u001b[0m\u001b[0;34m\u001b[0m\u001b[0m\n",
            "\u001b[0;32m/usr/local/lib/python3.6/dist-packages/tensorflow/python/keras/callbacks.py\u001b[0m in \u001b[0;36m_batch_update_progbar\u001b[0;34m(self, batch, logs)\u001b[0m\n\u001b[1;32m   1014\u001b[0m     \u001b[0;32mif\u001b[0m \u001b[0mself\u001b[0m\u001b[0;34m.\u001b[0m\u001b[0mverbose\u001b[0m \u001b[0;34m==\u001b[0m \u001b[0;36m1\u001b[0m\u001b[0;34m:\u001b[0m\u001b[0;34m\u001b[0m\u001b[0;34m\u001b[0m\u001b[0m\n\u001b[1;32m   1015\u001b[0m       \u001b[0;31m# Only block async when verbose = 1.\u001b[0m\u001b[0;34m\u001b[0m\u001b[0;34m\u001b[0m\u001b[0;34m\u001b[0m\u001b[0m\n\u001b[0;32m-> 1016\u001b[0;31m       \u001b[0mlogs\u001b[0m \u001b[0;34m=\u001b[0m \u001b[0mtf_utils\u001b[0m\u001b[0;34m.\u001b[0m\u001b[0mto_numpy_or_python_type\u001b[0m\u001b[0;34m(\u001b[0m\u001b[0mlogs\u001b[0m\u001b[0;34m)\u001b[0m\u001b[0;34m\u001b[0m\u001b[0;34m\u001b[0m\u001b[0m\n\u001b[0m\u001b[1;32m   1017\u001b[0m       \u001b[0mself\u001b[0m\u001b[0;34m.\u001b[0m\u001b[0mprogbar\u001b[0m\u001b[0;34m.\u001b[0m\u001b[0mupdate\u001b[0m\u001b[0;34m(\u001b[0m\u001b[0mself\u001b[0m\u001b[0;34m.\u001b[0m\u001b[0mseen\u001b[0m\u001b[0;34m,\u001b[0m \u001b[0mlist\u001b[0m\u001b[0;34m(\u001b[0m\u001b[0mlogs\u001b[0m\u001b[0;34m.\u001b[0m\u001b[0mitems\u001b[0m\u001b[0;34m(\u001b[0m\u001b[0;34m)\u001b[0m\u001b[0;34m)\u001b[0m\u001b[0;34m,\u001b[0m \u001b[0mfinalize\u001b[0m\u001b[0;34m=\u001b[0m\u001b[0;32mFalse\u001b[0m\u001b[0;34m)\u001b[0m\u001b[0;34m\u001b[0m\u001b[0;34m\u001b[0m\u001b[0m\n\u001b[1;32m   1018\u001b[0m \u001b[0;34m\u001b[0m\u001b[0m\n",
            "\u001b[0;32m/usr/local/lib/python3.6/dist-packages/tensorflow/python/keras/utils/tf_utils.py\u001b[0m in \u001b[0;36mto_numpy_or_python_type\u001b[0;34m(tensors)\u001b[0m\n\u001b[1;32m    535\u001b[0m     \u001b[0;32mreturn\u001b[0m \u001b[0mt\u001b[0m  \u001b[0;31m# Don't turn ragged or sparse tensors to NumPy.\u001b[0m\u001b[0;34m\u001b[0m\u001b[0;34m\u001b[0m\u001b[0m\n\u001b[1;32m    536\u001b[0m \u001b[0;34m\u001b[0m\u001b[0m\n\u001b[0;32m--> 537\u001b[0;31m   \u001b[0;32mreturn\u001b[0m \u001b[0mnest\u001b[0m\u001b[0;34m.\u001b[0m\u001b[0mmap_structure\u001b[0m\u001b[0;34m(\u001b[0m\u001b[0m_to_single_numpy_or_python_type\u001b[0m\u001b[0;34m,\u001b[0m \u001b[0mtensors\u001b[0m\u001b[0;34m)\u001b[0m\u001b[0;34m\u001b[0m\u001b[0;34m\u001b[0m\u001b[0m\n\u001b[0m\u001b[1;32m    538\u001b[0m \u001b[0;34m\u001b[0m\u001b[0m\n\u001b[1;32m    539\u001b[0m \u001b[0;34m\u001b[0m\u001b[0m\n",
            "\u001b[0;32m/usr/local/lib/python3.6/dist-packages/tensorflow/python/util/nest.py\u001b[0m in \u001b[0;36mmap_structure\u001b[0;34m(func, *structure, **kwargs)\u001b[0m\n\u001b[1;32m    633\u001b[0m \u001b[0;34m\u001b[0m\u001b[0m\n\u001b[1;32m    634\u001b[0m   return pack_sequence_as(\n\u001b[0;32m--> 635\u001b[0;31m       \u001b[0mstructure\u001b[0m\u001b[0;34m[\u001b[0m\u001b[0;36m0\u001b[0m\u001b[0;34m]\u001b[0m\u001b[0;34m,\u001b[0m \u001b[0;34m[\u001b[0m\u001b[0mfunc\u001b[0m\u001b[0;34m(\u001b[0m\u001b[0;34m*\u001b[0m\u001b[0mx\u001b[0m\u001b[0;34m)\u001b[0m \u001b[0;32mfor\u001b[0m \u001b[0mx\u001b[0m \u001b[0;32min\u001b[0m \u001b[0mentries\u001b[0m\u001b[0;34m]\u001b[0m\u001b[0;34m,\u001b[0m\u001b[0;34m\u001b[0m\u001b[0;34m\u001b[0m\u001b[0m\n\u001b[0m\u001b[1;32m    636\u001b[0m       expand_composites=expand_composites)\n\u001b[1;32m    637\u001b[0m \u001b[0;34m\u001b[0m\u001b[0m\n",
            "\u001b[0;32m/usr/local/lib/python3.6/dist-packages/tensorflow/python/util/nest.py\u001b[0m in \u001b[0;36m<listcomp>\u001b[0;34m(.0)\u001b[0m\n\u001b[1;32m    633\u001b[0m \u001b[0;34m\u001b[0m\u001b[0m\n\u001b[1;32m    634\u001b[0m   return pack_sequence_as(\n\u001b[0;32m--> 635\u001b[0;31m       \u001b[0mstructure\u001b[0m\u001b[0;34m[\u001b[0m\u001b[0;36m0\u001b[0m\u001b[0;34m]\u001b[0m\u001b[0;34m,\u001b[0m \u001b[0;34m[\u001b[0m\u001b[0mfunc\u001b[0m\u001b[0;34m(\u001b[0m\u001b[0;34m*\u001b[0m\u001b[0mx\u001b[0m\u001b[0;34m)\u001b[0m \u001b[0;32mfor\u001b[0m \u001b[0mx\u001b[0m \u001b[0;32min\u001b[0m \u001b[0mentries\u001b[0m\u001b[0;34m]\u001b[0m\u001b[0;34m,\u001b[0m\u001b[0;34m\u001b[0m\u001b[0;34m\u001b[0m\u001b[0m\n\u001b[0m\u001b[1;32m    636\u001b[0m       expand_composites=expand_composites)\n\u001b[1;32m    637\u001b[0m \u001b[0;34m\u001b[0m\u001b[0m\n",
            "\u001b[0;32m/usr/local/lib/python3.6/dist-packages/tensorflow/python/keras/utils/tf_utils.py\u001b[0m in \u001b[0;36m_to_single_numpy_or_python_type\u001b[0;34m(t)\u001b[0m\n\u001b[1;32m    531\u001b[0m   \u001b[0;32mdef\u001b[0m \u001b[0m_to_single_numpy_or_python_type\u001b[0m\u001b[0;34m(\u001b[0m\u001b[0mt\u001b[0m\u001b[0;34m)\u001b[0m\u001b[0;34m:\u001b[0m\u001b[0;34m\u001b[0m\u001b[0;34m\u001b[0m\u001b[0m\n\u001b[1;32m    532\u001b[0m     \u001b[0;32mif\u001b[0m \u001b[0misinstance\u001b[0m\u001b[0;34m(\u001b[0m\u001b[0mt\u001b[0m\u001b[0;34m,\u001b[0m \u001b[0mops\u001b[0m\u001b[0;34m.\u001b[0m\u001b[0mTensor\u001b[0m\u001b[0;34m)\u001b[0m\u001b[0;34m:\u001b[0m\u001b[0;34m\u001b[0m\u001b[0;34m\u001b[0m\u001b[0m\n\u001b[0;32m--> 533\u001b[0;31m       \u001b[0mx\u001b[0m \u001b[0;34m=\u001b[0m \u001b[0mt\u001b[0m\u001b[0;34m.\u001b[0m\u001b[0mnumpy\u001b[0m\u001b[0;34m(\u001b[0m\u001b[0;34m)\u001b[0m\u001b[0;34m\u001b[0m\u001b[0;34m\u001b[0m\u001b[0m\n\u001b[0m\u001b[1;32m    534\u001b[0m       \u001b[0;32mreturn\u001b[0m \u001b[0mx\u001b[0m\u001b[0;34m.\u001b[0m\u001b[0mitem\u001b[0m\u001b[0;34m(\u001b[0m\u001b[0;34m)\u001b[0m \u001b[0;32mif\u001b[0m \u001b[0mnp\u001b[0m\u001b[0;34m.\u001b[0m\u001b[0mndim\u001b[0m\u001b[0;34m(\u001b[0m\u001b[0mx\u001b[0m\u001b[0;34m)\u001b[0m \u001b[0;34m==\u001b[0m \u001b[0;36m0\u001b[0m \u001b[0;32melse\u001b[0m \u001b[0mx\u001b[0m\u001b[0;34m\u001b[0m\u001b[0;34m\u001b[0m\u001b[0m\n\u001b[1;32m    535\u001b[0m     \u001b[0;32mreturn\u001b[0m \u001b[0mt\u001b[0m  \u001b[0;31m# Don't turn ragged or sparse tensors to NumPy.\u001b[0m\u001b[0;34m\u001b[0m\u001b[0;34m\u001b[0m\u001b[0m\n",
            "\u001b[0;32m/usr/local/lib/python3.6/dist-packages/tensorflow/python/framework/ops.py\u001b[0m in \u001b[0;36mnumpy\u001b[0;34m(self)\u001b[0m\n\u001b[1;32m   1061\u001b[0m     \"\"\"\n\u001b[1;32m   1062\u001b[0m     \u001b[0;31m# TODO(slebedev): Consider avoiding a copy for non-CPU or remote tensors.\u001b[0m\u001b[0;34m\u001b[0m\u001b[0;34m\u001b[0m\u001b[0;34m\u001b[0m\u001b[0m\n\u001b[0;32m-> 1063\u001b[0;31m     \u001b[0mmaybe_arr\u001b[0m \u001b[0;34m=\u001b[0m \u001b[0mself\u001b[0m\u001b[0;34m.\u001b[0m\u001b[0m_numpy\u001b[0m\u001b[0;34m(\u001b[0m\u001b[0;34m)\u001b[0m  \u001b[0;31m# pylint: disable=protected-access\u001b[0m\u001b[0;34m\u001b[0m\u001b[0;34m\u001b[0m\u001b[0m\n\u001b[0m\u001b[1;32m   1064\u001b[0m     \u001b[0;32mreturn\u001b[0m \u001b[0mmaybe_arr\u001b[0m\u001b[0;34m.\u001b[0m\u001b[0mcopy\u001b[0m\u001b[0;34m(\u001b[0m\u001b[0;34m)\u001b[0m \u001b[0;32mif\u001b[0m \u001b[0misinstance\u001b[0m\u001b[0;34m(\u001b[0m\u001b[0mmaybe_arr\u001b[0m\u001b[0;34m,\u001b[0m \u001b[0mnp\u001b[0m\u001b[0;34m.\u001b[0m\u001b[0mndarray\u001b[0m\u001b[0;34m)\u001b[0m \u001b[0;32melse\u001b[0m \u001b[0mmaybe_arr\u001b[0m\u001b[0;34m\u001b[0m\u001b[0;34m\u001b[0m\u001b[0m\n\u001b[1;32m   1065\u001b[0m \u001b[0;34m\u001b[0m\u001b[0m\n",
            "\u001b[0;32m/usr/local/lib/python3.6/dist-packages/tensorflow/python/framework/ops.py\u001b[0m in \u001b[0;36m_numpy\u001b[0;34m(self)\u001b[0m\n\u001b[1;32m   1027\u001b[0m   \u001b[0;32mdef\u001b[0m \u001b[0m_numpy\u001b[0m\u001b[0;34m(\u001b[0m\u001b[0mself\u001b[0m\u001b[0;34m)\u001b[0m\u001b[0;34m:\u001b[0m\u001b[0;34m\u001b[0m\u001b[0;34m\u001b[0m\u001b[0m\n\u001b[1;32m   1028\u001b[0m     \u001b[0;32mtry\u001b[0m\u001b[0;34m:\u001b[0m\u001b[0;34m\u001b[0m\u001b[0;34m\u001b[0m\u001b[0m\n\u001b[0;32m-> 1029\u001b[0;31m       \u001b[0;32mreturn\u001b[0m \u001b[0mself\u001b[0m\u001b[0;34m.\u001b[0m\u001b[0m_numpy_internal\u001b[0m\u001b[0;34m(\u001b[0m\u001b[0;34m)\u001b[0m\u001b[0;34m\u001b[0m\u001b[0;34m\u001b[0m\u001b[0m\n\u001b[0m\u001b[1;32m   1030\u001b[0m     \u001b[0;32mexcept\u001b[0m \u001b[0mcore\u001b[0m\u001b[0;34m.\u001b[0m\u001b[0m_NotOkStatusException\u001b[0m \u001b[0;32mas\u001b[0m \u001b[0me\u001b[0m\u001b[0;34m:\u001b[0m  \u001b[0;31m# pylint: disable=protected-access\u001b[0m\u001b[0;34m\u001b[0m\u001b[0;34m\u001b[0m\u001b[0m\n\u001b[1;32m   1031\u001b[0m       \u001b[0msix\u001b[0m\u001b[0;34m.\u001b[0m\u001b[0mraise_from\u001b[0m\u001b[0;34m(\u001b[0m\u001b[0mcore\u001b[0m\u001b[0;34m.\u001b[0m\u001b[0m_status_to_exception\u001b[0m\u001b[0;34m(\u001b[0m\u001b[0me\u001b[0m\u001b[0;34m.\u001b[0m\u001b[0mcode\u001b[0m\u001b[0;34m,\u001b[0m \u001b[0me\u001b[0m\u001b[0;34m.\u001b[0m\u001b[0mmessage\u001b[0m\u001b[0;34m)\u001b[0m\u001b[0;34m,\u001b[0m \u001b[0;32mNone\u001b[0m\u001b[0;34m)\u001b[0m  \u001b[0;31m# pylint: disable=protected-access\u001b[0m\u001b[0;34m\u001b[0m\u001b[0;34m\u001b[0m\u001b[0m\n",
            "\u001b[0;31mKeyboardInterrupt\u001b[0m: "
          ]
        }
      ]
    },
    {
      "cell_type": "code",
      "metadata": {
        "id": "3EyW52WGKTRD",
        "colab_type": "code",
        "colab": {}
      },
      "source": [
        "from keras.layers import Input, Dense, Conv2D, MaxPooling2D, UpSampling2D\n",
        "from keras.models import Model\n",
        "from keras import backend as K\n",
        "\n",
        "input_img = Input(shape=(28, 28, 1))  # adapt this if using `channels_first` image data format\n",
        "\n",
        "x = Conv2D(16, (3, 3), activation='relu', padding='same')(input_img)\n",
        "x = MaxPooling2D((2, 2), padding='same')(x)\n",
        "x = Conv2D(8, (3, 3), activation='relu', padding='same')(x)\n",
        "x = MaxPooling2D((2, 2), padding='same')(x)\n",
        "x = Conv2D(8, (3, 3), activation='relu', padding='same')(x)\n",
        "encoded = MaxPooling2D((2, 2), padding='same')(x)\n",
        "\n",
        "# at this point the representation is (4, 4, 8) i.e. 128-dimensional\n",
        "\n",
        "x = Conv2D(8, (3, 3), activation='relu', padding='same')(encoded)\n",
        "x = UpSampling2D((2, 2))(x)\n",
        "x = Conv2D(8, (3, 3), activation='relu', padding='same')(x)\n",
        "x = UpSampling2D((2, 2))(x)\n",
        "x = Conv2D(16, (3, 3), activation='relu')(x)\n",
        "x = UpSampling2D((2, 2))(x)\n",
        "decoded = Conv2D(1, (3, 3), activation='sigmoid', padding='same')(x)\n",
        "\n",
        "autoencoder = Model(input_img, decoded)\n",
        "autoencoder.compile(optimizer='adam', loss='binary_crossentropy')"
      ],
      "execution_count": 29,
      "outputs": []
    },
    {
      "cell_type": "code",
      "metadata": {
        "id": "D9jXaUAPKa7E",
        "colab_type": "code",
        "colab": {}
      },
      "source": [
        "from keras.datasets import mnist\n",
        "import numpy as np\n",
        "\n",
        "(x_train, _), (x_test, _) = mnist.load_data()\n",
        "\n",
        "x_train = x_train.astype('float32') / 255.\n",
        "x_test = x_test.astype('float32') / 255.\n",
        "x_train = np.reshape(x_train, (len(x_train), 28, 28, 1))  # adapt this if using `channels_first` image data format\n",
        "x_test = np.reshape(x_test, (len(x_test), 28, 28, 1))  # adapt this if using `channels_first` image data format"
      ],
      "execution_count": 30,
      "outputs": []
    },
    {
      "cell_type": "code",
      "metadata": {
        "id": "3GoLQAgsKhG8",
        "colab_type": "code",
        "colab": {
          "base_uri": "https://localhost:8080/",
          "height": 586
        },
        "outputId": "abfdb980-4e73-42f2-870d-0c0aaf03bd84"
      },
      "source": [
        "from keras.callbacks import TensorBoard\n",
        "\n",
        "autoencoder.fit(x_train, x_train,\n",
        "                epochs=50,\n",
        "                batch_size=128,\n",
        "                shuffle=True,\n",
        "                validation_data=(x_test, x_test),\n",
        "                callbacks=[TensorBoard(log_dir='/tmp/autoencoder')])"
      ],
      "execution_count": 31,
      "outputs": [
        {
          "output_type": "stream",
          "text": [
            "Epoch 1/50\n",
            "  1/469 [..............................] - ETA: 0s - loss: 0.6802WARNING:tensorflow:From /usr/local/lib/python3.6/dist-packages/tensorflow/python/ops/summary_ops_v2.py:1277: stop (from tensorflow.python.eager.profiler) is deprecated and will be removed after 2020-07-01.\n",
            "Instructions for updating:\n",
            "use `tf.profiler.experimental.stop` instead.\n",
            "  2/469 [..............................] - ETA: 15s - loss: 0.6765WARNING:tensorflow:Callbacks method `on_train_batch_end` is slow compared to the batch time (batch time: 0.0130s vs `on_train_batch_end` time: 0.0520s). Check your callbacks.\n",
            "469/469 [==============================] - 4s 8ms/step - loss: 0.2076 - val_loss: 0.1483\n",
            "Epoch 2/50\n",
            "469/469 [==============================] - 3s 7ms/step - loss: 0.1350 - val_loss: 0.1245\n",
            "Epoch 3/50\n",
            "469/469 [==============================] - 3s 7ms/step - loss: 0.1210 - val_loss: 0.1162\n",
            "Epoch 4/50\n",
            "342/469 [====================>.........] - ETA: 0s - loss: 0.1154"
          ],
          "name": "stdout"
        },
        {
          "output_type": "error",
          "ename": "KeyboardInterrupt",
          "evalue": "ignored",
          "traceback": [
            "\u001b[0;31m---------------------------------------------------------------------------\u001b[0m",
            "\u001b[0;31mKeyboardInterrupt\u001b[0m                         Traceback (most recent call last)",
            "\u001b[0;32m<ipython-input-31-3b6b3754a0be>\u001b[0m in \u001b[0;36m<module>\u001b[0;34m()\u001b[0m\n\u001b[1;32m      6\u001b[0m                 \u001b[0mshuffle\u001b[0m\u001b[0;34m=\u001b[0m\u001b[0;32mTrue\u001b[0m\u001b[0;34m,\u001b[0m\u001b[0;34m\u001b[0m\u001b[0;34m\u001b[0m\u001b[0m\n\u001b[1;32m      7\u001b[0m                 \u001b[0mvalidation_data\u001b[0m\u001b[0;34m=\u001b[0m\u001b[0;34m(\u001b[0m\u001b[0mx_test\u001b[0m\u001b[0;34m,\u001b[0m \u001b[0mx_test\u001b[0m\u001b[0;34m)\u001b[0m\u001b[0;34m,\u001b[0m\u001b[0;34m\u001b[0m\u001b[0;34m\u001b[0m\u001b[0m\n\u001b[0;32m----> 8\u001b[0;31m                 callbacks=[TensorBoard(log_dir='/tmp/autoencoder')])\n\u001b[0m",
            "\u001b[0;32m/usr/local/lib/python3.6/dist-packages/tensorflow/python/keras/engine/training.py\u001b[0m in \u001b[0;36m_method_wrapper\u001b[0;34m(self, *args, **kwargs)\u001b[0m\n\u001b[1;32m    106\u001b[0m   \u001b[0;32mdef\u001b[0m \u001b[0m_method_wrapper\u001b[0m\u001b[0;34m(\u001b[0m\u001b[0mself\u001b[0m\u001b[0;34m,\u001b[0m \u001b[0;34m*\u001b[0m\u001b[0margs\u001b[0m\u001b[0;34m,\u001b[0m \u001b[0;34m**\u001b[0m\u001b[0mkwargs\u001b[0m\u001b[0;34m)\u001b[0m\u001b[0;34m:\u001b[0m\u001b[0;34m\u001b[0m\u001b[0;34m\u001b[0m\u001b[0m\n\u001b[1;32m    107\u001b[0m     \u001b[0;32mif\u001b[0m \u001b[0;32mnot\u001b[0m \u001b[0mself\u001b[0m\u001b[0;34m.\u001b[0m\u001b[0m_in_multi_worker_mode\u001b[0m\u001b[0;34m(\u001b[0m\u001b[0;34m)\u001b[0m\u001b[0;34m:\u001b[0m  \u001b[0;31m# pylint: disable=protected-access\u001b[0m\u001b[0;34m\u001b[0m\u001b[0;34m\u001b[0m\u001b[0m\n\u001b[0;32m--> 108\u001b[0;31m       \u001b[0;32mreturn\u001b[0m \u001b[0mmethod\u001b[0m\u001b[0;34m(\u001b[0m\u001b[0mself\u001b[0m\u001b[0;34m,\u001b[0m \u001b[0;34m*\u001b[0m\u001b[0margs\u001b[0m\u001b[0;34m,\u001b[0m \u001b[0;34m**\u001b[0m\u001b[0mkwargs\u001b[0m\u001b[0;34m)\u001b[0m\u001b[0;34m\u001b[0m\u001b[0;34m\u001b[0m\u001b[0m\n\u001b[0m\u001b[1;32m    109\u001b[0m \u001b[0;34m\u001b[0m\u001b[0m\n\u001b[1;32m    110\u001b[0m     \u001b[0;31m# Running inside `run_distribute_coordinator` already.\u001b[0m\u001b[0;34m\u001b[0m\u001b[0;34m\u001b[0m\u001b[0;34m\u001b[0m\u001b[0m\n",
            "\u001b[0;32m/usr/local/lib/python3.6/dist-packages/tensorflow/python/keras/engine/training.py\u001b[0m in \u001b[0;36mfit\u001b[0;34m(self, x, y, batch_size, epochs, verbose, callbacks, validation_split, validation_data, shuffle, class_weight, sample_weight, initial_epoch, steps_per_epoch, validation_steps, validation_batch_size, validation_freq, max_queue_size, workers, use_multiprocessing)\u001b[0m\n\u001b[1;32m   1096\u001b[0m                 batch_size=batch_size):\n\u001b[1;32m   1097\u001b[0m               \u001b[0mcallbacks\u001b[0m\u001b[0;34m.\u001b[0m\u001b[0mon_train_batch_begin\u001b[0m\u001b[0;34m(\u001b[0m\u001b[0mstep\u001b[0m\u001b[0;34m)\u001b[0m\u001b[0;34m\u001b[0m\u001b[0;34m\u001b[0m\u001b[0m\n\u001b[0;32m-> 1098\u001b[0;31m               \u001b[0mtmp_logs\u001b[0m \u001b[0;34m=\u001b[0m \u001b[0mtrain_function\u001b[0m\u001b[0;34m(\u001b[0m\u001b[0miterator\u001b[0m\u001b[0;34m)\u001b[0m\u001b[0;34m\u001b[0m\u001b[0;34m\u001b[0m\u001b[0m\n\u001b[0m\u001b[1;32m   1099\u001b[0m               \u001b[0;32mif\u001b[0m \u001b[0mdata_handler\u001b[0m\u001b[0;34m.\u001b[0m\u001b[0mshould_sync\u001b[0m\u001b[0;34m:\u001b[0m\u001b[0;34m\u001b[0m\u001b[0;34m\u001b[0m\u001b[0m\n\u001b[1;32m   1100\u001b[0m                 \u001b[0mcontext\u001b[0m\u001b[0;34m.\u001b[0m\u001b[0masync_wait\u001b[0m\u001b[0;34m(\u001b[0m\u001b[0;34m)\u001b[0m\u001b[0;34m\u001b[0m\u001b[0;34m\u001b[0m\u001b[0m\n",
            "\u001b[0;32m/usr/local/lib/python3.6/dist-packages/tensorflow/python/eager/def_function.py\u001b[0m in \u001b[0;36m__call__\u001b[0;34m(self, *args, **kwds)\u001b[0m\n\u001b[1;32m    778\u001b[0m       \u001b[0;32melse\u001b[0m\u001b[0;34m:\u001b[0m\u001b[0;34m\u001b[0m\u001b[0;34m\u001b[0m\u001b[0m\n\u001b[1;32m    779\u001b[0m         \u001b[0mcompiler\u001b[0m \u001b[0;34m=\u001b[0m \u001b[0;34m\"nonXla\"\u001b[0m\u001b[0;34m\u001b[0m\u001b[0;34m\u001b[0m\u001b[0m\n\u001b[0;32m--> 780\u001b[0;31m         \u001b[0mresult\u001b[0m \u001b[0;34m=\u001b[0m \u001b[0mself\u001b[0m\u001b[0;34m.\u001b[0m\u001b[0m_call\u001b[0m\u001b[0;34m(\u001b[0m\u001b[0;34m*\u001b[0m\u001b[0margs\u001b[0m\u001b[0;34m,\u001b[0m \u001b[0;34m**\u001b[0m\u001b[0mkwds\u001b[0m\u001b[0;34m)\u001b[0m\u001b[0;34m\u001b[0m\u001b[0;34m\u001b[0m\u001b[0m\n\u001b[0m\u001b[1;32m    781\u001b[0m \u001b[0;34m\u001b[0m\u001b[0m\n\u001b[1;32m    782\u001b[0m       \u001b[0mnew_tracing_count\u001b[0m \u001b[0;34m=\u001b[0m \u001b[0mself\u001b[0m\u001b[0;34m.\u001b[0m\u001b[0m_get_tracing_count\u001b[0m\u001b[0;34m(\u001b[0m\u001b[0;34m)\u001b[0m\u001b[0;34m\u001b[0m\u001b[0;34m\u001b[0m\u001b[0m\n",
            "\u001b[0;32m/usr/local/lib/python3.6/dist-packages/tensorflow/python/eager/def_function.py\u001b[0m in \u001b[0;36m_call\u001b[0;34m(self, *args, **kwds)\u001b[0m\n\u001b[1;32m    805\u001b[0m       \u001b[0;31m# In this case we have created variables on the first call, so we run the\u001b[0m\u001b[0;34m\u001b[0m\u001b[0;34m\u001b[0m\u001b[0;34m\u001b[0m\u001b[0m\n\u001b[1;32m    806\u001b[0m       \u001b[0;31m# defunned version which is guaranteed to never create variables.\u001b[0m\u001b[0;34m\u001b[0m\u001b[0;34m\u001b[0m\u001b[0;34m\u001b[0m\u001b[0m\n\u001b[0;32m--> 807\u001b[0;31m       \u001b[0;32mreturn\u001b[0m \u001b[0mself\u001b[0m\u001b[0;34m.\u001b[0m\u001b[0m_stateless_fn\u001b[0m\u001b[0;34m(\u001b[0m\u001b[0;34m*\u001b[0m\u001b[0margs\u001b[0m\u001b[0;34m,\u001b[0m \u001b[0;34m**\u001b[0m\u001b[0mkwds\u001b[0m\u001b[0;34m)\u001b[0m  \u001b[0;31m# pylint: disable=not-callable\u001b[0m\u001b[0;34m\u001b[0m\u001b[0;34m\u001b[0m\u001b[0m\n\u001b[0m\u001b[1;32m    808\u001b[0m     \u001b[0;32melif\u001b[0m \u001b[0mself\u001b[0m\u001b[0;34m.\u001b[0m\u001b[0m_stateful_fn\u001b[0m \u001b[0;32mis\u001b[0m \u001b[0;32mnot\u001b[0m \u001b[0;32mNone\u001b[0m\u001b[0;34m:\u001b[0m\u001b[0;34m\u001b[0m\u001b[0;34m\u001b[0m\u001b[0m\n\u001b[1;32m    809\u001b[0m       \u001b[0;31m# Release the lock early so that multiple threads can perform the call\u001b[0m\u001b[0;34m\u001b[0m\u001b[0;34m\u001b[0m\u001b[0;34m\u001b[0m\u001b[0m\n",
            "\u001b[0;32m/usr/local/lib/python3.6/dist-packages/tensorflow/python/eager/function.py\u001b[0m in \u001b[0;36m__call__\u001b[0;34m(self, *args, **kwargs)\u001b[0m\n\u001b[1;32m   2827\u001b[0m     \u001b[0;32mwith\u001b[0m \u001b[0mself\u001b[0m\u001b[0;34m.\u001b[0m\u001b[0m_lock\u001b[0m\u001b[0;34m:\u001b[0m\u001b[0;34m\u001b[0m\u001b[0;34m\u001b[0m\u001b[0m\n\u001b[1;32m   2828\u001b[0m       \u001b[0mgraph_function\u001b[0m\u001b[0;34m,\u001b[0m \u001b[0margs\u001b[0m\u001b[0;34m,\u001b[0m \u001b[0mkwargs\u001b[0m \u001b[0;34m=\u001b[0m \u001b[0mself\u001b[0m\u001b[0;34m.\u001b[0m\u001b[0m_maybe_define_function\u001b[0m\u001b[0;34m(\u001b[0m\u001b[0margs\u001b[0m\u001b[0;34m,\u001b[0m \u001b[0mkwargs\u001b[0m\u001b[0;34m)\u001b[0m\u001b[0;34m\u001b[0m\u001b[0;34m\u001b[0m\u001b[0m\n\u001b[0;32m-> 2829\u001b[0;31m     \u001b[0;32mreturn\u001b[0m \u001b[0mgraph_function\u001b[0m\u001b[0;34m.\u001b[0m\u001b[0m_filtered_call\u001b[0m\u001b[0;34m(\u001b[0m\u001b[0margs\u001b[0m\u001b[0;34m,\u001b[0m \u001b[0mkwargs\u001b[0m\u001b[0;34m)\u001b[0m  \u001b[0;31m# pylint: disable=protected-access\u001b[0m\u001b[0;34m\u001b[0m\u001b[0;34m\u001b[0m\u001b[0m\n\u001b[0m\u001b[1;32m   2830\u001b[0m \u001b[0;34m\u001b[0m\u001b[0m\n\u001b[1;32m   2831\u001b[0m   \u001b[0;34m@\u001b[0m\u001b[0mproperty\u001b[0m\u001b[0;34m\u001b[0m\u001b[0;34m\u001b[0m\u001b[0m\n",
            "\u001b[0;32m/usr/local/lib/python3.6/dist-packages/tensorflow/python/eager/function.py\u001b[0m in \u001b[0;36m_filtered_call\u001b[0;34m(self, args, kwargs, cancellation_manager)\u001b[0m\n\u001b[1;32m   1846\u001b[0m                            resource_variable_ops.BaseResourceVariable))],\n\u001b[1;32m   1847\u001b[0m         \u001b[0mcaptured_inputs\u001b[0m\u001b[0;34m=\u001b[0m\u001b[0mself\u001b[0m\u001b[0;34m.\u001b[0m\u001b[0mcaptured_inputs\u001b[0m\u001b[0;34m,\u001b[0m\u001b[0;34m\u001b[0m\u001b[0;34m\u001b[0m\u001b[0m\n\u001b[0;32m-> 1848\u001b[0;31m         cancellation_manager=cancellation_manager)\n\u001b[0m\u001b[1;32m   1849\u001b[0m \u001b[0;34m\u001b[0m\u001b[0m\n\u001b[1;32m   1850\u001b[0m   \u001b[0;32mdef\u001b[0m \u001b[0m_call_flat\u001b[0m\u001b[0;34m(\u001b[0m\u001b[0mself\u001b[0m\u001b[0;34m,\u001b[0m \u001b[0margs\u001b[0m\u001b[0;34m,\u001b[0m \u001b[0mcaptured_inputs\u001b[0m\u001b[0;34m,\u001b[0m \u001b[0mcancellation_manager\u001b[0m\u001b[0;34m=\u001b[0m\u001b[0;32mNone\u001b[0m\u001b[0;34m)\u001b[0m\u001b[0;34m:\u001b[0m\u001b[0;34m\u001b[0m\u001b[0;34m\u001b[0m\u001b[0m\n",
            "\u001b[0;32m/usr/local/lib/python3.6/dist-packages/tensorflow/python/eager/function.py\u001b[0m in \u001b[0;36m_call_flat\u001b[0;34m(self, args, captured_inputs, cancellation_manager)\u001b[0m\n\u001b[1;32m   1922\u001b[0m       \u001b[0;31m# No tape is watching; skip to running the function.\u001b[0m\u001b[0;34m\u001b[0m\u001b[0;34m\u001b[0m\u001b[0;34m\u001b[0m\u001b[0m\n\u001b[1;32m   1923\u001b[0m       return self._build_call_outputs(self._inference_function.call(\n\u001b[0;32m-> 1924\u001b[0;31m           ctx, args, cancellation_manager=cancellation_manager))\n\u001b[0m\u001b[1;32m   1925\u001b[0m     forward_backward = self._select_forward_and_backward_functions(\n\u001b[1;32m   1926\u001b[0m         \u001b[0margs\u001b[0m\u001b[0;34m,\u001b[0m\u001b[0;34m\u001b[0m\u001b[0;34m\u001b[0m\u001b[0m\n",
            "\u001b[0;32m/usr/local/lib/python3.6/dist-packages/tensorflow/python/eager/function.py\u001b[0m in \u001b[0;36mcall\u001b[0;34m(self, ctx, args, cancellation_manager)\u001b[0m\n\u001b[1;32m    548\u001b[0m               \u001b[0minputs\u001b[0m\u001b[0;34m=\u001b[0m\u001b[0margs\u001b[0m\u001b[0;34m,\u001b[0m\u001b[0;34m\u001b[0m\u001b[0;34m\u001b[0m\u001b[0m\n\u001b[1;32m    549\u001b[0m               \u001b[0mattrs\u001b[0m\u001b[0;34m=\u001b[0m\u001b[0mattrs\u001b[0m\u001b[0;34m,\u001b[0m\u001b[0;34m\u001b[0m\u001b[0;34m\u001b[0m\u001b[0m\n\u001b[0;32m--> 550\u001b[0;31m               ctx=ctx)\n\u001b[0m\u001b[1;32m    551\u001b[0m         \u001b[0;32melse\u001b[0m\u001b[0;34m:\u001b[0m\u001b[0;34m\u001b[0m\u001b[0;34m\u001b[0m\u001b[0m\n\u001b[1;32m    552\u001b[0m           outputs = execute.execute_with_cancellation(\n",
            "\u001b[0;32m/usr/local/lib/python3.6/dist-packages/tensorflow/python/eager/execute.py\u001b[0m in \u001b[0;36mquick_execute\u001b[0;34m(op_name, num_outputs, inputs, attrs, ctx, name)\u001b[0m\n\u001b[1;32m     58\u001b[0m     \u001b[0mctx\u001b[0m\u001b[0;34m.\u001b[0m\u001b[0mensure_initialized\u001b[0m\u001b[0;34m(\u001b[0m\u001b[0;34m)\u001b[0m\u001b[0;34m\u001b[0m\u001b[0;34m\u001b[0m\u001b[0m\n\u001b[1;32m     59\u001b[0m     tensors = pywrap_tfe.TFE_Py_Execute(ctx._handle, device_name, op_name,\n\u001b[0;32m---> 60\u001b[0;31m                                         inputs, attrs, num_outputs)\n\u001b[0m\u001b[1;32m     61\u001b[0m   \u001b[0;32mexcept\u001b[0m \u001b[0mcore\u001b[0m\u001b[0;34m.\u001b[0m\u001b[0m_NotOkStatusException\u001b[0m \u001b[0;32mas\u001b[0m \u001b[0me\u001b[0m\u001b[0;34m:\u001b[0m\u001b[0;34m\u001b[0m\u001b[0;34m\u001b[0m\u001b[0m\n\u001b[1;32m     62\u001b[0m     \u001b[0;32mif\u001b[0m \u001b[0mname\u001b[0m \u001b[0;32mis\u001b[0m \u001b[0;32mnot\u001b[0m \u001b[0;32mNone\u001b[0m\u001b[0;34m:\u001b[0m\u001b[0;34m\u001b[0m\u001b[0;34m\u001b[0m\u001b[0m\n",
            "\u001b[0;31mKeyboardInterrupt\u001b[0m: "
          ]
        }
      ]
    },
    {
      "cell_type": "code",
      "metadata": {
        "id": "6EOjp9enKkgq",
        "colab_type": "code",
        "colab": {
          "base_uri": "https://localhost:8080/",
          "height": 248
        },
        "outputId": "8a7311d3-296c-4c57-fa07-98af59391bcc"
      },
      "source": [
        "decoded_imgs = autoencoder.predict(x_test)\n",
        "\n",
        "n = 10  # how many digits we will display\n",
        "plt.figure(figsize=(20, 4))\n",
        "for i in range(n):\n",
        "    # display original\n",
        "    ax = plt.subplot(2, n, i + 1)\n",
        "    plt.imshow(x_test[i].reshape(28, 28))\n",
        "    plt.gray()\n",
        "    ax.get_xaxis().set_visible(False)\n",
        "    ax.get_yaxis().set_visible(False)\n",
        "\n",
        "    # display reconstruction\n",
        "    ax = plt.subplot(2, n, i + 1 + n)\n",
        "    plt.imshow(decoded_imgs[i].reshape(28, 28))\n",
        "    plt.gray()\n",
        "    ax.get_xaxis().set_visible(False)\n",
        "    ax.get_yaxis().set_visible(False)\n",
        "plt.show()"
      ],
      "execution_count": 35,
      "outputs": [
        {
          "output_type": "display_data",
          "data": {
            "image/png": "[encoded data removed]",
            "text/plain": [
              "<Figure size 1440x288 with 20 Axes>"
            ]
          },
          "metadata": {
            "tags": [],
            "needs_background": "light"
          }
        }
      ]
    },
    {
      "cell_type": "code",
      "metadata": {
        "id": "l0KIQip5K1Yv",
        "colab_type": "code",
        "colab": {}
      },
      "source": [
        ""
      ],
      "execution_count": null,
      "outputs": []
    }
  ]
}