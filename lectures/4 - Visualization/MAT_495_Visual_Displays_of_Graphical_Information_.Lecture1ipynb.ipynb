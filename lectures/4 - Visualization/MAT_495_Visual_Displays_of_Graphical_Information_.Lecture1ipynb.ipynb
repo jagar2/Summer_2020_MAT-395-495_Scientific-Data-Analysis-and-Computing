{
  "nbformat": 4,
  "nbformat_minor": 0,
  "metadata": {
    "colab": {
      "name": "Pre_Lecture Visual_Displays_of_Graphical_Information.ipynb",
      "provenance": []
    },
    "kernelspec": {
      "name": "python3",
      "display_name": "Python 3"
    }
  },
  "cells": [
    {
      "cell_type": "markdown",
      "metadata": {
        "id": "YIDLfoAGFDdK",
        "colab_type": "text"
      },
      "source": [
        "#Prior to lecture discussion\n",
        "\n",
        "[PyQTGraph](http://www.pyqtgraph.org/)\n",
        "\n",
        "\n",
        "[PyQT5](https://www.riverbankcomputing.com/static/Docs/PyQt5/introduction.html#pyqt5-components)\n",
        "\n",
        "[TKinker](https://docs.python.org/3/library/tkinter.html)\n",
        "\n",
        "[TK](https://docs.python.org/3/library/tk.html)"
      ]
    },
    {
      "cell_type": "code",
      "metadata": {
        "id": "OuMX474vZy_f",
        "colab_type": "code",
        "colab": {}
      },
      "source": [
        "# Libraries\n",
        "from IPython.display import IFrame\n",
        "import numpy as np\n",
        "import matplotlib.pyplot as plt\n",
        "from scipy.stats import kde"
      ],
      "execution_count": 1,
      "outputs": []
    },
    {
      "cell_type": "markdown",
      "metadata": {
        "id": "NuB4p6sdZy_l",
        "colab_type": "text"
      },
      "source": [
        "# Data Graphics"
      ]
    },
    {
      "cell_type": "markdown",
      "metadata": {
        "id": "9S-4DSBwkEjr",
        "colab_type": "text"
      },
      "source": [
        "* Combined use of points, lines, a coordinate system, numbers, symbols, words, shading and color to display information\n",
        "* Surprisingly recent invention\n",
        "    - 1600's that statistical graphics length and area to show, quantity, time-series, scatter plots and multivariate displays were used"
      ]
    },
    {
      "cell_type": "markdown",
      "metadata": {
        "id": "hLh1PuC3Zy_n",
        "colab_type": "text"
      },
      "source": [
        "# What does an Excellent Graphic Do?"
      ]
    },
    {
      "cell_type": "markdown",
      "metadata": {
        "id": "k81oXx3ZkhAg",
        "colab_type": "text"
      },
      "source": [
        "* Show the data\n",
        "* Allow the observer to extract information without thinking about the methodology or design $\\rightarrow$ good design is unnoticeable\n",
        "* Presents a large amount of data in a small space\n",
        "* Encourages the eye to make compare important pieces of information\n",
        "* Reveal data at several levels of detail\n",
        "* Does not distort the data\n",
        "* Reinforces information in the text\n",
        "# Graphics can be more informative than statistics!"
      ]
    },
    {
      "cell_type": "markdown",
      "metadata": {
        "id": "JKPqe53JlIPm",
        "colab_type": "text"
      },
      "source": [
        "## Example of how graphics can be used\n",
        "Famous dot of Dr. John Snow who showed deaths from Cholera in central London for September 1854\n",
        "![Google's logo](https://github.com/jagar2/Summer_2020_MAT-395-495_Scientific-Data-Analysis-and-Computing/blob/master/lectures/4%20-%20Visualization/images/snow.png?raw=true)\n",
        "\n",
        "### What does this graphic tell you?"
      ]
    },
    {
      "cell_type": "markdown",
      "metadata": {
        "id": "2vHduyV5Zy_s",
        "colab_type": "text"
      },
      "source": [
        "## Adding a Spatial Dimension to a Time Series\n",
        "* More information can be displayed by combining multiple data forms\n",
        "* You should design figures so information can be extracted without reading\n",
        "<img src=\"https://github.com/jagar2/Summer_2020_MAT-395-495_Scientific-Data-Analysis-and-Computing/blob/master/lectures/4%20-%20Visualization/images/poster_OrigMinard.gif?raw=true\" width=\"1200\">"
      ]
    },
    {
      "cell_type": "markdown",
      "metadata": {
        "id": "mbNHBY2qmEc7",
        "colab_type": "text"
      },
      "source": [
        "Minard’s graphic is quite clever because of its ability to combine all of dimensions: loss of life at a time and location, temperature, geography, historical context, into one single graphic"
      ]
    },
    {
      "cell_type": "markdown",
      "metadata": {
        "id": "mV0GU8QZmSdJ",
        "colab_type": "text"
      },
      "source": [
        "* Shows when Napoleon's army split by branching the graph\n",
        "* Adds thin lines to represent when the army had to cross rivers\n",
        "* Shows events with labels, changes in line width, easy for the eye to see where important events occur\n",
        "* Correlates secondary information (temperature in a graphical way) $\\rightarrow$ makes it so covariances can be identified"
      ]
    },
    {
      "cell_type": "markdown",
      "metadata": {
        "id": "NpGNwBqGZy_t",
        "colab_type": "text"
      },
      "source": [
        "# Principles of Graphical Excellence"
      ]
    },
    {
      "cell_type": "markdown",
      "metadata": {
        "id": "oD8OK8tRmnTq",
        "colab_type": "text"
      },
      "source": [
        "* Presentation of data needs to consider *substance, statistics, and design*\n",
        "* Complex ideas should be communicated with *clarity, precision, and efficiency*\n",
        "* Gives the viewer the *greatest amount of information, in the shortest amount of time, using the least amount of ink*"
      ]
    },
    {
      "cell_type": "markdown",
      "metadata": {
        "id": "7g82Rw-2DTyX",
        "colab_type": "text"
      },
      "source": [
        "# Graphing in Python"
      ]
    },
    {
      "cell_type": "markdown",
      "metadata": {
        "id": "LQaPTfD_nIyJ",
        "colab_type": "text"
      },
      "source": [
        "*   [Matplotlib](https://matplotlib.org/) - Bread and butter plotting in Python. [Gallery](https://matplotlib.org/gallery/index.html)\n",
        "*   [Seaborn](https://seaborn.pydata.org/) - High-level visualization for statistical graphs. [Gallery](https://seaborn.pydata.org/examples/index.html)\n",
        "* [Bokeh](https://docs.bokeh.org/en/latest/) - Interactive visualization platform for streaming data and web deployment. [Gallery](https://docs.bokeh.org/en/latest/docs/gallery.html)\n",
        "* [Plotly](https://plotly.com/python/) - Web-based interactive graphs similar to Bokeh but more interoperable. [Gallery](https://plotly.com/python/)"
      ]
    },
    {
      "cell_type": "markdown",
      "metadata": {
        "id": "adZTWKtaCvYI",
        "colab_type": "text"
      },
      "source": [
        "[Grouped Violin Plot](https://seaborn.pydata.org/examples/grouped_violinplots.html)"
      ]
    },
    {
      "cell_type": "code",
      "metadata": {
        "id": "9lacJLdQoS6h",
        "colab_type": "code",
        "colab": {
          "base_uri": "https://localhost:8080/",
          "height": 320
        },
        "outputId": "a865c947-b490-4ce1-bd62-23dfec3c6274"
      },
      "source": [
        "import seaborn as sns\n",
        "sns.set(style=\"whitegrid\", palette=\"pastel\", color_codes=True)\n",
        "\n",
        "# Load the example tips dataset\n",
        "tips = sns.load_dataset(\"tips\")\n",
        "\n",
        "# Draw a nested violinplot and split the violins for easier comparison\n",
        "sns.violinplot(x=\"day\", y=\"total_bill\", hue=\"smoker\",\n",
        "               split=True, inner=\"quart\",\n",
        "               palette={\"Yes\": \"y\", \"No\": \"b\"},\n",
        "               data=tips)\n",
        "sns.despine(left=True)"
      ],
      "execution_count": 2,
      "outputs": [
        {
          "output_type": "stream",
          "text": [
            "/usr/local/lib/python3.6/dist-packages/statsmodels/tools/_testing.py:19: FutureWarning: pandas.util.testing is deprecated. Use the functions in the public API at pandas.testing instead.\n",
            "  import pandas.util.testing as tm\n"
          ],
          "name": "stderr"
        },
        {
          "output_type": "display_data",
          "data": {
            "image/png": "[encoded data removed]",
            "text/plain": [
              "<Figure size 432x288 with 1 Axes>"
            ]
          },
          "metadata": {
            "tags": []
          }
        }
      ]
    },
    {
      "cell_type": "markdown",
      "metadata": {
        "id": "pgJJLX1SG2qx",
        "colab_type": "text"
      },
      "source": [
        "# Matplotlib"
      ]
    },
    {
      "cell_type": "code",
      "metadata": {
        "id": "Au65e7nMqt_N",
        "colab_type": "code",
        "colab": {}
      },
      "source": [
        "import matplotlib.pyplot as plt\n",
        "import numpy as np"
      ],
      "execution_count": 3,
      "outputs": []
    },
    {
      "cell_type": "markdown",
      "metadata": {
        "id": "tNtTgo1brI9n",
        "colab_type": "text"
      },
      "source": [
        "[matplotlib.pyplot](https://matplotlib.org/api/_as_gen/matplotlib.pyplot.html#module-matplotlib.pyplot) is a collection of command style functions that make matplotlib work like MATLAB. \n",
        "\n",
        "* Each pyplot function makes some change to a figure: e.g., creates a figure, creates a plotting area in a figure, plots some lines in a plotting area, decorates the plot with labels, etc.\n",
        "\n",
        "* In matplotlib.pyplot various states are preserved across function calls, so that it keeps track of things like the current figure and plotting area, and the plotting functions are directed to the current axes.\n"
      ]
    },
    {
      "cell_type": "markdown",
      "metadata": {
        "id": "bif0N6SSIAv9",
        "colab_type": "text"
      },
      "source": [
        "## My First Plot"
      ]
    },
    {
      "cell_type": "markdown",
      "metadata": {
        "id": "HrgZjNsUDBT3",
        "colab_type": "text"
      },
      "source": [
        "[List of plotting commands](https://matplotlib.org/api/_as_gen/matplotlib.pyplot.plot.html#matplotlib.pyplot.plot)\n",
        "\n",
        "[ylabel commands](https://matplotlib.org/3.2.2/api/_as_gen/matplotlib.pyplot.ylabel.html)"
      ]
    },
    {
      "cell_type": "code",
      "metadata": {
        "id": "s3z73qG8rc4i",
        "colab_type": "code",
        "colab": {
          "base_uri": "https://localhost:8080/",
          "height": 285
        },
        "outputId": "d7582a5e-6036-4ee7-d515-e67ad4638525"
      },
      "source": [
        "fig = plt.figure()\n",
        "plt.plot(np.linspace(1,4,4),np.linspace(1,4,4))\n",
        "plt.ylabel('some numbers', fontsize=20, fontstyle='italic')\n",
        "fig.set"
      ],
      "execution_count": 4,
      "outputs": [
        {
          "output_type": "execute_result",
          "data": {
            "text/plain": [
              "<bound method Artist.set of <Figure size 432x288 with 1 Axes>>"
            ]
          },
          "metadata": {
            "tags": []
          },
          "execution_count": 4
        },
        {
          "output_type": "display_data",
          "data": {
            "image/png": "[encoded data removed]",
            "text/plain": [
              "<Figure size 432x288 with 1 Axes>"
            ]
          },
          "metadata": {
            "tags": []
          }
        }
      ]
    },
    {
      "cell_type": "markdown",
      "metadata": {
        "id": "LTvkwdgQIEHU",
        "colab_type": "text"
      },
      "source": [
        "## Formating Plots"
      ]
    },
    {
      "cell_type": "code",
      "metadata": {
        "id": "TuKjsLISuac1",
        "colab_type": "code",
        "colab": {
          "base_uri": "https://localhost:8080/",
          "height": 283
        },
        "outputId": "463b453d-4999-41b7-f65b-475edb8f941e"
      },
      "source": [
        "plt.plot([1, 2, 3, 4], [1, 4, 9, 16], 'ro')"
      ],
      "execution_count": null,
      "outputs": [
        {
          "output_type": "execute_result",
          "data": {
            "text/plain": [
              "[<matplotlib.lines.Line2D at 0x7fbf71ecd710>]"
            ]
          },
          "metadata": {
            "tags": []
          },
          "execution_count": 10
        },
        {
          "output_type": "display_data",
          "data": {
            "image/png": "[encoded data removed]",
            "text/plain": [
              "<Figure size 432x288 with 1 Axes>"
            ]
          },
          "metadata": {
            "tags": [],
            "needs_background": "light"
          }
        }
      ]
    },
    {
      "cell_type": "markdown",
      "metadata": {
        "id": "ehIP_rJ0umQ0",
        "colab_type": "text"
      },
      "source": [
        "See the [plot()](https://matplotlib.org/api/_as_gen/matplotlib.pyplot.plot.html#matplotlib.pyplot.plot) documentation for a complete list of line styles and format strings. The [axis()](https://matplotlib.org/api/_as_gen/matplotlib.pyplot.axis.html#matplotlib.pyplot.axis) command in the example above takes a list of [xmin, xmax, ymin, ymax] and specifies the viewport of the axes."
      ]
    },
    {
      "cell_type": "markdown",
      "metadata": {
        "id": "C8NMKQiIJiCu",
        "colab_type": "text"
      },
      "source": [
        "## Plotting with keyword strings"
      ]
    },
    {
      "cell_type": "code",
      "metadata": {
        "id": "Ruq3DnBUu-96",
        "colab_type": "code",
        "colab": {
          "base_uri": "https://localhost:8080/",
          "height": 319
        },
        "outputId": "33a9acdb-61bb-4730-c99e-8dfd8c3804b3"
      },
      "source": [
        "t = np.arange(0.,5.,0.2)\n",
        "\n",
        "plt.plot(t,t,'r--',t,t**2,'bs',t,t**3,'g^')"
      ],
      "execution_count": null,
      "outputs": [
        {
          "output_type": "execute_result",
          "data": {
            "text/plain": [
              "[<matplotlib.lines.Line2D at 0x7fbf71c379e8>,\n",
              " <matplotlib.lines.Line2D at 0x7fbf71c37ba8>,\n",
              " <matplotlib.lines.Line2D at 0x7fbf71c37b70>]"
            ]
          },
          "metadata": {
            "tags": []
          },
          "execution_count": 11
        },
        {
          "output_type": "display_data",
          "data": {
            "image/png": "[encoded data removed]",
            "text/plain": [
              "<Figure size 432x288 with 1 Axes>"
            ]
          },
          "metadata": {
            "tags": [],
            "needs_background": "light"
          }
        }
      ]
    },
    {
      "cell_type": "code",
      "metadata": {
        "id": "2XH1YQKPvfe6",
        "colab_type": "code",
        "colab": {
          "base_uri": "https://localhost:8080/",
          "height": 283
        },
        "outputId": "cb32d6ed-6243-4fcc-898d-1a412a0a4137"
      },
      "source": [
        "data = {'a': np.arange(50),\n",
        "        'c': np.random.randint(0, 50, 50),\n",
        "        'd': np.random.randn(50)}\n",
        "\n",
        "data['b'] = data['a'] + 10*np.random.randn(50)\n",
        "data['d'] = np.abs(data['d']) * 100\n",
        "\n",
        "plt.scatter('a', 'b', c='c', s='d', alpha=.5, data=data)"
      ],
      "execution_count": null,
      "outputs": [
        {
          "output_type": "execute_result",
          "data": {
            "text/plain": [
              "<matplotlib.collections.PathCollection at 0x7fbf7158c160>"
            ]
          },
          "metadata": {
            "tags": []
          },
          "execution_count": 23
        },
        {
          "output_type": "display_data",
          "data": {
            "image/png": "[encoded data removed]",
            "text/plain": [
              "<Figure size 432x288 with 1 Axes>"
            ]
          },
          "metadata": {
            "tags": [],
            "needs_background": "light"
          }
        }
      ]
    },
    {
      "cell_type": "code",
      "metadata": {
        "id": "L94qjvU5vjzL",
        "colab_type": "code",
        "colab": {
          "base_uri": "https://localhost:8080/",
          "height": 593
        },
        "outputId": "17273ea8-a443-412c-c644-319ad57dc107"
      },
      "source": [
        "data"
      ],
      "execution_count": null,
      "outputs": [
        {
          "output_type": "execute_result",
          "data": {
            "text/plain": [
              "{'a': array([ 0,  1,  2,  3,  4,  5,  6,  7,  8,  9, 10, 11, 12, 13, 14, 15, 16,\n",
              "        17, 18, 19, 20, 21, 22, 23, 24, 25, 26, 27, 28, 29, 30, 31, 32, 33,\n",
              "        34, 35, 36, 37, 38, 39, 40, 41, 42, 43, 44, 45, 46, 47, 48, 49]),\n",
              " 'c': array([17, 33, 13, 39, 29, 33, 22, 43, 26,  3, 11, 45,  6, 10,  7, 36, 47,\n",
              "        28, 23, 14, 47, 35, 32, 40, 14, 19,  7,  0, 18, 46, 24, 18, 34, 16,\n",
              "        34, 30, 20, 14, 30, 42, 33, 39, 17, 30, 40,  9, 33,  1, 23, 36]),\n",
              " 'd': array([-9.06666664e-01,  4.38639931e-01, -1.17613859e+00,  1.64745657e-01,\n",
              "         6.67432998e-01,  1.03013222e+00, -4.80139642e-01,  2.62068172e-01,\n",
              "        -1.35780448e+00,  2.52404756e-01, -1.20371665e+00, -5.18377949e-01,\n",
              "        -2.40050885e+00,  4.59861322e-01, -2.33077108e+00,  1.12790734e+00,\n",
              "        -1.04231008e+00,  2.09636805e-01, -1.93598441e+00, -5.49089553e-01,\n",
              "         1.14743076e+00,  1.22803578e+00,  5.57071580e-01, -2.13582897e+00,\n",
              "         1.44006586e+00,  1.88821162e+00, -2.70133449e-01, -2.95586870e-01,\n",
              "        -1.66886128e-02, -2.08398796e-01,  1.14731584e+00, -2.07868199e-01,\n",
              "         3.67131639e-01, -1.09469997e+00,  6.59438027e-02,  1.75484962e-01,\n",
              "         1.58643547e-03, -1.05498349e+00, -9.92418439e-01, -4.51781116e-01,\n",
              "        -1.79350419e-01, -6.59932647e-02,  7.17893930e-01, -4.01817976e-01,\n",
              "         1.18912512e-01,  1.12169048e+00, -9.74950049e-01, -4.13877101e-01,\n",
              "        -2.81331710e-01,  2.01409801e+00]),\n",
              " 'b': array([-10.315735  ,   0.95046225, -13.40722242,  -4.76210317,\n",
              "         10.2387242 ,   6.18769932,  15.75136706,  15.51243932,\n",
              "         13.25153446,  10.7005981 ,  34.38385635, -11.42218767,\n",
              "         10.55676266,   8.52589634,   7.42977473,  -0.99758164,\n",
              "          8.33730694,  11.75749184,  25.85400895,  20.86136588,\n",
              "         24.1279065 ,  26.16112508,   9.95700579,  30.23637166,\n",
              "         18.96151643,  31.70721412,  26.91170847,  10.8079703 ,\n",
              "         21.13595017,  33.4196366 ,  18.78771147,  29.04142602,\n",
              "         39.27381932,  15.07419342,  20.79401223,  30.59562816,\n",
              "         37.94320112,  34.54157836,  37.81162164,  59.02988137,\n",
              "         29.12569229,  59.94525533,  47.54440656,  28.41442714,\n",
              "         42.71561621,  53.53135841,  49.00645264,  66.23820981,\n",
              "         33.21862136,  44.42101903])}"
            ]
          },
          "metadata": {
            "tags": []
          },
          "execution_count": 17
        }
      ]
    },
    {
      "cell_type": "markdown",
      "metadata": {
        "id": "8dfG2fnkJ13k",
        "colab_type": "text"
      },
      "source": [
        "## Plotting with categorical variables\n"
      ]
    },
    {
      "cell_type": "code",
      "metadata": {
        "id": "PVGvs05Iw602",
        "colab_type": "code",
        "colab": {
          "base_uri": "https://localhost:8080/",
          "height": 247
        },
        "outputId": "b4ae700f-1df1-406e-8f23-abdcc0f25447"
      },
      "source": [
        "names = ['group_a', 'group_b', 'group_c']\n",
        "values = [1, 10, 100]\n",
        "title = ['bar','scatter', 'line']\n",
        "\n",
        "\n",
        "plt.figure(figsize=(9,3))\n",
        "\n",
        "plt.subplot(131)\n",
        "\n",
        "plt.title(title[0])\n",
        "plt.bar(names, values)\n",
        "\n",
        "plt.subplot(132)\n",
        "plt.title(title[1])\n",
        "plt.scatter(names, values, color='r')\n",
        "\n",
        "plt.subplot(133)\n",
        "plt.title(title[2])\n",
        "plt.plot(names, values)\n",
        "plt.suptitle('Categorical Plotting', y=1.05)\n",
        "\n",
        "plt.tight_layout()"
      ],
      "execution_count": null,
      "outputs": [
        {
          "output_type": "display_data",
          "data": {
            "image/png": "[encoded data removed]",
            "text/plain": [
              "<Figure size 648x216 with 3 Axes>"
            ]
          },
          "metadata": {
            "tags": [],
            "needs_background": "light"
          }
        }
      ]
    },
    {
      "cell_type": "markdown",
      "metadata": {
        "id": "BkCZM70EKGcv",
        "colab_type": "text"
      },
      "source": [
        "## Controlling Line Properties"
      ]
    },
    {
      "cell_type": "code",
      "metadata": {
        "id": "ipGZM4kX0Bb4",
        "colab_type": "code",
        "colab": {
          "base_uri": "https://localhost:8080/",
          "height": 297
        },
        "outputId": "ea74b3fc-c383-450a-cca5-7e536d0f265f"
      },
      "source": [
        "x = np.linspace(0,100,1000)\n",
        "y = np.sin(x)\n",
        "\n",
        "plt.plot(x, y, linewidth=7)\n",
        "plt.xlabel('x')\n",
        "plt.ylabel('y')"
      ],
      "execution_count": null,
      "outputs": [
        {
          "output_type": "execute_result",
          "data": {
            "text/plain": [
              "Text(0, 0.5, 'y')"
            ]
          },
          "metadata": {
            "tags": []
          },
          "execution_count": 44
        },
        {
          "output_type": "display_data",
          "data": {
            "image/png": "[encoded data removed]",
            "text/plain": [
              "<Figure size 432x288 with 1 Axes>"
            ]
          },
          "metadata": {
            "tags": [],
            "needs_background": "light"
          }
        }
      ]
    },
    {
      "cell_type": "markdown",
      "metadata": {
        "id": "XXwIlyCUMknl",
        "colab_type": "text"
      },
      "source": [
        "## Working with Multiple Figures"
      ]
    },
    {
      "cell_type": "code",
      "metadata": {
        "id": "0nWz2gHT0ZfY",
        "colab_type": "code",
        "colab": {
          "base_uri": "https://localhost:8080/",
          "height": 265
        },
        "outputId": "7a1f6c7e-b71b-47e0-ecfa-bab5862096b2"
      },
      "source": [
        "def f(t):\n",
        "  return np.exp(-t) * np.cos(2*np.pi*t)\n",
        "\n",
        "t1 = np.arange(0., 5. , 0.1)\n",
        "t2 = np.arange(0. , 5., 0.02)\n",
        "\n",
        "plt.figure()\n",
        "plt.subplot(211)\n",
        "plt.plot(t1, f(t1), 'bo', t2, f(t2), 'k')\n",
        "\n",
        "plt.subplot(212)\n",
        "plt.plot(t2, np.cos(2*np.pi*t2), 'r--')\n",
        "plt.show()"
      ],
      "execution_count": null,
      "outputs": [
        {
          "output_type": "display_data",
          "data": {
            "image/png": "[encoded data removed]",
            "text/plain": [
              "<Figure size 432x288 with 2 Axes>"
            ]
          },
          "metadata": {
            "tags": [],
            "needs_background": "light"
          }
        }
      ]
    },
    {
      "cell_type": "markdown",
      "metadata": {
        "id": "YhdCg2X8GjWn",
        "colab_type": "text"
      },
      "source": [
        "[Gridspec Example](https://matplotlib.org/3.2.2/gallery/subplots_axes_and_figures/gridspec_multicolumn.html#sphx-glr-gallery-subplots-axes-and-figures-gridspec-multicolumn-py)"
      ]
    },
    {
      "cell_type": "code",
      "metadata": {
        "id": "atzfqGMK1iZl",
        "colab_type": "code",
        "colab": {
          "base_uri": "https://localhost:8080/",
          "height": 313
        },
        "outputId": "c31228b8-c400-48aa-cc0b-731ee9ca5d75"
      },
      "source": [
        "import matplotlib.pyplot as plt\n",
        "from matplotlib.gridspec import GridSpec\n",
        "\n",
        "def format_axes(fig):\n",
        "    for i, ax in enumerate(fig.axes):\n",
        "        ax.text(0.5, 0.5, \"ax%d\" % (i+1), va=\"center\", ha=\"center\")\n",
        "        ax.tick_params(labelbottom=False, labelleft=False)\n",
        "\n",
        "fig = plt.figure(constrained_layout=True)\n",
        "gs = GridSpec(3, 3, figure=fig)\n",
        "ax1 = fig.add_subplot(gs[0, :])\n",
        "ax2 = fig.add_subplot(gs[1, :-1])\n",
        "ax3 = fig.add_subplot(gs[1:, -1])\n",
        "ax4 = fig.add_subplot(gs[-1, 0])\n",
        "ax5 = fig.add_subplot(gs[-1, -2])\n",
        "\n",
        "format_axes(fig)"
      ],
      "execution_count": null,
      "outputs": [
        {
          "output_type": "display_data",
          "data": {
            "image/png": "[encoded data removed]",
            "text/plain": [
              "<Figure size 432x288 with 5 Axes>"
            ]
          },
          "metadata": {
            "tags": []
          }
        }
      ]
    },
    {
      "cell_type": "code",
      "metadata": {
        "id": "TCEFg9qc1UtP",
        "colab_type": "code",
        "colab": {}
      },
      "source": [
        "import matplotlib.pyplot as plt\n",
        "from matplotlib.gridspec import GridSpec\n",
        "\n",
        "\n",
        "def format_axes(fig):\n",
        "    for i, ax in enumerate(fig.axes):\n",
        "        ax.text(0.5, 0.5, \"ax%d\" % (i+1), va=\"center\", ha=\"center\")\n",
        "        ax.tick_params(labelbottom=False, labelleft=False)\n",
        "\n",
        "fig = plt.figure(constrained_layout=True)\n",
        "\n",
        "gs = GridSpec(3, 3, figure=fig)\n",
        "ax1 = fig.add_subplot(gs[0, :])\n",
        "# identical to ax1 = plt.subplot(gs.new_subplotspec((0, 0), colspan=3))\n",
        "ax2 = fig.add_subplot(gs[1, :-1])\n",
        "ax3 = fig.add_subplot(gs[1:, -1])\n",
        "ax4 = fig.add_subplot(gs[-1, 0])\n",
        "ax5 = fig.add_subplot(gs[-1, -2])\n",
        "\n",
        "fig.suptitle(\"GridSpec\")\n",
        "format_axes(fig)\n",
        "\n",
        "plt.show()"
      ],
      "execution_count": null,
      "outputs": []
    },
    {
      "cell_type": "markdown",
      "metadata": {
        "id": "mOggfLuBNStu",
        "colab_type": "text"
      },
      "source": [
        "## Working with Text"
      ]
    },
    {
      "cell_type": "markdown",
      "metadata": {
        "id": "3clBd7_tNvsb",
        "colab_type": "text"
      },
      "source": [
        "## Non-linear Axes"
      ]
    },
    {
      "cell_type": "markdown",
      "metadata": {
        "id": "0Vp8fMNCOM6z",
        "colab_type": "text"
      },
      "source": [
        "## Exporting and Printing"
      ]
    },
    {
      "cell_type": "markdown",
      "metadata": {
        "id": "Ljc8zyHSQMgq",
        "colab_type": "text"
      },
      "source": [
        "## Parts of a Figure"
      ]
    },
    {
      "cell_type": "markdown",
      "metadata": {
        "id": "dceKCiozZy_v",
        "colab_type": "text"
      },
      "source": [
        "# Graphical Integrity"
      ]
    },
    {
      "cell_type": "markdown",
      "metadata": {
        "id": "ekSHL7utDQme",
        "colab_type": "text"
      },
      "source": [
        "\n",
        "Graphics are just like words, they can be used to deceive"
      ]
    },
    {
      "cell_type": "markdown",
      "metadata": {
        "id": "y6FeB_hYZy_x",
        "colab_type": "text"
      },
      "source": [
        "# Color scales"
      ]
    },
    {
      "cell_type": "markdown",
      "metadata": {
        "id": "RLFasixSZy_4",
        "colab_type": "text"
      },
      "source": [
        "# Choosing Colors for your Figures"
      ]
    },
    {
      "cell_type": "markdown",
      "metadata": {
        "id": "QI_epRAMZy_7",
        "colab_type": "text"
      },
      "source": [
        "# Types of Graphs"
      ]
    },
    {
      "cell_type": "markdown",
      "metadata": {
        "id": "Lpn7IGo_ZzAK",
        "colab_type": "text"
      },
      "source": [
        "# Guiding Principals for Graphing"
      ]
    },
    {
      "cell_type": "markdown",
      "metadata": {
        "id": "_HxTsiU-ZzAf",
        "colab_type": "text"
      },
      "source": [
        "# WTF Graphs"
      ]
    },
    {
      "cell_type": "markdown",
      "metadata": {
        "id": "yfttWnj-TT0L",
        "colab_type": "text"
      },
      "source": [
        "# Assignment: \n",
        "\n",
        "Take a graph that you have previously used for a publication or assignment and recreate it based on concepts discussed in class. Please provide the original image and the updated image exported from python."
      ]
    },
    {
      "cell_type": "code",
      "metadata": {
        "id": "JxbUaTa5TqLo",
        "colab_type": "code",
        "colab": {}
      },
      "source": [
        ""
      ],
      "execution_count": null,
      "outputs": []
    },
    {
      "cell_type": "code",
      "metadata": {
        "id": "DrFMRWtGkCMX",
        "colab_type": "code",
        "colab": {}
      },
      "source": [
        ""
      ],
      "execution_count": null,
      "outputs": []
    },
    {
      "cell_type": "code",
      "metadata": {
        "id": "fHJ7OuYfkDPK",
        "colab_type": "code",
        "colab": {}
      },
      "source": [
        ""
      ],
      "execution_count": null,
      "outputs": []
    }
  ]
}