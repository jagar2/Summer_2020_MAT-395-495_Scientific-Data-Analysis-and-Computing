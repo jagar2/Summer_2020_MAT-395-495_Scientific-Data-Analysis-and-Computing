{
  "nbformat": 4,
  "nbformat_minor": 0,
  "metadata": {
    "colab": {
      "name": "Sympy",
      "provenance": [],
      "collapsed_sections": []
    },
    "kernelspec": {
      "name": "python3",
      "display_name": "Python 3"
    }
  },
  "cells": [
    {
      "cell_type": "markdown",
      "metadata": {
        "id": "HZBcbB3Ghs_v",
        "colab_type": "text"
      },
      "source": [
        "# Sympy\n",
        "\n",
        "## What is Symbolic Computation? \n",
        "\n",
        "Symbolic computation deals with the computation of mathematical objects\n",
        "symbolically.  This means that the mathematical objects are represented\n",
        "exactly, not approximately, and mathematical expressions with unevaluated\n",
        "variables are left in symbolic form.\n",
        "\n",
        "Let’s take an example. Say we wanted to use the built-in Python functions to\n",
        "compute square roots. We might do something like this"
      ]
    },
    {
      "cell_type": "code",
      "metadata": {
        "id": "RpOwdxRxkyUl",
        "colab_type": "code",
        "colab": {
          "base_uri": "https://localhost:8080/",
          "height": 34
        },
        "outputId": "6d9d0656-e37f-4a66-8d2b-d7486e06a917"
      },
      "source": [
        "import math\n",
        "math.sqrt(9)"
      ],
      "execution_count": null,
      "outputs": [
        {
          "output_type": "execute_result",
          "data": {
            "text/plain": [
              "3.0"
            ]
          },
          "metadata": {
            "tags": []
          },
          "execution_count": 1
        }
      ]
    },
    {
      "cell_type": "markdown",
      "metadata": {
        "id": "fZiMFRbnlWjj",
        "colab_type": "text"
      },
      "source": [
        "9 is a perfect square, so we got the exact answer, 3. But suppose we computed\n",
        "the square root of a number that isn’t a perfect square"
      ]
    },
    {
      "cell_type": "code",
      "metadata": {
        "id": "jpQSbvxTlcGm",
        "colab_type": "code",
        "colab": {
          "base_uri": "https://localhost:8080/",
          "height": 34
        },
        "outputId": "213c8d9f-3f2f-4a54-91c2-711703a6cb29"
      },
      "source": [
        "math.sqrt(8)"
      ],
      "execution_count": null,
      "outputs": [
        {
          "output_type": "execute_result",
          "data": {
            "text/plain": [
              "2.8284271247461903"
            ]
          },
          "metadata": {
            "tags": []
          },
          "execution_count": 2
        }
      ]
    },
    {
      "cell_type": "markdown",
      "metadata": {
        "id": "lGjEQRGFlfpy",
        "colab_type": "text"
      },
      "source": [
        "Here we got an approximate result. 2.82842712475 is not the exact square root\n",
        "of 8 (indeed, the actual square root of 8 cannot be represented by a finite\n",
        "decimal, since it is an irrational number).  If all we cared about was the\n",
        "decimal form of the square root of 8, we would be done.\n",
        "\n",
        "But suppose we want to go further. Recall that $\\sqrt{8} = \\sqrt{4\\cdot 2} =\n",
        "2\\sqrt{2}$.  We would have a hard time deducing this from the above result.\n",
        "This is where symbolic computation comes in.  With a symbolic computation\n",
        "system like SymPy, square roots of numbers that are not perfect squares are\n",
        "left unevaluated by default"
      ]
    },
    {
      "cell_type": "code",
      "metadata": {
        "id": "bcDJE2QGlrZh",
        "colab_type": "code",
        "colab": {
          "base_uri": "https://localhost:8080/",
          "height": 34
        },
        "outputId": "843a52a6-cb60-4473-f59d-69518d9eb410"
      },
      "source": [
        "import sympy\n",
        "sympy.sqrt(8)"
      ],
      "execution_count": null,
      "outputs": [
        {
          "output_type": "execute_result",
          "data": {
            "text/plain": [
              "2*sqrt(2)"
            ]
          },
          "metadata": {
            "tags": []
          },
          "execution_count": 3
        }
      ]
    },
    {
      "cell_type": "markdown",
      "metadata": {
        "id": "w5zNnCK0l4ru",
        "colab_type": "text"
      },
      "source": [
        "Furthermore—and this is where we start to see the real power of symbolic\n",
        "computation—symbolic results can be symbolically simplified"
      ]
    },
    {
      "cell_type": "markdown",
      "metadata": {
        "id": "mcBNryVkl8wh",
        "colab_type": "text"
      },
      "source": [
        "## A more interesting example\n",
        "\n",
        "The above example starts to show how we can manipulate irrational numbers\n",
        "exactly using SymPy.  But it is much more powerful than that.  Symbolic\n",
        "computation systems (which by the way, are also often called computer algebra\n",
        "systems, or just CASs) such as SymPy are capable of computing symbolic\n",
        "expressions with variables.\n",
        "\n",
        "Let us define a symbolic expression, representing the mathematical expression"
      ]
    },
    {
      "cell_type": "code",
      "metadata": {
        "id": "ARYARNonmLOt",
        "colab_type": "code",
        "colab": {
          "base_uri": "https://localhost:8080/",
          "height": 34
        },
        "outputId": "a389e82f-fa03-4cdb-95c7-8f760fad9ea4"
      },
      "source": [
        "from sympy import symbols\n",
        "x, y = symbols('x y')\n",
        "expr = x + 2*y\n",
        "expr"
      ],
      "execution_count": null,
      "outputs": [
        {
          "output_type": "execute_result",
          "data": {
            "text/plain": [
              "x + 2*y"
            ]
          },
          "metadata": {
            "tags": []
          },
          "execution_count": 4
        }
      ]
    },
    {
      "cell_type": "markdown",
      "metadata": {
        "id": "3Tx8zAmmmR6_",
        "colab_type": "text"
      },
      "source": [
        "Note that we wrote `x + 2*y` just as we would if `x` and `y` were\n",
        "ordinary Python variables. But in this case, instead of evaluating to\n",
        "something, the expression remains as just `x + 2*y`.  Now let us play around\n",
        "with it:"
      ]
    },
    {
      "cell_type": "code",
      "metadata": {
        "id": "5d6MRbhjnJeg",
        "colab_type": "code",
        "colab": {
          "base_uri": "https://localhost:8080/",
          "height": 34
        },
        "outputId": "bf3cdd76-b82a-4731-c180-db708bad463c"
      },
      "source": [
        "expr + 1"
      ],
      "execution_count": null,
      "outputs": [
        {
          "output_type": "execute_result",
          "data": {
            "text/plain": [
              "x + 2*y + 1"
            ]
          },
          "metadata": {
            "tags": []
          },
          "execution_count": 5
        }
      ]
    },
    {
      "cell_type": "code",
      "metadata": {
        "id": "C_zPh871nOPm",
        "colab_type": "code",
        "colab": {
          "base_uri": "https://localhost:8080/",
          "height": 34
        },
        "outputId": "f999ede1-e842-46bc-9288-e54f0f8f2772"
      },
      "source": [
        "expr - x"
      ],
      "execution_count": null,
      "outputs": [
        {
          "output_type": "execute_result",
          "data": {
            "text/plain": [
              "2*y"
            ]
          },
          "metadata": {
            "tags": []
          },
          "execution_count": 6
        }
      ]
    },
    {
      "cell_type": "code",
      "metadata": {
        "id": "4F0Au7u-nPOp",
        "colab_type": "code",
        "colab": {
          "base_uri": "https://localhost:8080/",
          "height": 34
        },
        "outputId": "3cade8a0-6726-4e51-8442-f464dcf68239"
      },
      "source": [
        "x*expr"
      ],
      "execution_count": null,
      "outputs": [
        {
          "output_type": "execute_result",
          "data": {
            "text/plain": [
              "x*(x + 2*y)"
            ]
          },
          "metadata": {
            "tags": []
          },
          "execution_count": 7
        }
      ]
    },
    {
      "cell_type": "markdown",
      "metadata": {
        "id": "mC1pj7EznSSr",
        "colab_type": "text"
      },
      "source": [
        "Notice something in the above example.  When we typed `expr`, we did not\n",
        "get $x + 2 y-x$, but rather just $2y$.  The `x` and the `-x`\n",
        "automatically canceled one another.  This is similar to how `sqrt(8)`\n",
        "automatically turned into `2*sqrt(2)` above.  This isn’t always the case in\n",
        "SymPy, however:"
      ]
    },
    {
      "cell_type": "code",
      "metadata": {
        "id": "_KMjIJ5An_Q6",
        "colab_type": "code",
        "colab": {
          "base_uri": "https://localhost:8080/",
          "height": 34
        },
        "outputId": "1462cd9c-c5fc-4de7-f902-61f5a2db6b5a"
      },
      "source": [
        "from sympy import expand, factor\n",
        "expanded = expand(x*expr)\n",
        "expanded"
      ],
      "execution_count": null,
      "outputs": [
        {
          "output_type": "execute_result",
          "data": {
            "text/plain": [
              "x**2 + 2*x*y"
            ]
          },
          "metadata": {
            "tags": []
          },
          "execution_count": 8
        }
      ]
    },
    {
      "cell_type": "code",
      "metadata": {
        "id": "sIbZcTeMp_FI",
        "colab_type": "code",
        "colab": {
          "base_uri": "https://localhost:8080/",
          "height": 34
        },
        "outputId": "b5595086-fd86-40fc-99c2-cc4e9a242b58"
      },
      "source": [
        "factor(expanded)"
      ],
      "execution_count": null,
      "outputs": [
        {
          "output_type": "execute_result",
          "data": {
            "text/plain": [
              "x*(x + 2*y)"
            ]
          },
          "metadata": {
            "tags": []
          },
          "execution_count": 9
        }
      ]
    },
    {
      "cell_type": "markdown",
      "metadata": {
        "id": "K43lawUAqHq6",
        "colab_type": "text"
      },
      "source": [
        "# The Power of Symbolic Computation\n",
        "\n",
        "The real power of a symbolic computation system such as SymPy is the ability\n",
        "to do all sorts of computations symbolically.  SymPy can simplify expressions,\n",
        "compute derivatives, integrals, and limits, solve equations, work with\n",
        "matrices, and much, much more, and do it all symbolically.  It includes\n",
        "modules for plotting, printing (like 2D pretty printed output of math\n",
        "formulas, or $\\mathrm{\\LaTeX}$, code generation, physics, statistics, combinatorics,\n",
        "number theory, geometry, logic, and more. Here is a small sampling of the sort\n",
        "of symbolic power SymPy is capable of, to whet your appetite."
      ]
    },
    {
      "cell_type": "code",
      "metadata": {
        "id": "gkzF84itqQce",
        "colab_type": "code",
        "colab": {}
      },
      "source": [
        "from sympy import *\n",
        "x, t, z, nu = symbols('x t z nu')"
      ],
      "execution_count": null,
      "outputs": []
    },
    {
      "cell_type": "code",
      "metadata": {
        "id": "KljfIjLyrkS3",
        "colab_type": "code",
        "colab": {}
      },
      "source": [
        "#This will make things look pretty\n",
        "init_printing(use_unicode=True)"
      ],
      "execution_count": null,
      "outputs": []
    },
    {
      "cell_type": "markdown",
      "metadata": {
        "id": "ErSmTKgKr5Br",
        "colab_type": "text"
      },
      "source": [
        "*Take* the derivative of $sin{(x)}e^x$"
      ]
    },
    {
      "cell_type": "code",
      "metadata": {
        "id": "ZzaaGIC1ryah",
        "colab_type": "code",
        "colab": {
          "base_uri": "https://localhost:8080/",
          "height": 37
        },
        "outputId": "0001aed6-9041-465e-f603-96afaee47b0d"
      },
      "source": [
        "diff(sin(x)*exp(x), x)"
      ],
      "execution_count": null,
      "outputs": [
        {
          "output_type": "execute_result",
          "data": {
            "image/png": "[encoded data removed]",
            "text/latex": "$$e^{x} \\sin{\\left (x \\right )} + e^{x} \\cos{\\left (x \\right )}$$",
            "text/plain": [
              " x           x       \n",
              "ℯ ⋅sin(x) + ℯ ⋅cos(x)"
            ]
          },
          "metadata": {
            "tags": []
          },
          "execution_count": 12
        }
      ]
    },
    {
      "cell_type": "markdown",
      "metadata": {
        "id": "YDqlj8hVr35o",
        "colab_type": "text"
      },
      "source": [
        "Compute $\\int(e^x\\sin{(x)} + e^x\\cos{(x)})\\,dx$."
      ]
    },
    {
      "cell_type": "code",
      "metadata": {
        "id": "n2Y0greQsRLk",
        "colab_type": "code",
        "colab": {
          "base_uri": "https://localhost:8080/",
          "height": 37
        },
        "outputId": "1e4ee15e-05d8-450e-9256-5545c019b0e7"
      },
      "source": [
        "integrate(exp(x)*sin(x) + exp(x)*cos(x), x)"
      ],
      "execution_count": null,
      "outputs": [
        {
          "output_type": "execute_result",
          "data": {
            "image/png": "[encoded data removed]",
            "text/latex": "$$e^{x} \\sin{\\left (x \\right )}$$",
            "text/plain": [
              " x       \n",
              "ℯ ⋅sin(x)"
            ]
          },
          "metadata": {
            "tags": []
          },
          "execution_count": 13
        }
      ]
    },
    {
      "cell_type": "markdown",
      "metadata": {
        "id": "tGwR8PJNsUee",
        "colab_type": "text"
      },
      "source": [
        "Compute $\\int_{-\\infty}^\\infty \\sin{(x^2)}\\,dx$"
      ]
    },
    {
      "cell_type": "code",
      "metadata": {
        "id": "OmhlNt15zpsU",
        "colab_type": "code",
        "colab": {
          "base_uri": "https://localhost:8080/",
          "height": 42
        },
        "outputId": "5f14f0ff-2fd7-40d8-eaef-960511ed4b1d"
      },
      "source": [
        "integrate(sin(x**2), (x, -oo, oo))"
      ],
      "execution_count": null,
      "outputs": [
        {
          "output_type": "execute_result",
          "data": {
            "image/png": "[encoded data removed]",
            "text/latex": "$$\\frac{\\sqrt{2} \\sqrt{\\pi}}{2}$$",
            "text/plain": [
              "√2⋅√π\n",
              "─────\n",
              "  2  "
            ]
          },
          "metadata": {
            "tags": []
          },
          "execution_count": 14
        }
      ]
    },
    {
      "cell_type": "markdown",
      "metadata": {
        "id": "P7QikUHezqCr",
        "colab_type": "text"
      },
      "source": [
        "Find $\\lim_{x\\to 0}\\frac{\\sin{(x)}}{x}$"
      ]
    },
    {
      "cell_type": "code",
      "metadata": {
        "id": "0QBGR7FZzwkH",
        "colab_type": "code",
        "colab": {
          "base_uri": "https://localhost:8080/",
          "height": 36
        },
        "outputId": "65b61f74-5a35-4083-802e-6f60603718b4"
      },
      "source": [
        "limit(sin(x)/x, x, 0)"
      ],
      "execution_count": null,
      "outputs": [
        {
          "output_type": "execute_result",
          "data": {
            "image/png": "[encoded data removed]",
            "text/latex": "$$1$$",
            "text/plain": [
              "1"
            ]
          },
          "metadata": {
            "tags": []
          },
          "execution_count": 15
        }
      ]
    },
    {
      "cell_type": "markdown",
      "metadata": {
        "id": "-EDAFSjTzzC-",
        "colab_type": "text"
      },
      "source": [
        "Solve $x^2 - 2 = 0$"
      ]
    },
    {
      "cell_type": "code",
      "metadata": {
        "id": "UMzv_B8Rz5vZ",
        "colab_type": "code",
        "colab": {
          "base_uri": "https://localhost:8080/",
          "height": 38
        },
        "outputId": "329ff162-c252-45d2-938d-1c024465e514"
      },
      "source": [
        "solve(x**2 - 2, x)"
      ],
      "execution_count": null,
      "outputs": [
        {
          "output_type": "execute_result",
          "data": {
            "image/png": "[encoded data removed]",
            "text/latex": "$$\\left [ - \\sqrt{2}, \\quad \\sqrt{2}\\right ]$$",
            "text/plain": [
              "[-√2, √2]"
            ]
          },
          "metadata": {
            "tags": []
          },
          "execution_count": 16
        }
      ]
    },
    {
      "cell_type": "markdown",
      "metadata": {
        "id": "guNkBWt5z7oq",
        "colab_type": "text"
      },
      "source": [
        "Solve the differential equation $y'' - y = e^t$"
      ]
    },
    {
      "cell_type": "code",
      "metadata": {
        "id": "1CnagyUH5yw2",
        "colab_type": "code",
        "colab": {
          "base_uri": "https://localhost:8080/",
          "height": 38
        },
        "outputId": "284e49a8-5cd4-4d76-de28-55b088a708c8"
      },
      "source": [
        "y = Function('y')\n",
        "dsolve(Eq(y(t).diff(t, t) - y(t), exp(t)), y(t))"
      ],
      "execution_count": null,
      "outputs": [
        {
          "output_type": "execute_result",
          "data": {
            "image/png": "[encoded data removed]",
            "text/latex": "$$y{\\left (t \\right )} = C_{2} e^{- t} + \\left(C_{1} + \\frac{t}{2}\\right) e^{t}$$",
            "text/plain": [
              "           -t   ⎛     t⎞  t\n",
              "y(t) = C₂⋅ℯ   + ⎜C₁ + ─⎟⋅ℯ \n",
              "                ⎝     2⎠   "
            ]
          },
          "metadata": {
            "tags": []
          },
          "execution_count": 17
        }
      ]
    },
    {
      "cell_type": "markdown",
      "metadata": {
        "id": "7SFfFrGC68-k",
        "colab_type": "text"
      },
      "source": [
        "[link text](https://)Print$\\int_{0}^{\\pi} \\cos^{2}{\\left (x \\right )}\\, dx$ in $\\mathrm{\\LaTeX}$"
      ]
    },
    {
      "cell_type": "code",
      "metadata": {
        "id": "U0LIwIL585c7",
        "colab_type": "code",
        "colab": {
          "base_uri": "https://localhost:8080/",
          "height": 35
        },
        "outputId": "adacd05e-eae5-408f-b01a-06640fdb904a"
      },
      "source": [
        "latex(Integral(cos(x)**2, (x, 0, pi)))"
      ],
      "execution_count": null,
      "outputs": [
        {
          "output_type": "execute_result",
          "data": {
            "application/vnd.google.colaboratory.intrinsic": {
              "type": "string"
            },
            "text/plain": [
              "'\\\\int_{0}^{\\\\pi} \\\\cos^{2}{\\\\left (x \\\\right )}\\\\, dx'"
            ]
          },
          "metadata": {
            "tags": []
          },
          "execution_count": 21
        }
      ]
    },
    {
      "cell_type": "markdown",
      "metadata": {
        "id": "CCxOtTdO9N4u",
        "colab_type": "text"
      },
      "source": [
        "# Why Sympy\n",
        "\n",
        "\n",
        "1.   It is free and open source, you can even use it as part of something you sell\n",
        "2.   SymPy is written entirely in Python, and is executed entirely in Python. Thus it is interoperable\n",
        "3. It is very lightweight to download and install. Other packages might be Gb in size. \n",
        "4. It can be used as a library. There is an Application Programming Interface or API for use with other tools.\n",
        "\n"
      ]
    },
    {
      "cell_type": "markdown",
      "metadata": {
        "id": "vwFL810U-mu2",
        "colab_type": "text"
      },
      "source": [
        "# Series Expansion:\n",
        "SymPy can compute asymptotic series expansions of functions around a point. To\n",
        "compute the expansion of $f(x)$ around the point $x = x_0$ terms of order\n",
        "$x^n$ use `f(x).series(x,x0,n)`.`x0` and `n` can be omitted, in\n",
        "which case the defaults `x0=0` and `n=6` will be used."
      ]
    },
    {
      "cell_type": "code",
      "metadata": {
        "id": "pD6S6a3h89S-",
        "colab_type": "code",
        "colab": {
          "base_uri": "https://localhost:8080/",
          "height": 41
        },
        "outputId": "a4ce96b4-4349-4d49-d82f-f841b242f51e"
      },
      "source": [
        "expr = exp(sin(x))\n",
        "expr.series(x,0,4)"
      ],
      "execution_count": null,
      "outputs": [
        {
          "output_type": "execute_result",
          "data": {
            "image/png": "[encoded data removed]",
            "text/latex": "$$1 + x + \\frac{x^{2}}{2} + \\mathcal{O}\\left(x^{4}\\right)$$",
            "text/plain": [
              "         2        \n",
              "        x     ⎛ 4⎞\n",
              "1 + x + ── + O⎝x ⎠\n",
              "        2         "
            ]
          },
          "metadata": {
            "tags": []
          },
          "execution_count": 18
        }
      ]
    },
    {
      "cell_type": "markdown",
      "metadata": {
        "id": "FjB-kqk0_vWD",
        "colab_type": "text"
      },
      "source": [
        "The $O\\left(x^4\\right)$ term at the end represents the Landau order term at\n",
        "`x=0` (not to be confused with big O notation used in computer science, which\n",
        "generally represents the Landau order term at $x=\\infty$.  It means that all\n",
        "x terms with power greater than or equal to $x^4$ are omitted.  Order terms\n",
        "can be created and manipulated outside of `series`.  They automatically\n",
        "absorb higher order terms."
      ]
    },
    {
      "cell_type": "code",
      "metadata": {
        "id": "XWR2RYGm_oUz",
        "colab_type": "code",
        "colab": {
          "base_uri": "https://localhost:8080/",
          "height": 38
        },
        "outputId": "9df1d584-9701-4637-c75d-b90856c47491"
      },
      "source": [
        "x + x**3 + x**6 + O(x**4)"
      ],
      "execution_count": null,
      "outputs": [
        {
          "output_type": "execute_result",
          "data": {
            "image/png": "[encoded data removed]",
            "text/latex": "$$x + x^{3} + \\mathcal{O}\\left(x^{4}\\right)$$",
            "text/plain": [
              "     3    ⎛ 4⎞\n",
              "x + x  + O⎝x ⎠"
            ]
          },
          "metadata": {
            "tags": []
          },
          "execution_count": 19
        }
      ]
    },
    {
      "cell_type": "markdown",
      "metadata": {
        "id": "uK91XOQOAsMF",
        "colab_type": "text"
      },
      "source": [
        "# Lambdafy"
      ]
    },
    {
      "cell_type": "markdown",
      "metadata": {
        "id": "ZE5qJZqQA2EY",
        "colab_type": "text"
      },
      "source": [
        "The easiest way to convert a SymPy expression to an expression that can be numerically evaluated is to use the `lambdify` function. `lambdify` acts like a `lambda` function, except it converts the SymPy names to the names of the given numerical library, usually NumPy. For example"
      ]
    },
    {
      "cell_type": "markdown",
      "metadata": {
        "id": "miFbWHOHBH4u",
        "colab_type": "text"
      },
      "source": [
        "`Lambda` functions are just small anonymous functions"
      ]
    },
    {
      "cell_type": "code",
      "metadata": {
        "id": "wqrUCULgA_1r",
        "colab_type": "code",
        "colab": {
          "base_uri": "https://localhost:8080/",
          "height": 34
        },
        "outputId": "3e3b812d-a667-41e1-e2fa-f769b1dc0f19"
      },
      "source": [
        "import numpy as np\n",
        "x = lambda a : a + 10\n",
        "print(x(np.arange(10)))"
      ],
      "execution_count": null,
      "outputs": [
        {
          "output_type": "stream",
          "text": [
            "[10 11 12 13 14 15 16 17 18 19]\n"
          ],
          "name": "stdout"
        }
      ]
    },
    {
      "cell_type": "code",
      "metadata": {
        "id": "AaPNrYGfBTJi",
        "colab_type": "code",
        "colab": {
          "base_uri": "https://localhost:8080/",
          "height": 34
        },
        "outputId": "1900fd40-aaca-4d24-8116-c5cb2a89890f"
      },
      "source": [
        "x = lambda a, b : a * b\n",
        "print(x(5,6))"
      ],
      "execution_count": null,
      "outputs": [
        {
          "output_type": "stream",
          "text": [
            "30\n"
          ],
          "name": "stdout"
        }
      ]
    },
    {
      "cell_type": "code",
      "metadata": {
        "id": "qMc2Eo0yFjCy",
        "colab_type": "code",
        "colab": {
          "base_uri": "https://localhost:8080/",
          "height": 34
        },
        "outputId": "5952e250-00a1-4676-a819-bff5011d8bf0"
      },
      "source": [
        "def myfunc(n):\n",
        "  return lambda a : a * n\n",
        "\n",
        "mytripler = myfunc(3)\n",
        "\n",
        "print(mytripler(11))"
      ],
      "execution_count": null,
      "outputs": [
        {
          "output_type": "stream",
          "text": [
            "33\n"
          ],
          "name": "stdout"
        }
      ]
    },
    {
      "cell_type": "code",
      "metadata": {
        "id": "BZbr3TFOAqxm",
        "colab_type": "code",
        "colab": {
          "base_uri": "https://localhost:8080/",
          "height": 52
        },
        "outputId": "cc98e456-53ae-47de-cbb1-4d7440772532"
      },
      "source": [
        "a = np.arange(10)\n",
        "expr = sin(x)\n",
        "\n",
        "f = lambdify(x, expr)\n",
        "\n",
        "f(a)\n"
      ],
      "execution_count": null,
      "outputs": [
        {
          "output_type": "execute_result",
          "data": {
            "text/plain": [
              "array([ 0.        ,  0.84147098,  0.90929743,  0.14112001, -0.7568025 ,\n",
              "       -0.95892427, -0.2794155 ,  0.6569866 ,  0.98935825,  0.41211849])"
            ]
          },
          "metadata": {
            "tags": []
          },
          "execution_count": 31
        }
      ]
    }
  ]
}