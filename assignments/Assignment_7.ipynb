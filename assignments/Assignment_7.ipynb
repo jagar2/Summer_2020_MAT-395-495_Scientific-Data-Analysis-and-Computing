{
  "nbformat": 4,
  "nbformat_minor": 0,
  "metadata": {
    "colab": {
      "name": "Assignment 7",
      "provenance": []
    },
    "kernelspec": {
      "name": "python3",
      "display_name": "Python 3"
    }
  },
  "cells": [
    {
      "cell_type": "markdown",
      "metadata": {
        "id": "IIucg4Rmnp_i",
        "colab_type": "text"
      },
      "source": [
        "In class we manually made a vertical kernel and applied it as an edge filter. To conduct more complex image analysis it is common to build more complex filters. For this assignment I want you to compute the magnitude of the 2d gradient at every point. Follow the hints provided: "
      ]
    },
    {
      "cell_type": "code",
      "metadata": {
        "id": "lyViccF-nLVy",
        "colab_type": "code",
        "colab": {}
      },
      "source": [
        "import numpy as np\n",
        "import scipy.ndimage as ndi\n",
        "from skimage import data\n",
        "import matplotlib.pyplot as plt"
      ],
      "execution_count": 10,
      "outputs": []
    },
    {
      "cell_type": "code",
      "metadata": {
        "id": "evpTjybu4m5Z",
        "colab_type": "code",
        "colab": {
          "base_uri": "https://localhost:8080/",
          "height": 285
        },
        "outputId": "b06e6627-1362-4e3d-f21a-5a94edf97804"
      },
      "source": [
        "image = data.camera()\n",
        "\n",
        "pixelated = image[::10, ::10]\n",
        "\n",
        "vertical_kernel = np.array([\n",
        "    [-1],\n",
        "    [ 0],\n",
        "    [ 1],\n",
        "])\n",
        "\n",
        "gradient_vertical = ndi.correlate(pixelated.astype(float),\n",
        "                                  vertical_kernel)\n",
        "\n",
        "plt.imshow(gradient_vertical)"
      ],
      "execution_count": 11,
      "outputs": [
        {
          "output_type": "execute_result",
          "data": {
            "text/plain": [
              "<matplotlib.image.AxesImage at 0x7fd787476f28>"
            ]
          },
          "metadata": {
            "tags": []
          },
          "execution_count": 11
        },
        {
          "output_type": "display_data",
          "data": {
            "image/png": "[encoded data removed]",
            "text/plain": [
              "<Figure size 432x288 with 1 Axes>"
            ]
          },
          "metadata": {
            "tags": [],
            "needs_background": "light"
          }
        }
      ]
    },
    {
      "cell_type": "markdown",
      "metadata": {
        "id": "UEXioL46pGZz",
        "colab_type": "text"
      },
      "source": [
        "1. Create a horizontal kernel\n",
        "2. Compute the filter on the example image\n",
        "3. Plot the horizontal gradient"
      ]
    },
    {
      "cell_type": "markdown",
      "metadata": {
        "id": "HxaDXRx9pjoV",
        "colab_type": "text"
      },
      "source": [
        "1. Compute the magnitude of the image gradient. Assume the magitude is linear (or euclidian) $\\left|g\\right| = \\sqrt{g_x^2 + g_y^2}$\n",
        "\n",
        "Note: Kernels and gradients are just matrices. Thus, standard mathamatical operations addition, substraction, multiplication, etc., can be applied.\n",
        "\n",
        "2. Plot the final result on the example image"
      ]
    },
    {
      "cell_type": "markdown",
      "metadata": {
        "id": "vTSEdvx3qi73",
        "colab_type": "text"
      },
      "source": [
        "# Bonus:\n",
        "Apply this filter on an image of your choice from the web or personal picture of your choice."
      ]
    },
    {
      "cell_type": "code",
      "metadata": {
        "id": "pos8dtHBqf9v",
        "colab_type": "code",
        "colab": {}
      },
      "source": [
        ""
      ],
      "execution_count": null,
      "outputs": []
    }
  ]
}