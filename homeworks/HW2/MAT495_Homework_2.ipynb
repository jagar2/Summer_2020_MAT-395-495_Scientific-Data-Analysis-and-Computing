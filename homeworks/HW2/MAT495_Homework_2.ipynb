{
  "nbformat": 4,
  "nbformat_minor": 0,
  "metadata": {
    "colab": {
      "name": "MAT495_Homework_2.ipynb",
      "provenance": []
    },
    "kernelspec": {
      "name": "python3",
      "display_name": "Python 3"
    }
  },
  "cells": [
    {
      "cell_type": "markdown",
      "metadata": {
        "id": "_mBhb1lsjZD8",
        "colab_type": "text"
      },
      "source": [
        "#Homework 2\n",
        "\n",
        "The College of Engineering Deans office has decided to make a new Associate Dean of Branding. Their first mission is to create a new mascot the Golden Zebra. While activly trying to procure a Golden Zebra they have tasked you with fabricating an image of our new mascot for immediate publication in the Resolve Magazine. Follow the instructions to create our new mascot. \n",
        "\n",
        "Please use the offical Lehigh colors.\n",
        "\n",
        "#### Useful functions:\n",
        "\n",
        "`logical_or`\n",
        "`logical_and`"
      ]
    },
    {
      "cell_type": "markdown",
      "metadata": {
        "id": "fDtzUC4OMNjU",
        "colab_type": "text"
      },
      "source": [
        "## Step 1: Download the original image file"
      ]
    },
    {
      "cell_type": "markdown",
      "metadata": {
        "id": "GNiDKGK1MMdl",
        "colab_type": "text"
      },
      "source": [
        "## Step 2: Load and plot the original image"
      ]
    },
    {
      "cell_type": "markdown",
      "metadata": {
        "id": "EWjag9viMgKi",
        "colab_type": "text"
      },
      "source": [
        "## Step 3 Initial color-based segmentation of image. \n",
        "\n",
        "Recolor the numpy array of the zebra image using color thresholding to create a golden zebra. \n",
        "\n",
        "#### Hint: Make a copy of the data using `np.copy` so you do not overwrite your data\n",
        "#### Hint: It might be helpful to convert the image to grayscale for segmenting\n",
        "\n",
        "Make sure to plot your result. It is unlikely that you will accuratly segment the Zebra using color thresholding. \n"
      ]
    },
    {
      "cell_type": "markdown",
      "metadata": {
        "id": "8tIiSZU3NGKW",
        "colab_type": "text"
      },
      "source": [
        "# Step 4: Improve the segmentation. \n",
        "\n",
        "It is likely that you were unable to segment the image using just color thresholding. Likely you picked up some of the grass. To fix this, in part, use `scikit-learn` and the following proceedure. \n",
        "\n",
        "1. Start with the previous segmentation of the zebra. Hint: it is helpful if this is in binary form. \n",
        "2. Use a function to remove small objects in the image.\n",
        "3. Use a dialation (pixel wise addition of a binary image) followed by an errosion (pixel wise subtraction of a binary image). This helps close objects with small gaps. \n",
        "4. Fill the holes. Hint: You should use a function `binary_fill_holes` in scipy.ndimage\n",
        "5. plot the binary mask of the zebra."
      ]
    },
    {
      "cell_type": "markdown",
      "metadata": {
        "id": "PkH71XCXN_b8",
        "colab_type": "text"
      },
      "source": [
        "# Step 5: Plot a histogram of the gray scale values of just the Zebra.\n",
        "#### Hint: You can index with the binary mask.  "
      ]
    },
    {
      "cell_type": "markdown",
      "metadata": {
        "id": "KGD6iDfWPid4",
        "colab_type": "text"
      },
      "source": [
        "#Step 6: Use the histogram to recolor the zebra stripes to make a golden zebra. Use the official Lehigh Brown and Gold. "
      ]
    }
  ]
}